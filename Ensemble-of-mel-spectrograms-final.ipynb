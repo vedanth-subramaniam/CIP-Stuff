{
 "cells": [
  {
   "cell_type": "code",
   "execution_count": 1,
   "id": "worthy-minority",
   "metadata": {
    "_cell_guid": "b1076dfc-b9ad-4769-8c92-a6c4dae69d19",
    "_uuid": "8f2839f25d086af736a60e9eeb907d3b93b6e0e5",
    "execution": {
     "iopub.execute_input": "2021-05-03T06:36:51.549639Z",
     "iopub.status.busy": "2021-05-03T06:36:51.548109Z",
     "iopub.status.idle": "2021-05-03T06:36:58.778415Z",
     "shell.execute_reply": "2021-05-03T06:36:58.777057Z"
    },
    "papermill": {
     "duration": 7.24993,
     "end_time": "2021-05-03T06:36:58.778574",
     "exception": false,
     "start_time": "2021-05-03T06:36:51.528644",
     "status": "completed"
    },
    "tags": []
   },
   "outputs": [],
   "source": [
    "#import libraries\n",
    "import numpy as np\n",
    "import pandas as pd\n",
    "import os,sys\n",
    "import matplotlib.pyplot as plt\n",
    "import librosa\n",
    "import librosa.display\n",
    "from tqdm import tqdm\n",
    "import IPython.display as ipd\n",
    "from IPython.core.display import display\n",
    "import tensorflow as tf\n",
    "import tensorflow.keras.backend as K\n",
    "from tensorflow.keras.models import Sequential\n",
    "from tensorflow.keras.layers import Conv2D, MaxPooling2D\n",
    "from tensorflow.keras.layers import Dense, Dropout, Flatten, Activation, Softmax,BatchNormalization,GlobalAveragePooling2D,Average\n",
    "from tensorflow.keras.utils import to_categorical\n",
    "from keras.models import Model, Input"
   ]
  },
  {
   "cell_type": "code",
   "execution_count": 2,
   "id": "equipped-portsmouth",
   "metadata": {
    "execution": {
     "iopub.execute_input": "2021-05-03T06:36:58.814802Z",
     "iopub.status.busy": "2021-05-03T06:36:58.814117Z",
     "iopub.status.idle": "2021-05-03T06:36:58.817051Z",
     "shell.execute_reply": "2021-05-03T06:36:58.816656Z"
    },
    "papermill": {
     "duration": 0.024014,
     "end_time": "2021-05-03T06:36:58.817171",
     "exception": false,
     "start_time": "2021-05-03T06:36:58.793157",
     "status": "completed"
    },
    "tags": []
   },
   "outputs": [],
   "source": [
    "def create_keras_model_1(model_input, num_classes):\n",
    "    x = Conv2D(64, kernel_size=3, activation=\"relu\")(model_input)\n",
    "    x = MaxPooling2D(pool_size=(2, 2))(x)\n",
    "    x = Conv2D(128, kernel_size=3, activation=\"relu\")(x)\n",
    "    x = MaxPooling2D(pool_size=(2, 2))(x)\n",
    "    x = Conv2D(256, kernel_size=3, activation=\"relu\")(x)\n",
    "    x = MaxPooling2D(pool_size=(2, 2))(x)\n",
    "    x = Conv2D(256, kernel_size=3, activation=\"relu\")(x)\n",
    "    x = MaxPooling2D(pool_size=(2, 2))(x)\n",
    "    x = Flatten()(x)\n",
    "    x = Dense(256, activation = 'relu')(x)\n",
    "    x = Dropout(0.7)(x)\n",
    "    x = Dense(num_classes, activation=\"softmax\")(x)\n",
    "    model = Model(model_input, x, name='model_1')\n",
    "    \n",
    "    return model"
   ]
  },
  {
   "cell_type": "code",
   "execution_count": 3,
   "id": "afraid-shakespeare",
   "metadata": {
    "execution": {
     "iopub.execute_input": "2021-05-03T06:36:58.852971Z",
     "iopub.status.busy": "2021-05-03T06:36:58.852305Z",
     "iopub.status.idle": "2021-05-03T06:36:58.855085Z",
     "shell.execute_reply": "2021-05-03T06:36:58.854594Z"
    },
    "papermill": {
     "duration": 0.023925,
     "end_time": "2021-05-03T06:36:58.855197",
     "exception": false,
     "start_time": "2021-05-03T06:36:58.831272",
     "status": "completed"
    },
    "tags": []
   },
   "outputs": [],
   "source": [
    "def create_keras_model_2(model_input, num_classes):\n",
    "\n",
    "    x = Conv2D(64, kernel_size=(3, 3), activation='relu')(model_input)\n",
    "    x = BatchNormalization()(x)\n",
    "\n",
    "    x = MaxPooling2D(pool_size=(3, 3))(x)\n",
    "    x = Conv2D(128, kernel_size=(3, 3), activation='relu')(x)\n",
    "    x = BatchNormalization()(x)\n",
    "\n",
    "    x = Conv2D(128, kernel_size=(3, 3), activation='relu')(x)\n",
    "    x = BatchNormalization()(x)\n",
    "\n",
    "    x = MaxPooling2D(pool_size=(3, 3))(x)\n",
    "\n",
    "    x = Flatten()(x)\n",
    "    x = Dense(128, activation='relu')(x)\n",
    "    x = BatchNormalization()(x)\n",
    "    x = Dropout(0.25)(x)\n",
    "    x = Dense(64, activation='relu')(x)\n",
    "    x = BatchNormalization()(x)\n",
    "    x = Dropout(0.4)(x)\n",
    "    x = Dense(num_classes, activation='softmax')(x)\n",
    "    model = Model(model_input, x, name='model_2')\n",
    "\n",
    "    return model"
   ]
  },
  {
   "cell_type": "code",
   "execution_count": 4,
   "id": "brave-maryland",
   "metadata": {
    "execution": {
     "iopub.execute_input": "2021-05-03T06:36:58.887261Z",
     "iopub.status.busy": "2021-05-03T06:36:58.886748Z",
     "iopub.status.idle": "2021-05-03T06:36:58.900723Z",
     "shell.execute_reply": "2021-05-03T06:36:58.900051Z"
    },
    "papermill": {
     "duration": 0.031591,
     "end_time": "2021-05-03T06:36:58.900836",
     "exception": false,
     "start_time": "2021-05-03T06:36:58.869245",
     "status": "completed"
    },
    "tags": []
   },
   "outputs": [],
   "source": [
    "model_input = Input(shape=(128,216,1))"
   ]
  },
  {
   "cell_type": "code",
   "execution_count": 5,
   "id": "technical-limitation",
   "metadata": {
    "execution": {
     "iopub.execute_input": "2021-05-03T06:36:58.939819Z",
     "iopub.status.busy": "2021-05-03T06:36:58.939164Z",
     "iopub.status.idle": "2021-05-03T06:37:02.697880Z",
     "shell.execute_reply": "2021-05-03T06:37:02.697337Z"
    },
    "papermill": {
     "duration": 3.782797,
     "end_time": "2021-05-03T06:37:02.698016",
     "exception": false,
     "start_time": "2021-05-03T06:36:58.915219",
     "status": "completed"
    },
    "tags": []
   },
   "outputs": [],
   "source": [
    "model_1 = create_keras_model_1(model_input,50)\n",
    "model_1.load_weights('../input/mel-spectrogram-training-architectures/mel_model_1.h5')"
   ]
  },
  {
   "cell_type": "code",
   "execution_count": 6,
   "id": "joint-pacific",
   "metadata": {
    "execution": {
     "iopub.execute_input": "2021-05-03T06:37:02.733779Z",
     "iopub.status.busy": "2021-05-03T06:37:02.732776Z",
     "iopub.status.idle": "2021-05-03T06:37:03.325502Z",
     "shell.execute_reply": "2021-05-03T06:37:03.324075Z"
    },
    "papermill": {
     "duration": 0.612409,
     "end_time": "2021-05-03T06:37:03.325650",
     "exception": false,
     "start_time": "2021-05-03T06:37:02.713241",
     "status": "completed"
    },
    "tags": []
   },
   "outputs": [],
   "source": [
    "model_2 = create_keras_model_2(model_input,50)\n",
    "model_2.load_weights('../input/mel-spectrogram-training-architectures/mel_model_2.h5')"
   ]
  },
  {
   "cell_type": "code",
   "execution_count": 7,
   "id": "bigger-mixture",
   "metadata": {
    "execution": {
     "iopub.execute_input": "2021-05-03T06:37:03.360973Z",
     "iopub.status.busy": "2021-05-03T06:37:03.360112Z",
     "iopub.status.idle": "2021-05-03T06:37:03.362681Z",
     "shell.execute_reply": "2021-05-03T06:37:03.362248Z"
    },
    "papermill": {
     "duration": 0.021118,
     "end_time": "2021-05-03T06:37:03.362797",
     "exception": false,
     "start_time": "2021-05-03T06:37:03.341679",
     "status": "completed"
    },
    "tags": []
   },
   "outputs": [],
   "source": [
    "models = [model_1,model_2]"
   ]
  },
  {
   "cell_type": "code",
   "execution_count": 8,
   "id": "rocky-independence",
   "metadata": {
    "execution": {
     "iopub.execute_input": "2021-05-03T06:37:03.396587Z",
     "iopub.status.busy": "2021-05-03T06:37:03.395933Z",
     "iopub.status.idle": "2021-05-03T06:37:03.405550Z",
     "shell.execute_reply": "2021-05-03T06:37:03.404835Z"
    },
    "papermill": {
     "duration": 0.028267,
     "end_time": "2021-05-03T06:37:03.405710",
     "exception": false,
     "start_time": "2021-05-03T06:37:03.377443",
     "status": "completed"
    },
    "tags": []
   },
   "outputs": [
    {
     "name": "stdout",
     "output_type": "stream",
     "text": [
      "Model: \"model_1\"\n",
      "_________________________________________________________________\n",
      "Layer (type)                 Output Shape              Param #   \n",
      "=================================================================\n",
      "input_1 (InputLayer)         [(None, 128, 216, 1)]     0         \n",
      "_________________________________________________________________\n",
      "conv2d (Conv2D)              (None, 126, 214, 64)      640       \n",
      "_________________________________________________________________\n",
      "max_pooling2d (MaxPooling2D) (None, 63, 107, 64)       0         \n",
      "_________________________________________________________________\n",
      "conv2d_1 (Conv2D)            (None, 61, 105, 128)      73856     \n",
      "_________________________________________________________________\n",
      "max_pooling2d_1 (MaxPooling2 (None, 30, 52, 128)       0         \n",
      "_________________________________________________________________\n",
      "conv2d_2 (Conv2D)            (None, 28, 50, 256)       295168    \n",
      "_________________________________________________________________\n",
      "max_pooling2d_2 (MaxPooling2 (None, 14, 25, 256)       0         \n",
      "_________________________________________________________________\n",
      "conv2d_3 (Conv2D)            (None, 12, 23, 256)       590080    \n",
      "_________________________________________________________________\n",
      "max_pooling2d_3 (MaxPooling2 (None, 6, 11, 256)        0         \n",
      "_________________________________________________________________\n",
      "flatten (Flatten)            (None, 16896)             0         \n",
      "_________________________________________________________________\n",
      "dense (Dense)                (None, 256)               4325632   \n",
      "_________________________________________________________________\n",
      "dropout (Dropout)            (None, 256)               0         \n",
      "_________________________________________________________________\n",
      "dense_1 (Dense)              (None, 50)                12850     \n",
      "=================================================================\n",
      "Total params: 5,298,226\n",
      "Trainable params: 5,298,226\n",
      "Non-trainable params: 0\n",
      "_________________________________________________________________\n"
     ]
    }
   ],
   "source": [
    "model_1.summary()"
   ]
  },
  {
   "cell_type": "code",
   "execution_count": 9,
   "id": "beautiful-horse",
   "metadata": {
    "execution": {
     "iopub.execute_input": "2021-05-03T06:37:03.443970Z",
     "iopub.status.busy": "2021-05-03T06:37:03.442196Z",
     "iopub.status.idle": "2021-05-03T06:37:03.450445Z",
     "shell.execute_reply": "2021-05-03T06:37:03.451310Z"
    },
    "papermill": {
     "duration": 0.029851,
     "end_time": "2021-05-03T06:37:03.451546",
     "exception": false,
     "start_time": "2021-05-03T06:37:03.421695",
     "status": "completed"
    },
    "tags": []
   },
   "outputs": [
    {
     "name": "stdout",
     "output_type": "stream",
     "text": [
      "Model: \"model_2\"\n",
      "_________________________________________________________________\n",
      "Layer (type)                 Output Shape              Param #   \n",
      "=================================================================\n",
      "input_1 (InputLayer)         [(None, 128, 216, 1)]     0         \n",
      "_________________________________________________________________\n",
      "conv2d_4 (Conv2D)            (None, 126, 214, 64)      640       \n",
      "_________________________________________________________________\n",
      "batch_normalization (BatchNo (None, 126, 214, 64)      256       \n",
      "_________________________________________________________________\n",
      "max_pooling2d_4 (MaxPooling2 (None, 42, 71, 64)        0         \n",
      "_________________________________________________________________\n",
      "conv2d_5 (Conv2D)            (None, 40, 69, 128)       73856     \n",
      "_________________________________________________________________\n",
      "batch_normalization_1 (Batch (None, 40, 69, 128)       512       \n",
      "_________________________________________________________________\n",
      "conv2d_6 (Conv2D)            (None, 38, 67, 128)       147584    \n",
      "_________________________________________________________________\n",
      "batch_normalization_2 (Batch (None, 38, 67, 128)       512       \n",
      "_________________________________________________________________\n",
      "max_pooling2d_5 (MaxPooling2 (None, 12, 22, 128)       0         \n",
      "_________________________________________________________________\n",
      "flatten_1 (Flatten)          (None, 33792)             0         \n",
      "_________________________________________________________________\n",
      "dense_2 (Dense)              (None, 128)               4325504   \n",
      "_________________________________________________________________\n",
      "batch_normalization_3 (Batch (None, 128)               512       \n",
      "_________________________________________________________________\n",
      "dropout_1 (Dropout)          (None, 128)               0         \n",
      "_________________________________________________________________\n",
      "dense_3 (Dense)              (None, 64)                8256      \n",
      "_________________________________________________________________\n",
      "batch_normalization_4 (Batch (None, 64)                256       \n",
      "_________________________________________________________________\n",
      "dropout_2 (Dropout)          (None, 64)                0         \n",
      "_________________________________________________________________\n",
      "dense_4 (Dense)              (None, 50)                3250      \n",
      "=================================================================\n",
      "Total params: 4,561,138\n",
      "Trainable params: 4,560,114\n",
      "Non-trainable params: 1,024\n",
      "_________________________________________________________________\n"
     ]
    }
   ],
   "source": [
    "model_2.summary()"
   ]
  },
  {
   "cell_type": "code",
   "execution_count": 10,
   "id": "sitting-spanish",
   "metadata": {
    "execution": {
     "iopub.execute_input": "2021-05-03T06:37:03.487662Z",
     "iopub.status.busy": "2021-05-03T06:37:03.487020Z",
     "iopub.status.idle": "2021-05-03T06:37:03.489337Z",
     "shell.execute_reply": "2021-05-03T06:37:03.489869Z"
    },
    "papermill": {
     "duration": 0.022206,
     "end_time": "2021-05-03T06:37:03.489999",
     "exception": false,
     "start_time": "2021-05-03T06:37:03.467793",
     "status": "completed"
    },
    "tags": []
   },
   "outputs": [],
   "source": [
    "def ensemble(models,model_input):\n",
    "    \n",
    "    outputs = [model.outputs[0] for model in models]\n",
    "    y = Average()(outputs)\n",
    "    \n",
    "    model = Model(model_input, y, name='ensemble')\n",
    "    \n",
    "    return model"
   ]
  },
  {
   "cell_type": "code",
   "execution_count": 11,
   "id": "welcome-filter",
   "metadata": {
    "execution": {
     "iopub.execute_input": "2021-05-03T06:37:03.532480Z",
     "iopub.status.busy": "2021-05-03T06:37:03.525866Z",
     "iopub.status.idle": "2021-05-03T06:37:03.535205Z",
     "shell.execute_reply": "2021-05-03T06:37:03.534799Z"
    },
    "papermill": {
     "duration": 0.029729,
     "end_time": "2021-05-03T06:37:03.535309",
     "exception": false,
     "start_time": "2021-05-03T06:37:03.505580",
     "status": "completed"
    },
    "tags": []
   },
   "outputs": [],
   "source": [
    "ensemble_model = ensemble(models,model_input)"
   ]
  },
  {
   "cell_type": "code",
   "execution_count": 12,
   "id": "compact-packet",
   "metadata": {
    "execution": {
     "iopub.execute_input": "2021-05-03T06:37:03.571266Z",
     "iopub.status.busy": "2021-05-03T06:37:03.570461Z",
     "iopub.status.idle": "2021-05-03T06:37:03.587956Z",
     "shell.execute_reply": "2021-05-03T06:37:03.586867Z"
    },
    "papermill": {
     "duration": 0.037122,
     "end_time": "2021-05-03T06:37:03.588070",
     "exception": false,
     "start_time": "2021-05-03T06:37:03.550948",
     "status": "completed"
    },
    "tags": []
   },
   "outputs": [
    {
     "name": "stdout",
     "output_type": "stream",
     "text": [
      "Model: \"ensemble\"\n",
      "__________________________________________________________________________________________________\n",
      "Layer (type)                    Output Shape         Param #     Connected to                     \n",
      "==================================================================================================\n",
      "input_1 (InputLayer)            [(None, 128, 216, 1) 0                                            \n",
      "__________________________________________________________________________________________________\n",
      "conv2d_4 (Conv2D)               (None, 126, 214, 64) 640         input_1[0][0]                    \n",
      "__________________________________________________________________________________________________\n",
      "batch_normalization (BatchNorma (None, 126, 214, 64) 256         conv2d_4[0][0]                   \n",
      "__________________________________________________________________________________________________\n",
      "max_pooling2d_4 (MaxPooling2D)  (None, 42, 71, 64)   0           batch_normalization[0][0]        \n",
      "__________________________________________________________________________________________________\n",
      "conv2d_5 (Conv2D)               (None, 40, 69, 128)  73856       max_pooling2d_4[0][0]            \n",
      "__________________________________________________________________________________________________\n",
      "conv2d (Conv2D)                 (None, 126, 214, 64) 640         input_1[0][0]                    \n",
      "__________________________________________________________________________________________________\n",
      "batch_normalization_1 (BatchNor (None, 40, 69, 128)  512         conv2d_5[0][0]                   \n",
      "__________________________________________________________________________________________________\n",
      "max_pooling2d (MaxPooling2D)    (None, 63, 107, 64)  0           conv2d[0][0]                     \n",
      "__________________________________________________________________________________________________\n",
      "conv2d_6 (Conv2D)               (None, 38, 67, 128)  147584      batch_normalization_1[0][0]      \n",
      "__________________________________________________________________________________________________\n",
      "conv2d_1 (Conv2D)               (None, 61, 105, 128) 73856       max_pooling2d[0][0]              \n",
      "__________________________________________________________________________________________________\n",
      "batch_normalization_2 (BatchNor (None, 38, 67, 128)  512         conv2d_6[0][0]                   \n",
      "__________________________________________________________________________________________________\n",
      "max_pooling2d_1 (MaxPooling2D)  (None, 30, 52, 128)  0           conv2d_1[0][0]                   \n",
      "__________________________________________________________________________________________________\n",
      "max_pooling2d_5 (MaxPooling2D)  (None, 12, 22, 128)  0           batch_normalization_2[0][0]      \n",
      "__________________________________________________________________________________________________\n",
      "conv2d_2 (Conv2D)               (None, 28, 50, 256)  295168      max_pooling2d_1[0][0]            \n",
      "__________________________________________________________________________________________________\n",
      "flatten_1 (Flatten)             (None, 33792)        0           max_pooling2d_5[0][0]            \n",
      "__________________________________________________________________________________________________\n",
      "max_pooling2d_2 (MaxPooling2D)  (None, 14, 25, 256)  0           conv2d_2[0][0]                   \n",
      "__________________________________________________________________________________________________\n",
      "dense_2 (Dense)                 (None, 128)          4325504     flatten_1[0][0]                  \n",
      "__________________________________________________________________________________________________\n",
      "conv2d_3 (Conv2D)               (None, 12, 23, 256)  590080      max_pooling2d_2[0][0]            \n",
      "__________________________________________________________________________________________________\n",
      "batch_normalization_3 (BatchNor (None, 128)          512         dense_2[0][0]                    \n",
      "__________________________________________________________________________________________________\n",
      "max_pooling2d_3 (MaxPooling2D)  (None, 6, 11, 256)   0           conv2d_3[0][0]                   \n",
      "__________________________________________________________________________________________________\n",
      "dropout_1 (Dropout)             (None, 128)          0           batch_normalization_3[0][0]      \n",
      "__________________________________________________________________________________________________\n",
      "flatten (Flatten)               (None, 16896)        0           max_pooling2d_3[0][0]            \n",
      "__________________________________________________________________________________________________\n",
      "dense_3 (Dense)                 (None, 64)           8256        dropout_1[0][0]                  \n",
      "__________________________________________________________________________________________________\n",
      "dense (Dense)                   (None, 256)          4325632     flatten[0][0]                    \n",
      "__________________________________________________________________________________________________\n",
      "batch_normalization_4 (BatchNor (None, 64)           256         dense_3[0][0]                    \n",
      "__________________________________________________________________________________________________\n",
      "dropout (Dropout)               (None, 256)          0           dense[0][0]                      \n",
      "__________________________________________________________________________________________________\n",
      "dropout_2 (Dropout)             (None, 64)           0           batch_normalization_4[0][0]      \n",
      "__________________________________________________________________________________________________\n",
      "dense_1 (Dense)                 (None, 50)           12850       dropout[0][0]                    \n",
      "__________________________________________________________________________________________________\n",
      "dense_4 (Dense)                 (None, 50)           3250        dropout_2[0][0]                  \n",
      "__________________________________________________________________________________________________\n",
      "average (Average)               (None, 50)           0           dense_1[0][0]                    \n",
      "                                                                 dense_4[0][0]                    \n",
      "==================================================================================================\n",
      "Total params: 9,859,364\n",
      "Trainable params: 9,858,340\n",
      "Non-trainable params: 1,024\n",
      "__________________________________________________________________________________________________\n"
     ]
    }
   ],
   "source": [
    "ensemble_model.summary()"
   ]
  },
  {
   "cell_type": "code",
   "execution_count": 13,
   "id": "floral-seating",
   "metadata": {
    "execution": {
     "iopub.execute_input": "2021-05-03T06:37:03.624090Z",
     "iopub.status.busy": "2021-05-03T06:37:03.623595Z",
     "iopub.status.idle": "2021-05-03T06:37:04.142617Z",
     "shell.execute_reply": "2021-05-03T06:37:04.141843Z"
    },
    "papermill": {
     "duration": 0.538412,
     "end_time": "2021-05-03T06:37:04.142749",
     "exception": false,
     "start_time": "2021-05-03T06:37:03.604337",
     "status": "completed"
    },
    "tags": []
   },
   "outputs": [],
   "source": [
    "mel_test_data_cat = np.load('../input/test-data-esc-50/mel_test_data_cat.npy',allow_pickle=True)"
   ]
  },
  {
   "cell_type": "code",
   "execution_count": 14,
   "id": "continued-devil",
   "metadata": {
    "execution": {
     "iopub.execute_input": "2021-05-03T06:37:04.184504Z",
     "iopub.status.busy": "2021-05-03T06:37:04.181994Z",
     "iopub.status.idle": "2021-05-03T06:37:05.443438Z",
     "shell.execute_reply": "2021-05-03T06:37:05.444037Z"
    },
    "papermill": {
     "duration": 1.283468,
     "end_time": "2021-05-03T06:37:05.444241",
     "exception": false,
     "start_time": "2021-05-03T06:37:04.160773",
     "status": "completed"
    },
    "tags": []
   },
   "outputs": [
    {
     "name": "stderr",
     "output_type": "stream",
     "text": [
      "100%|██████████| 200/200 [00:01<00:00, 159.69it/s]\n"
     ]
    }
   ],
   "source": [
    "x_test_mel = np.zeros((1,128,216))\n",
    "for i in tqdm(range(200)):\n",
    "    x_test_mel = np.append(x_test_mel,[mel_test_data_cat[i][0][:,:,-1]],axis=0)"
   ]
  },
  {
   "cell_type": "code",
   "execution_count": 15,
   "id": "numerical-titanium",
   "metadata": {
    "execution": {
     "iopub.execute_input": "2021-05-03T06:37:05.486060Z",
     "iopub.status.busy": "2021-05-03T06:37:05.484567Z",
     "iopub.status.idle": "2021-05-03T06:37:05.486887Z",
     "shell.execute_reply": "2021-05-03T06:37:05.487316Z"
    },
    "papermill": {
     "duration": 0.024267,
     "end_time": "2021-05-03T06:37:05.487455",
     "exception": false,
     "start_time": "2021-05-03T06:37:05.463188",
     "status": "completed"
    },
    "tags": []
   },
   "outputs": [],
   "source": [
    "x_test_mel = x_test_mel[1:,:,:]"
   ]
  },
  {
   "cell_type": "code",
   "execution_count": 16,
   "id": "preceding-begin",
   "metadata": {
    "execution": {
     "iopub.execute_input": "2021-05-03T06:37:05.528092Z",
     "iopub.status.busy": "2021-05-03T06:37:05.526448Z",
     "iopub.status.idle": "2021-05-03T06:37:05.528756Z",
     "shell.execute_reply": "2021-05-03T06:37:05.529168Z"
    },
    "papermill": {
     "duration": 0.024068,
     "end_time": "2021-05-03T06:37:05.529285",
     "exception": false,
     "start_time": "2021-05-03T06:37:05.505217",
     "status": "completed"
    },
    "tags": []
   },
   "outputs": [],
   "source": [
    "x_test_mel = x_test_mel[:,:,:,np.newaxis]"
   ]
  },
  {
   "cell_type": "code",
   "execution_count": 17,
   "id": "banner-finnish",
   "metadata": {
    "execution": {
     "iopub.execute_input": "2021-05-03T06:37:05.569640Z",
     "iopub.status.busy": "2021-05-03T06:37:05.569086Z",
     "iopub.status.idle": "2021-05-03T06:37:05.573106Z",
     "shell.execute_reply": "2021-05-03T06:37:05.572654Z"
    },
    "papermill": {
     "duration": 0.025788,
     "end_time": "2021-05-03T06:37:05.573214",
     "exception": false,
     "start_time": "2021-05-03T06:37:05.547426",
     "status": "completed"
    },
    "tags": []
   },
   "outputs": [],
   "source": [
    "y_test_mel = []\n",
    "for i in range(200):\n",
    "    y_test_mel.append(mel_test_data_cat[i][1])"
   ]
  },
  {
   "cell_type": "code",
   "execution_count": 18,
   "id": "retired-geometry",
   "metadata": {
    "execution": {
     "iopub.execute_input": "2021-05-03T06:37:05.614585Z",
     "iopub.status.busy": "2021-05-03T06:37:05.612864Z",
     "iopub.status.idle": "2021-05-03T06:37:05.615157Z",
     "shell.execute_reply": "2021-05-03T06:37:05.615599Z"
    },
    "papermill": {
     "duration": 0.024403,
     "end_time": "2021-05-03T06:37:05.615726",
     "exception": false,
     "start_time": "2021-05-03T06:37:05.591323",
     "status": "completed"
    },
    "tags": []
   },
   "outputs": [],
   "source": [
    "y_test_mel = np.array(y_test_mel)"
   ]
  },
  {
   "cell_type": "code",
   "execution_count": 19,
   "id": "thousand-maple",
   "metadata": {
    "execution": {
     "iopub.execute_input": "2021-05-03T06:37:05.657775Z",
     "iopub.status.busy": "2021-05-03T06:37:05.657226Z",
     "iopub.status.idle": "2021-05-03T06:37:05.662837Z",
     "shell.execute_reply": "2021-05-03T06:37:05.662414Z"
    },
    "papermill": {
     "duration": 0.029116,
     "end_time": "2021-05-03T06:37:05.662937",
     "exception": false,
     "start_time": "2021-05-03T06:37:05.633821",
     "status": "completed"
    },
    "tags": []
   },
   "outputs": [
    {
     "data": {
      "text/plain": [
       "200"
      ]
     },
     "execution_count": 19,
     "metadata": {},
     "output_type": "execute_result"
    }
   ],
   "source": [
    "len(y_test_mel)"
   ]
  },
  {
   "cell_type": "code",
   "execution_count": 20,
   "id": "japanese-transfer",
   "metadata": {
    "execution": {
     "iopub.execute_input": "2021-05-03T06:37:05.705883Z",
     "iopub.status.busy": "2021-05-03T06:37:05.704838Z",
     "iopub.status.idle": "2021-05-03T06:37:09.299473Z",
     "shell.execute_reply": "2021-05-03T06:37:09.299909Z"
    },
    "papermill": {
     "duration": 3.618467,
     "end_time": "2021-05-03T06:37:09.300078",
     "exception": false,
     "start_time": "2021-05-03T06:37:05.681611",
     "status": "completed"
    },
    "tags": []
   },
   "outputs": [],
   "source": [
    "arr = ensemble_model.predict(x_test_mel)"
   ]
  },
  {
   "cell_type": "code",
   "execution_count": 21,
   "id": "moved-active",
   "metadata": {
    "execution": {
     "iopub.execute_input": "2021-05-03T06:37:09.354555Z",
     "iopub.status.busy": "2021-05-03T06:37:09.353672Z",
     "iopub.status.idle": "2021-05-03T06:37:09.356726Z",
     "shell.execute_reply": "2021-05-03T06:37:09.356277Z"
    },
    "papermill": {
     "duration": 0.03635,
     "end_time": "2021-05-03T06:37:09.356844",
     "exception": false,
     "start_time": "2021-05-03T06:37:09.320494",
     "status": "completed"
    },
    "tags": []
   },
   "outputs": [],
   "source": [
    "y_pred = []\n",
    "for i in range(200):\n",
    "    y_pred.append(np.where(arr[i] == np.amax(arr[i]))[0])"
   ]
  },
  {
   "cell_type": "code",
   "execution_count": 22,
   "id": "genuine-growing",
   "metadata": {
    "execution": {
     "iopub.execute_input": "2021-05-03T06:37:09.401160Z",
     "iopub.status.busy": "2021-05-03T06:37:09.400359Z",
     "iopub.status.idle": "2021-05-03T06:37:09.405798Z",
     "shell.execute_reply": "2021-05-03T06:37:09.405386Z"
    },
    "papermill": {
     "duration": 0.028437,
     "end_time": "2021-05-03T06:37:09.405912",
     "exception": false,
     "start_time": "2021-05-03T06:37:09.377475",
     "status": "completed"
    },
    "tags": []
   },
   "outputs": [
    {
     "data": {
      "text/plain": [
       "array([ 0,  1,  2,  3,  4,  5,  6,  7,  8,  9, 10, 11, 12, 13, 14, 15, 16,\n",
       "       17, 18, 19, 20, 21, 22, 23, 24, 25, 26, 27, 28, 29, 30, 31, 32, 33,\n",
       "       34, 35, 36, 37, 38, 39, 40, 41, 42, 43, 44, 45, 46, 47, 48, 49])"
      ]
     },
     "execution_count": 22,
     "metadata": {},
     "output_type": "execute_result"
    }
   ],
   "source": [
    "np.unique(y_pred)"
   ]
  },
  {
   "cell_type": "code",
   "execution_count": 23,
   "id": "informed-pastor",
   "metadata": {
    "execution": {
     "iopub.execute_input": "2021-05-03T06:37:09.449131Z",
     "iopub.status.busy": "2021-05-03T06:37:09.448508Z",
     "iopub.status.idle": "2021-05-03T06:37:09.451885Z",
     "shell.execute_reply": "2021-05-03T06:37:09.451475Z"
    },
    "papermill": {
     "duration": 0.026589,
     "end_time": "2021-05-03T06:37:09.451993",
     "exception": false,
     "start_time": "2021-05-03T06:37:09.425404",
     "status": "completed"
    },
    "tags": []
   },
   "outputs": [],
   "source": [
    "y_pred = np.array(y_pred).flatten()"
   ]
  },
  {
   "cell_type": "code",
   "execution_count": 24,
   "id": "integral-fitting",
   "metadata": {
    "execution": {
     "iopub.execute_input": "2021-05-03T06:37:09.496854Z",
     "iopub.status.busy": "2021-05-03T06:37:09.495927Z",
     "iopub.status.idle": "2021-05-03T06:37:09.501791Z",
     "shell.execute_reply": "2021-05-03T06:37:09.501146Z"
    },
    "papermill": {
     "duration": 0.030399,
     "end_time": "2021-05-03T06:37:09.501953",
     "exception": false,
     "start_time": "2021-05-03T06:37:09.471554",
     "status": "completed"
    },
    "tags": []
   },
   "outputs": [
    {
     "name": "stdout",
     "output_type": "stream",
     "text": [
      "0.92\n"
     ]
    }
   ],
   "source": [
    "from sklearn.metrics import accuracy_score\n",
    "print(accuracy_score(y_pred,y_test_mel))"
   ]
  },
  {
   "cell_type": "code",
   "execution_count": 25,
   "id": "atmospheric-orlando",
   "metadata": {
    "execution": {
     "iopub.execute_input": "2021-05-03T06:37:09.559742Z",
     "iopub.status.busy": "2021-05-03T06:37:09.558811Z",
     "iopub.status.idle": "2021-05-03T06:37:09.648449Z",
     "shell.execute_reply": "2021-05-03T06:37:09.647126Z"
    },
    "papermill": {
     "duration": 0.126225,
     "end_time": "2021-05-03T06:37:09.648581",
     "exception": false,
     "start_time": "2021-05-03T06:37:09.522356",
     "status": "completed"
    },
    "tags": []
   },
   "outputs": [],
   "source": [
    "ensemble_model.save('ensemble_model.h5')"
   ]
  }
 ],
 "metadata": {
  "kernelspec": {
   "display_name": "Python 3",
   "language": "python",
   "name": "python3"
  },
  "language_info": {
   "codemirror_mode": {
    "name": "ipython",
    "version": 3
   },
   "file_extension": ".py",
   "mimetype": "text/x-python",
   "name": "python",
   "nbconvert_exporter": "python",
   "pygments_lexer": "ipython3",
   "version": "3.7.9"
  },
  "papermill": {
   "default_parameters": {},
   "duration": 25.825283,
   "end_time": "2021-05-03T06:37:11.982733",
   "environment_variables": {},
   "exception": null,
   "input_path": "__notebook__.ipynb",
   "output_path": "__notebook__.ipynb",
   "parameters": {},
   "start_time": "2021-05-03T06:36:46.157450",
   "version": "2.3.2"
  }
 },
 "nbformat": 4,
 "nbformat_minor": 5
}
