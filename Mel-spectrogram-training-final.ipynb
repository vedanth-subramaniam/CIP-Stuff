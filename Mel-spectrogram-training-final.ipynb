{
 "cells": [
  {
   "cell_type": "code",
   "execution_count": 1,
   "id": "superior-actor",
   "metadata": {
    "_cell_guid": "b1076dfc-b9ad-4769-8c92-a6c4dae69d19",
    "_uuid": "8f2839f25d086af736a60e9eeb907d3b93b6e0e5",
    "execution": {
     "iopub.execute_input": "2021-05-03T06:38:33.748966Z",
     "iopub.status.busy": "2021-05-03T06:38:33.747407Z",
     "iopub.status.idle": "2021-05-03T06:38:41.874795Z",
     "shell.execute_reply": "2021-05-03T06:38:41.874137Z"
    },
    "papermill": {
     "duration": 8.155867,
     "end_time": "2021-05-03T06:38:41.875011",
     "exception": false,
     "start_time": "2021-05-03T06:38:33.719144",
     "status": "completed"
    },
    "tags": []
   },
   "outputs": [],
   "source": [
    "import numpy as np\n",
    "import pandas as pd\n",
    "import os,sys\n",
    "import matplotlib.pyplot as plt\n",
    "import librosa\n",
    "import librosa.display\n",
    "from tqdm import tqdm\n",
    "import IPython.display as ipd\n",
    "from IPython.core.display import display\n",
    "import tensorflow as tf\n",
    "import tensorflow.keras.backend as K\n",
    "from tensorflow.keras.models import Sequential\n",
    "from tensorflow.keras.layers import Conv2D, MaxPooling2D\n",
    "from tensorflow.keras.layers import Dense, Dropout, Flatten, Activation, BatchNormalization,GlobalAveragePooling2D\n",
    "from tensorflow.keras.utils import to_categorical\n",
    "from keras.models import Model, Input"
   ]
  },
  {
   "cell_type": "code",
   "execution_count": 2,
   "id": "abroad-volume",
   "metadata": {
    "execution": {
     "iopub.execute_input": "2021-05-03T06:38:41.924395Z",
     "iopub.status.busy": "2021-05-03T06:38:41.923871Z",
     "iopub.status.idle": "2021-05-03T06:38:47.210385Z",
     "shell.execute_reply": "2021-05-03T06:38:47.209280Z"
    },
    "papermill": {
     "duration": 5.311364,
     "end_time": "2021-05-03T06:38:47.210533",
     "exception": false,
     "start_time": "2021-05-03T06:38:41.899169",
     "status": "completed"
    },
    "tags": []
   },
   "outputs": [],
   "source": [
    "#Import training data -- mel spectrogram\n",
    "train_mel_spec_normalised = np.load('../input/esc-50-cip-project-sound/train_mel_spec_normalised.npy',allow_pickle=True)"
   ]
  },
  {
   "cell_type": "code",
   "execution_count": 3,
   "id": "increasing-static",
   "metadata": {
    "execution": {
     "iopub.execute_input": "2021-05-03T06:38:47.275815Z",
     "iopub.status.busy": "2021-05-03T06:38:47.274826Z",
     "iopub.status.idle": "2021-05-03T06:38:47.279592Z",
     "shell.execute_reply": "2021-05-03T06:38:47.280052Z"
    },
    "papermill": {
     "duration": 0.047162,
     "end_time": "2021-05-03T06:38:47.280194",
     "exception": false,
     "start_time": "2021-05-03T06:38:47.233032",
     "status": "completed"
    },
    "tags": []
   },
   "outputs": [
    {
     "data": {
      "text/plain": [
       "array([[array([[[0.6041918 ],\n",
       "        [0.71123034],\n",
       "        [1.        ],\n",
       "        ...,\n",
       "        [1.0000001 ],\n",
       "        [0.57045317],\n",
       "        [0.4912951 ]],\n",
       "\n",
       "       [[0.31148118],\n",
       "        [0.3597656 ],\n",
       "        [0.27675688],\n",
       "        ...,\n",
       "        [0.58652306],\n",
       "        [0.6944339 ],\n",
       "        [0.25559342]],\n",
       "\n",
       "       [[0.49951017],\n",
       "        [0.427239  ],\n",
       "        [0.46614778],\n",
       "        ...,\n",
       "        [0.5739975 ],\n",
       "        [0.6643448 ],\n",
       "        [0.20714664]],\n",
       "\n",
       "       ...,\n",
       "\n",
       "       [[0.31594032],\n",
       "        [0.28517455],\n",
       "        [0.        ],\n",
       "        ...,\n",
       "        [0.        ],\n",
       "        [0.        ],\n",
       "        [0.        ]],\n",
       "\n",
       "       [[0.07990193],\n",
       "        [0.04656494],\n",
       "        [0.        ],\n",
       "        ...,\n",
       "        [0.        ],\n",
       "        [0.        ],\n",
       "        [0.        ]],\n",
       "\n",
       "       [[0.        ],\n",
       "        [0.        ],\n",
       "        [0.        ],\n",
       "        ...,\n",
       "        [0.        ],\n",
       "        [0.        ],\n",
       "        [0.        ]]], dtype=float32),\n",
       "        32],\n",
       "       [array([[[0.23401666],\n",
       "        [0.2761431 ],\n",
       "        [0.13441116],\n",
       "        ...,\n",
       "        [0.        ],\n",
       "        [0.        ],\n",
       "        [0.        ]],\n",
       "\n",
       "       [[0.13295257],\n",
       "        [0.29463995],\n",
       "        [0.22173494],\n",
       "        ...,\n",
       "        [0.        ],\n",
       "        [0.        ],\n",
       "        [0.        ]],\n",
       "\n",
       "       [[0.30624005],\n",
       "        [0.23322576],\n",
       "        [0.52175343],\n",
       "        ...,\n",
       "        [0.        ],\n",
       "        [0.        ],\n",
       "        [0.        ]],\n",
       "\n",
       "       ...,\n",
       "\n",
       "       [[0.        ],\n",
       "        [0.        ],\n",
       "        [0.        ],\n",
       "        ...,\n",
       "        [0.        ],\n",
       "        [0.        ],\n",
       "        [0.        ]],\n",
       "\n",
       "       [[0.        ],\n",
       "        [0.        ],\n",
       "        [0.        ],\n",
       "        ...,\n",
       "        [0.        ],\n",
       "        [0.        ],\n",
       "        [0.        ]],\n",
       "\n",
       "       [[0.        ],\n",
       "        [0.        ],\n",
       "        [0.        ],\n",
       "        ...,\n",
       "        [0.        ],\n",
       "        [0.        ],\n",
       "        [0.        ]]], dtype=float32),\n",
       "        30],\n",
       "       [array([[[0.],\n",
       "        [0.],\n",
       "        [0.],\n",
       "        ...,\n",
       "        [0.],\n",
       "        [0.],\n",
       "        [0.]],\n",
       "\n",
       "       [[0.],\n",
       "        [0.],\n",
       "        [0.],\n",
       "        ...,\n",
       "        [0.],\n",
       "        [0.],\n",
       "        [0.]],\n",
       "\n",
       "       [[0.],\n",
       "        [0.],\n",
       "        [0.],\n",
       "        ...,\n",
       "        [0.],\n",
       "        [0.],\n",
       "        [0.]],\n",
       "\n",
       "       ...,\n",
       "\n",
       "       [[0.],\n",
       "        [0.],\n",
       "        [0.],\n",
       "        ...,\n",
       "        [0.],\n",
       "        [0.],\n",
       "        [0.]],\n",
       "\n",
       "       [[0.],\n",
       "        [0.],\n",
       "        [0.],\n",
       "        ...,\n",
       "        [0.],\n",
       "        [0.],\n",
       "        [0.]],\n",
       "\n",
       "       [[0.],\n",
       "        [0.],\n",
       "        [0.],\n",
       "        ...,\n",
       "        [0.],\n",
       "        [0.],\n",
       "        [0.]]], dtype=float32),\n",
       "        9],\n",
       "       [array([[[1.        ],\n",
       "        [0.99999994],\n",
       "        [0.99999994],\n",
       "        ...,\n",
       "        [0.        ],\n",
       "        [0.        ],\n",
       "        [0.        ]],\n",
       "\n",
       "       [[0.09406579],\n",
       "        [0.12862772],\n",
       "        [0.        ],\n",
       "        ...,\n",
       "        [0.        ],\n",
       "        [0.        ],\n",
       "        [0.        ]],\n",
       "\n",
       "       [[0.        ],\n",
       "        [0.        ],\n",
       "        [0.        ],\n",
       "        ...,\n",
       "        [0.        ],\n",
       "        [0.        ],\n",
       "        [0.        ]],\n",
       "\n",
       "       ...,\n",
       "\n",
       "       [[0.        ],\n",
       "        [0.        ],\n",
       "        [0.        ],\n",
       "        ...,\n",
       "        [0.        ],\n",
       "        [0.        ],\n",
       "        [0.        ]],\n",
       "\n",
       "       [[0.        ],\n",
       "        [0.        ],\n",
       "        [0.        ],\n",
       "        ...,\n",
       "        [0.        ],\n",
       "        [0.        ],\n",
       "        [0.        ]],\n",
       "\n",
       "       [[0.        ],\n",
       "        [0.        ],\n",
       "        [0.        ],\n",
       "        ...,\n",
       "        [0.        ],\n",
       "        [0.        ],\n",
       "        [0.        ]]], dtype=float32),\n",
       "        30],\n",
       "       [array([[[0.53924537],\n",
       "        [0.62954086],\n",
       "        [0.5763022 ],\n",
       "        ...,\n",
       "        [0.45803532],\n",
       "        [0.35030803],\n",
       "        [0.43760765]],\n",
       "\n",
       "       [[0.87545407],\n",
       "        [0.9856081 ],\n",
       "        [0.86789846],\n",
       "        ...,\n",
       "        [0.74844134],\n",
       "        [0.7358931 ],\n",
       "        [0.7592722 ]],\n",
       "\n",
       "       [[0.8752897 ],\n",
       "        [0.99094003],\n",
       "        [1.        ],\n",
       "        ...,\n",
       "        [0.9236069 ],\n",
       "        [0.82438433],\n",
       "        [0.7554543 ]],\n",
       "\n",
       "       ...,\n",
       "\n",
       "       [[0.        ],\n",
       "        [0.        ],\n",
       "        [0.        ],\n",
       "        ...,\n",
       "        [0.        ],\n",
       "        [0.        ],\n",
       "        [0.        ]],\n",
       "\n",
       "       [[0.        ],\n",
       "        [0.        ],\n",
       "        [0.        ],\n",
       "        ...,\n",
       "        [0.        ],\n",
       "        [0.        ],\n",
       "        [0.        ]],\n",
       "\n",
       "       [[0.        ],\n",
       "        [0.        ],\n",
       "        [0.        ],\n",
       "        ...,\n",
       "        [0.        ],\n",
       "        [0.        ],\n",
       "        [0.        ]]], dtype=float32),\n",
       "        45]], dtype=object)"
      ]
     },
     "execution_count": 3,
     "metadata": {},
     "output_type": "execute_result"
    }
   ],
   "source": [
    "train_mel_spec_normalised[:5]"
   ]
  },
  {
   "cell_type": "code",
   "execution_count": 4,
   "id": "distinct-frame",
   "metadata": {
    "execution": {
     "iopub.execute_input": "2021-05-03T06:38:47.334466Z",
     "iopub.status.busy": "2021-05-03T06:38:47.333820Z",
     "iopub.status.idle": "2021-05-03T06:48:45.026871Z",
     "shell.execute_reply": "2021-05-03T06:48:45.024936Z"
    },
    "papermill": {
     "duration": 597.721414,
     "end_time": "2021-05-03T06:48:45.027148",
     "exception": false,
     "start_time": "2021-05-03T06:38:47.305734",
     "status": "completed"
    },
    "tags": []
   },
   "outputs": [
    {
     "name": "stderr",
     "output_type": "stream",
     "text": [
      "100%|██████████| 3799/3799 [09:57<00:00,  6.36it/s]\n"
     ]
    }
   ],
   "source": [
    "#Extract specrogram image from train data -- seperates out category\n",
    "x_train_mel = np.zeros((1,128,216))\n",
    "for i in tqdm(range(3799)):\n",
    "    x_train_mel = np.append(x_train_mel,[train_mel_spec_normalised[i][0][:,:,-1]],axis=0)\n"
   ]
  },
  {
   "cell_type": "code",
   "execution_count": 5,
   "id": "given-editor",
   "metadata": {
    "execution": {
     "iopub.execute_input": "2021-05-03T06:48:46.629189Z",
     "iopub.status.busy": "2021-05-03T06:48:46.627420Z",
     "iopub.status.idle": "2021-05-03T06:48:46.629809Z",
     "shell.execute_reply": "2021-05-03T06:48:46.630202Z"
    },
    "papermill": {
     "duration": 0.800298,
     "end_time": "2021-05-03T06:48:46.630352",
     "exception": false,
     "start_time": "2021-05-03T06:48:45.830054",
     "status": "completed"
    },
    "tags": []
   },
   "outputs": [],
   "source": [
    "#Remove first element\n",
    "x_train_mel = x_train_mel[1:,:,:]"
   ]
  },
  {
   "cell_type": "code",
   "execution_count": 6,
   "id": "greatest-branch",
   "metadata": {
    "execution": {
     "iopub.execute_input": "2021-05-03T06:48:48.237895Z",
     "iopub.status.busy": "2021-05-03T06:48:48.237065Z",
     "iopub.status.idle": "2021-05-03T06:48:48.239761Z",
     "shell.execute_reply": "2021-05-03T06:48:48.239279Z"
    },
    "papermill": {
     "duration": 0.837535,
     "end_time": "2021-05-03T06:48:48.240241",
     "exception": false,
     "start_time": "2021-05-03T06:48:47.402706",
     "status": "completed"
    },
    "tags": []
   },
   "outputs": [],
   "source": [
    "#Add a single channel for a mono channel image\n",
    "x_train_mel = x_train_mel[:,:,:,np.newaxis]"
   ]
  },
  {
   "cell_type": "code",
   "execution_count": 7,
   "id": "swiss-philippines",
   "metadata": {
    "execution": {
     "iopub.execute_input": "2021-05-03T06:48:49.795505Z",
     "iopub.status.busy": "2021-05-03T06:48:49.794729Z",
     "iopub.status.idle": "2021-05-03T06:48:49.798089Z",
     "shell.execute_reply": "2021-05-03T06:48:49.797430Z"
    },
    "papermill": {
     "duration": 0.787025,
     "end_time": "2021-05-03T06:48:49.798223",
     "exception": false,
     "start_time": "2021-05-03T06:48:49.011198",
     "status": "completed"
    },
    "tags": []
   },
   "outputs": [],
   "source": [
    "#Extracting out the categories\n",
    "y_train_mel = []\n",
    "for i in range(3799):\n",
    "    y_train_mel.append(train_mel_spec_normalised[i][1])"
   ]
  },
  {
   "cell_type": "code",
   "execution_count": 8,
   "id": "desperate-laptop",
   "metadata": {
    "execution": {
     "iopub.execute_input": "2021-05-03T06:48:51.718871Z",
     "iopub.status.busy": "2021-05-03T06:48:51.718010Z",
     "iopub.status.idle": "2021-05-03T06:48:51.720359Z",
     "shell.execute_reply": "2021-05-03T06:48:51.719678Z"
    },
    "papermill": {
     "duration": 1.151322,
     "end_time": "2021-05-03T06:48:51.720512",
     "exception": false,
     "start_time": "2021-05-03T06:48:50.569190",
     "status": "completed"
    },
    "tags": []
   },
   "outputs": [],
   "source": [
    "y_train_mel = np.array(y_train_mel)"
   ]
  },
  {
   "cell_type": "markdown",
   "id": "plastic-choice",
   "metadata": {
    "papermill": {
     "duration": 1.084449,
     "end_time": "2021-05-03T06:48:53.910582",
     "exception": false,
     "start_time": "2021-05-03T06:48:52.826133",
     "status": "completed"
    },
    "tags": []
   },
   "source": [
    "# **Model 1 - Mel Spectrogram**"
   ]
  },
  {
   "cell_type": "code",
   "execution_count": 9,
   "id": "helpful-petroleum",
   "metadata": {
    "execution": {
     "iopub.execute_input": "2021-05-03T06:48:55.524806Z",
     "iopub.status.busy": "2021-05-03T06:48:55.523714Z",
     "iopub.status.idle": "2021-05-03T06:48:55.549172Z",
     "shell.execute_reply": "2021-05-03T06:48:55.549928Z"
    },
    "papermill": {
     "duration": 0.838747,
     "end_time": "2021-05-03T06:48:55.550069",
     "exception": false,
     "start_time": "2021-05-03T06:48:54.711322",
     "status": "completed"
    },
    "tags": []
   },
   "outputs": [],
   "source": [
    "model_input = Input(shape=(128,216,1))"
   ]
  },
  {
   "cell_type": "code",
   "execution_count": 10,
   "id": "impressed-dryer",
   "metadata": {
    "execution": {
     "iopub.execute_input": "2021-05-03T06:48:57.118506Z",
     "iopub.status.busy": "2021-05-03T06:48:57.117592Z",
     "iopub.status.idle": "2021-05-03T06:48:57.120399Z",
     "shell.execute_reply": "2021-05-03T06:48:57.119970Z"
    },
    "papermill": {
     "duration": 0.79254,
     "end_time": "2021-05-03T06:48:57.120517",
     "exception": false,
     "start_time": "2021-05-03T06:48:56.327977",
     "status": "completed"
    },
    "tags": []
   },
   "outputs": [],
   "source": [
    "def create_keras_model_1(model_input, num_classes):\n",
    "    x = Conv2D(64, kernel_size=3, activation=\"relu\")(model_input)\n",
    "    x = MaxPooling2D(pool_size=(2, 2))(x)\n",
    "    x = Conv2D(128, kernel_size=3, activation=\"relu\")(x)\n",
    "    x = MaxPooling2D(pool_size=(2, 2))(x)\n",
    "    x = Conv2D(256, kernel_size=3, activation=\"relu\")(x)\n",
    "    x = MaxPooling2D(pool_size=(2, 2))(x)\n",
    "    x = Conv2D(256, kernel_size=3, activation=\"relu\")(x)\n",
    "    x = MaxPooling2D(pool_size=(2, 2))(x)\n",
    "    x = Flatten()(x)\n",
    "    x = Dense(256, activation = 'relu')(x)\n",
    "    x = Dropout(0.7)(x)\n",
    "    x = Dense(num_classes, activation=\"softmax\")(x)\n",
    "    model = Model(model_input, x, name='model_1')\n",
    "    \n",
    "    return model"
   ]
  },
  {
   "cell_type": "code",
   "execution_count": 11,
   "id": "regular-organization",
   "metadata": {
    "execution": {
     "iopub.execute_input": "2021-05-03T06:48:58.679114Z",
     "iopub.status.busy": "2021-05-03T06:48:58.678319Z",
     "iopub.status.idle": "2021-05-03T06:48:58.681982Z",
     "shell.execute_reply": "2021-05-03T06:48:58.681565Z"
    },
    "papermill": {
     "duration": 0.781166,
     "end_time": "2021-05-03T06:48:58.682097",
     "exception": false,
     "start_time": "2021-05-03T06:48:57.900931",
     "status": "completed"
    },
    "tags": []
   },
   "outputs": [
    {
     "data": {
      "text/plain": [
       "(3799, 1)"
      ]
     },
     "execution_count": 11,
     "metadata": {},
     "output_type": "execute_result"
    }
   ],
   "source": [
    "y_train_mel = y_train_mel.reshape(3799,1)\n",
    "y_train_mel.shape"
   ]
  },
  {
   "cell_type": "code",
   "execution_count": 12,
   "id": "desperate-tribute",
   "metadata": {
    "execution": {
     "iopub.execute_input": "2021-05-03T06:49:00.236799Z",
     "iopub.status.busy": "2021-05-03T06:49:00.236057Z",
     "iopub.status.idle": "2021-05-03T06:49:00.238841Z",
     "shell.execute_reply": "2021-05-03T06:49:00.238421Z"
    },
    "papermill": {
     "duration": 0.785044,
     "end_time": "2021-05-03T06:49:00.238955",
     "exception": false,
     "start_time": "2021-05-03T06:48:59.453911",
     "status": "completed"
    },
    "tags": []
   },
   "outputs": [],
   "source": [
    "callbacks1 = [\n",
    "    tf.keras.callbacks.EarlyStopping(monitor='val_loss', patience=5, verbose=1, mode=\"min\"),\n",
    "    tf.keras.callbacks.ReduceLROnPlateau(monitor='val_loss',\n",
    "                              mode='min',\n",
    "                              verbose=1,\n",
    "                              patience=5,\n",
    "                              min_delta=0.0001,\n",
    "                              factor=0.2\n",
    "                             ),\n",
    "]\n"
   ]
  },
  {
   "cell_type": "code",
   "execution_count": 13,
   "id": "decent-amino",
   "metadata": {
    "execution": {
     "iopub.execute_input": "2021-05-03T06:49:01.858431Z",
     "iopub.status.busy": "2021-05-03T06:49:01.857721Z",
     "iopub.status.idle": "2021-05-03T06:49:05.492258Z",
     "shell.execute_reply": "2021-05-03T06:49:05.491316Z"
    },
    "papermill": {
     "duration": 4.43418,
     "end_time": "2021-05-03T06:49:05.492435",
     "exception": false,
     "start_time": "2021-05-03T06:49:01.058255",
     "status": "completed"
    },
    "tags": []
   },
   "outputs": [
    {
     "name": "stdout",
     "output_type": "stream",
     "text": [
      "Model: \"model_1\"\n",
      "_________________________________________________________________\n",
      "Layer (type)                 Output Shape              Param #   \n",
      "=================================================================\n",
      "input_1 (InputLayer)         [(None, 128, 216, 1)]     0         \n",
      "_________________________________________________________________\n",
      "conv2d (Conv2D)              (None, 126, 214, 64)      640       \n",
      "_________________________________________________________________\n",
      "max_pooling2d (MaxPooling2D) (None, 63, 107, 64)       0         \n",
      "_________________________________________________________________\n",
      "conv2d_1 (Conv2D)            (None, 61, 105, 128)      73856     \n",
      "_________________________________________________________________\n",
      "max_pooling2d_1 (MaxPooling2 (None, 30, 52, 128)       0         \n",
      "_________________________________________________________________\n",
      "conv2d_2 (Conv2D)            (None, 28, 50, 256)       295168    \n",
      "_________________________________________________________________\n",
      "max_pooling2d_2 (MaxPooling2 (None, 14, 25, 256)       0         \n",
      "_________________________________________________________________\n",
      "conv2d_3 (Conv2D)            (None, 12, 23, 256)       590080    \n",
      "_________________________________________________________________\n",
      "max_pooling2d_3 (MaxPooling2 (None, 6, 11, 256)        0         \n",
      "_________________________________________________________________\n",
      "flatten (Flatten)            (None, 16896)             0         \n",
      "_________________________________________________________________\n",
      "dense (Dense)                (None, 256)               4325632   \n",
      "_________________________________________________________________\n",
      "dropout (Dropout)            (None, 256)               0         \n",
      "_________________________________________________________________\n",
      "dense_1 (Dense)              (None, 50)                12850     \n",
      "=================================================================\n",
      "Total params: 5,298,226\n",
      "Trainable params: 5,298,226\n",
      "Non-trainable params: 0\n",
      "_________________________________________________________________\n"
     ]
    }
   ],
   "source": [
    "model_mel_1 = create_keras_model_1(model_input,50)\n",
    "model_mel_1.summary()"
   ]
  },
  {
   "cell_type": "code",
   "execution_count": 14,
   "id": "particular-abraham",
   "metadata": {
    "execution": {
     "iopub.execute_input": "2021-05-03T06:49:07.120166Z",
     "iopub.status.busy": "2021-05-03T06:49:07.119277Z",
     "iopub.status.idle": "2021-05-03T06:49:07.127072Z",
     "shell.execute_reply": "2021-05-03T06:49:07.126612Z"
    },
    "papermill": {
     "duration": 0.800531,
     "end_time": "2021-05-03T06:49:07.127204",
     "exception": false,
     "start_time": "2021-05-03T06:49:06.326673",
     "status": "completed"
    },
    "tags": []
   },
   "outputs": [],
   "source": [
    "model_mel_1.compile(optimizer='adam',loss='sparse_categorical_crossentropy',metrics=['accuracy'])\n"
   ]
  },
  {
   "cell_type": "code",
   "execution_count": 15,
   "id": "acute-azerbaijan",
   "metadata": {
    "execution": {
     "iopub.execute_input": "2021-05-03T06:49:08.698043Z",
     "iopub.status.busy": "2021-05-03T06:49:08.697479Z",
     "iopub.status.idle": "2021-05-03T06:51:20.612721Z",
     "shell.execute_reply": "2021-05-03T06:51:20.612154Z"
    },
    "papermill": {
     "duration": 132.698616,
     "end_time": "2021-05-03T06:51:20.612860",
     "exception": false,
     "start_time": "2021-05-03T06:49:07.914244",
     "status": "completed"
    },
    "tags": []
   },
   "outputs": [
    {
     "name": "stdout",
     "output_type": "stream",
     "text": [
      "Epoch 1/200\n",
      "114/114 [==============================] - 9s 40ms/step - loss: 3.8642 - accuracy: 0.0409 - val_loss: 3.4206 - val_accuracy: 0.1553\n",
      "Epoch 2/200\n",
      "114/114 [==============================] - 4s 31ms/step - loss: 3.3108 - accuracy: 0.1484 - val_loss: 2.8560 - val_accuracy: 0.3263\n",
      "Epoch 3/200\n",
      "114/114 [==============================] - 4s 32ms/step - loss: 2.7978 - accuracy: 0.2608 - val_loss: 2.4356 - val_accuracy: 0.3895\n",
      "Epoch 4/200\n",
      "114/114 [==============================] - 4s 32ms/step - loss: 2.3179 - accuracy: 0.3520 - val_loss: 2.0155 - val_accuracy: 0.4526\n",
      "Epoch 5/200\n",
      "114/114 [==============================] - 4s 32ms/step - loss: 2.0767 - accuracy: 0.4252 - val_loss: 1.7176 - val_accuracy: 0.5868\n",
      "Epoch 6/200\n",
      "114/114 [==============================] - 4s 31ms/step - loss: 1.7160 - accuracy: 0.5079 - val_loss: 1.5459 - val_accuracy: 0.6053\n",
      "Epoch 7/200\n",
      "114/114 [==============================] - 4s 32ms/step - loss: 1.5215 - accuracy: 0.5563 - val_loss: 1.2207 - val_accuracy: 0.6921\n",
      "Epoch 8/200\n",
      "114/114 [==============================] - 4s 32ms/step - loss: 1.3101 - accuracy: 0.6140 - val_loss: 1.0852 - val_accuracy: 0.6921\n",
      "Epoch 9/200\n",
      "114/114 [==============================] - 4s 31ms/step - loss: 1.1550 - accuracy: 0.6557 - val_loss: 0.9582 - val_accuracy: 0.7289\n",
      "Epoch 10/200\n",
      "114/114 [==============================] - 4s 32ms/step - loss: 1.0127 - accuracy: 0.6896 - val_loss: 0.7938 - val_accuracy: 0.7895\n",
      "Epoch 11/200\n",
      "114/114 [==============================] - 4s 31ms/step - loss: 0.8947 - accuracy: 0.7250 - val_loss: 0.8400 - val_accuracy: 0.7737\n",
      "Epoch 12/200\n",
      "114/114 [==============================] - 4s 32ms/step - loss: 0.8095 - accuracy: 0.7521 - val_loss: 0.7301 - val_accuracy: 0.8079\n",
      "Epoch 13/200\n",
      "114/114 [==============================] - 4s 32ms/step - loss: 0.7272 - accuracy: 0.7793 - val_loss: 0.6607 - val_accuracy: 0.8342\n",
      "Epoch 14/200\n",
      "114/114 [==============================] - 4s 31ms/step - loss: 0.6541 - accuracy: 0.7901 - val_loss: 0.6959 - val_accuracy: 0.8316\n",
      "Epoch 15/200\n",
      "114/114 [==============================] - 4s 31ms/step - loss: 0.6000 - accuracy: 0.8233 - val_loss: 0.6746 - val_accuracy: 0.8316\n",
      "Epoch 16/200\n",
      "114/114 [==============================] - 4s 32ms/step - loss: 0.6028 - accuracy: 0.8176 - val_loss: 0.6364 - val_accuracy: 0.8447\n",
      "Epoch 17/200\n",
      "114/114 [==============================] - 4s 31ms/step - loss: 0.5009 - accuracy: 0.8431 - val_loss: 0.6404 - val_accuracy: 0.8395\n",
      "Epoch 18/200\n",
      "114/114 [==============================] - 4s 32ms/step - loss: 0.4614 - accuracy: 0.8614 - val_loss: 0.5719 - val_accuracy: 0.8500\n",
      "Epoch 19/200\n",
      "114/114 [==============================] - 4s 32ms/step - loss: 0.4338 - accuracy: 0.8616 - val_loss: 0.5439 - val_accuracy: 0.8868\n",
      "Epoch 20/200\n",
      "114/114 [==============================] - 4s 31ms/step - loss: 0.4551 - accuracy: 0.8532 - val_loss: 0.5341 - val_accuracy: 0.8842\n",
      "Epoch 21/200\n",
      "114/114 [==============================] - 4s 32ms/step - loss: 0.4259 - accuracy: 0.8752 - val_loss: 0.5408 - val_accuracy: 0.8789\n",
      "Epoch 22/200\n",
      "114/114 [==============================] - 4s 31ms/step - loss: 0.3863 - accuracy: 0.8825 - val_loss: 0.5448 - val_accuracy: 0.8658\n",
      "Epoch 23/200\n",
      "114/114 [==============================] - 4s 31ms/step - loss: 0.3539 - accuracy: 0.8844 - val_loss: 0.5682 - val_accuracy: 0.8658\n",
      "Epoch 24/200\n",
      "114/114 [==============================] - 4s 31ms/step - loss: 0.3190 - accuracy: 0.9036 - val_loss: 0.5485 - val_accuracy: 0.8711\n",
      "Epoch 25/200\n",
      "114/114 [==============================] - 4s 33ms/step - loss: 0.3047 - accuracy: 0.9062 - val_loss: 0.5157 - val_accuracy: 0.8816\n",
      "Epoch 26/200\n",
      "114/114 [==============================] - 4s 31ms/step - loss: 0.3167 - accuracy: 0.9026 - val_loss: 0.5205 - val_accuracy: 0.8658\n",
      "Epoch 27/200\n",
      "114/114 [==============================] - 4s 31ms/step - loss: 0.2681 - accuracy: 0.9116 - val_loss: 0.5301 - val_accuracy: 0.8816\n",
      "Epoch 28/200\n",
      "114/114 [==============================] - 4s 32ms/step - loss: 0.2807 - accuracy: 0.9171 - val_loss: 0.5409 - val_accuracy: 0.8658\n",
      "Epoch 29/200\n",
      "114/114 [==============================] - 4s 32ms/step - loss: 0.2787 - accuracy: 0.9137 - val_loss: 0.5473 - val_accuracy: 0.8947\n",
      "Epoch 30/200\n",
      "114/114 [==============================] - 4s 32ms/step - loss: 0.2949 - accuracy: 0.9156 - val_loss: 0.4607 - val_accuracy: 0.9132\n",
      "Epoch 31/200\n",
      "114/114 [==============================] - 4s 32ms/step - loss: 0.2679 - accuracy: 0.9162 - val_loss: 0.5129 - val_accuracy: 0.8947\n",
      "Epoch 32/200\n",
      "114/114 [==============================] - 4s 31ms/step - loss: 0.2298 - accuracy: 0.9275 - val_loss: 0.4982 - val_accuracy: 0.9000\n",
      "Epoch 33/200\n",
      "114/114 [==============================] - 4s 31ms/step - loss: 0.2194 - accuracy: 0.9300 - val_loss: 0.4851 - val_accuracy: 0.9105\n",
      "Epoch 34/200\n",
      "114/114 [==============================] - 4s 33ms/step - loss: 0.2814 - accuracy: 0.9132 - val_loss: 0.5132 - val_accuracy: 0.8921\n",
      "Epoch 35/200\n",
      "114/114 [==============================] - 4s 31ms/step - loss: 0.2425 - accuracy: 0.9196 - val_loss: 0.5054 - val_accuracy: 0.9000\n",
      "\n",
      "Epoch 00035: ReduceLROnPlateau reducing learning rate to 0.00020000000949949026.\n",
      "Epoch 00035: early stopping\n"
     ]
    }
   ],
   "source": [
    "# Training and Evaluation of the model\n",
    "h1 = model_mel_1.fit(x_train_mel, y_train_mel,verbose=1, batch_size = 30 ,epochs=200,validation_split=0.1, callbacks = callbacks1)"
   ]
  },
  {
   "cell_type": "code",
   "execution_count": 16,
   "id": "figured-nowhere",
   "metadata": {
    "execution": {
     "iopub.execute_input": "2021-05-03T06:51:23.254107Z",
     "iopub.status.busy": "2021-05-03T06:51:23.253269Z",
     "iopub.status.idle": "2021-05-03T06:51:23.255996Z",
     "shell.execute_reply": "2021-05-03T06:51:23.256415Z"
    },
    "papermill": {
     "duration": 1.336584,
     "end_time": "2021-05-03T06:51:23.256585",
     "exception": false,
     "start_time": "2021-05-03T06:51:21.920001",
     "status": "completed"
    },
    "tags": []
   },
   "outputs": [
    {
     "data": {
      "text/plain": [
       "dict_keys(['loss', 'accuracy', 'val_loss', 'val_accuracy', 'lr'])"
      ]
     },
     "execution_count": 16,
     "metadata": {},
     "output_type": "execute_result"
    }
   ],
   "source": [
    "h1.history.keys()"
   ]
  },
  {
   "cell_type": "code",
   "execution_count": 17,
   "id": "ancient-program",
   "metadata": {
    "execution": {
     "iopub.execute_input": "2021-05-03T06:51:25.994381Z",
     "iopub.status.busy": "2021-05-03T06:51:25.993545Z",
     "iopub.status.idle": "2021-05-03T06:51:26.000131Z",
     "shell.execute_reply": "2021-05-03T06:51:25.999721Z"
    },
    "papermill": {
     "duration": 1.376094,
     "end_time": "2021-05-03T06:51:26.000246",
     "exception": false,
     "start_time": "2021-05-03T06:51:24.624152",
     "status": "completed"
    },
    "tags": []
   },
   "outputs": [],
   "source": [
    "def plot_metrics(h):\n",
    "    #Plotting metrics\n",
    "    plt.figure(figsize=(12,5))\n",
    "    plt.subplot(1,2,1)\n",
    "    plt.plot(h.history['loss']);\n",
    "    plt.plot(h.history['val_loss']);\n",
    "    plt.title(\"Loss vs Epochs\");\n",
    "    plt.ylabel(\"Loss\");\n",
    "    plt.xlabel(\"Epochs\");\n",
    "    plt.legend(['train', 'val']);\n",
    "\n",
    "    # summarize history for accuracy\n",
    "    plt.subplot(1,2,2)\n",
    "    plt.plot(h.history['accuracy'])\n",
    "    plt.plot(h.history['val_accuracy'])\n",
    "    plt.title('Accuracy vs Epochs')\n",
    "    plt.ylabel('Accuracy')\n",
    "    plt.xlabel('Epochs')\n",
    "    plt.legend(['train', 'validation'], loc='upper left')\n",
    "    plt.show()\n"
   ]
  },
  {
   "cell_type": "code",
   "execution_count": 18,
   "id": "protecting-courtesy",
   "metadata": {
    "execution": {
     "iopub.execute_input": "2021-05-03T06:51:28.838241Z",
     "iopub.status.busy": "2021-05-03T06:51:28.837588Z",
     "iopub.status.idle": "2021-05-03T06:51:29.142259Z",
     "shell.execute_reply": "2021-05-03T06:51:29.142647Z"
    },
    "papermill": {
     "duration": 1.619079,
     "end_time": "2021-05-03T06:51:29.142810",
     "exception": false,
     "start_time": "2021-05-03T06:51:27.523731",
     "status": "completed"
    },
    "tags": []
   },
   "outputs": [
    {
     "data": {
      "image/png": "[encoded data removed]",
      "text/plain": [
       "<Figure size 864x360 with 2 Axes>"
      ]
     },
     "metadata": {
      "needs_background": "light"
     },
     "output_type": "display_data"
    }
   ],
   "source": [
    "plot_metrics(h1)"
   ]
  },
  {
   "cell_type": "code",
   "execution_count": 19,
   "id": "allied-borough",
   "metadata": {
    "execution": {
     "iopub.execute_input": "2021-05-03T06:51:31.862891Z",
     "iopub.status.busy": "2021-05-03T06:51:31.862088Z",
     "iopub.status.idle": "2021-05-03T06:51:31.993783Z",
     "shell.execute_reply": "2021-05-03T06:51:31.992930Z"
    },
    "papermill": {
     "duration": 1.51727,
     "end_time": "2021-05-03T06:51:31.993924",
     "exception": false,
     "start_time": "2021-05-03T06:51:30.476654",
     "status": "completed"
    },
    "tags": []
   },
   "outputs": [],
   "source": [
    "model_mel_1.save('mel_model_1.h5')"
   ]
  },
  {
   "cell_type": "markdown",
   "id": "lesser-creativity",
   "metadata": {
    "papermill": {
     "duration": 1.321153,
     "end_time": "2021-05-03T06:51:34.640539",
     "exception": false,
     "start_time": "2021-05-03T06:51:33.319386",
     "status": "completed"
    },
    "tags": []
   },
   "source": [
    "# **Model 2 - Mel Spectrogram**"
   ]
  },
  {
   "cell_type": "code",
   "execution_count": 20,
   "id": "southwest-above",
   "metadata": {
    "execution": {
     "iopub.execute_input": "2021-05-03T06:51:38.060297Z",
     "iopub.status.busy": "2021-05-03T06:51:38.058510Z",
     "iopub.status.idle": "2021-05-03T06:51:38.060885Z",
     "shell.execute_reply": "2021-05-03T06:51:38.061270Z"
    },
    "papermill": {
     "duration": 1.612458,
     "end_time": "2021-05-03T06:51:38.061429",
     "exception": false,
     "start_time": "2021-05-03T06:51:36.448971",
     "status": "completed"
    },
    "tags": []
   },
   "outputs": [],
   "source": [
    "def create_keras_model_2(model_input, num_classes):\n",
    "\n",
    "    x = Conv2D(64, kernel_size=(3, 3), activation='relu')(model_input)\n",
    "    x = BatchNormalization()(x)\n",
    "\n",
    "    x = MaxPooling2D(pool_size=(3, 3))(x)\n",
    "    x = Conv2D(128, kernel_size=(3, 3), activation='relu')(x)\n",
    "    x = BatchNormalization()(x)\n",
    "\n",
    "    x = Conv2D(128, kernel_size=(3, 3), activation='relu')(x)\n",
    "    x = BatchNormalization()(x)\n",
    "\n",
    "    x = MaxPooling2D(pool_size=(3, 3))(x)\n",
    "\n",
    "    x = Flatten()(x)\n",
    "    x = Dense(128, activation='relu')(x)\n",
    "    x = BatchNormalization()(x)\n",
    "    x = Dropout(0.25)(x)\n",
    "    x = Dense(64, activation='relu')(x)\n",
    "    x = BatchNormalization()(x)\n",
    "    x = Dropout(0.4)(x)\n",
    "    x = Dense(num_classes, activation='softmax')(x)\n",
    "    model = Model(model_input, x, name='model_2')\n",
    "\n",
    "    return model"
   ]
  },
  {
   "cell_type": "code",
   "execution_count": 21,
   "id": "brilliant-drilling",
   "metadata": {
    "execution": {
     "iopub.execute_input": "2021-05-03T06:51:40.739485Z",
     "iopub.status.busy": "2021-05-03T06:51:40.738811Z",
     "iopub.status.idle": "2021-05-03T06:51:40.843470Z",
     "shell.execute_reply": "2021-05-03T06:51:40.842961Z"
    },
    "papermill": {
     "duration": 1.437626,
     "end_time": "2021-05-03T06:51:40.843600",
     "exception": false,
     "start_time": "2021-05-03T06:51:39.405974",
     "status": "completed"
    },
    "tags": []
   },
   "outputs": [],
   "source": [
    "model_mel_2 = create_keras_model_2(model_input,50)"
   ]
  },
  {
   "cell_type": "code",
   "execution_count": 22,
   "id": "forced-regulation",
   "metadata": {
    "execution": {
     "iopub.execute_input": "2021-05-03T06:51:43.472095Z",
     "iopub.status.busy": "2021-05-03T06:51:43.471385Z",
     "iopub.status.idle": "2021-05-03T06:51:43.475151Z",
     "shell.execute_reply": "2021-05-03T06:51:43.474697Z"
    },
    "papermill": {
     "duration": 1.308681,
     "end_time": "2021-05-03T06:51:43.475295",
     "exception": false,
     "start_time": "2021-05-03T06:51:42.166614",
     "status": "completed"
    },
    "tags": []
   },
   "outputs": [],
   "source": [
    "callbacks_2 = [\n",
    "    tf.keras.callbacks.EarlyStopping(monitor='val_loss', patience=10, verbose=1, mode=\"min\"),\n",
    "    tf.keras.callbacks.ReduceLROnPlateau(monitor='val_loss',\n",
    "                              mode='min',\n",
    "                              verbose=1,\n",
    "                              patience=5,\n",
    "                              min_delta=0.0001,\n",
    "                              factor=0.2\n",
    "                             ),\n",
    "]\n"
   ]
  },
  {
   "cell_type": "code",
   "execution_count": 23,
   "id": "fabulous-juice",
   "metadata": {
    "execution": {
     "iopub.execute_input": "2021-05-03T06:51:46.161272Z",
     "iopub.status.busy": "2021-05-03T06:51:46.151250Z",
     "iopub.status.idle": "2021-05-03T06:51:46.413854Z",
     "shell.execute_reply": "2021-05-03T06:51:46.414315Z"
    },
    "papermill": {
     "duration": 1.611507,
     "end_time": "2021-05-03T06:51:46.414506",
     "exception": false,
     "start_time": "2021-05-03T06:51:44.802999",
     "status": "completed"
    },
    "tags": []
   },
   "outputs": [],
   "source": [
    "from sklearn.model_selection import train_test_split\n",
    "x_training_mel,x_val,y_training_mel,y_val = train_test_split(x_train_mel,y_train_mel,stratify = y_train_mel)"
   ]
  },
  {
   "cell_type": "code",
   "execution_count": 24,
   "id": "statewide-glucose",
   "metadata": {
    "execution": {
     "iopub.execute_input": "2021-05-03T06:51:49.394216Z",
     "iopub.status.busy": "2021-05-03T06:51:49.386770Z",
     "iopub.status.idle": "2021-05-03T06:51:49.399587Z",
     "shell.execute_reply": "2021-05-03T06:51:49.399039Z"
    },
    "papermill": {
     "duration": 1.60436,
     "end_time": "2021-05-03T06:51:49.399722",
     "exception": false,
     "start_time": "2021-05-03T06:51:47.795362",
     "status": "completed"
    },
    "tags": []
   },
   "outputs": [],
   "source": [
    "model_mel_2.compile(loss='sparse_categorical_crossentropy', optimizer=tf.keras.optimizers.Adam(), metrics=['accuracy'])\n"
   ]
  },
  {
   "cell_type": "code",
   "execution_count": 25,
   "id": "structural-flower",
   "metadata": {
    "execution": {
     "iopub.execute_input": "2021-05-03T06:51:52.185261Z",
     "iopub.status.busy": "2021-05-03T06:51:52.184031Z",
     "iopub.status.idle": "2021-05-03T06:54:38.059815Z",
     "shell.execute_reply": "2021-05-03T06:54:38.060272Z"
    },
    "papermill": {
     "duration": 167.278948,
     "end_time": "2021-05-03T06:54:38.060460",
     "exception": false,
     "start_time": "2021-05-03T06:51:50.781512",
     "status": "completed"
    },
    "tags": []
   },
   "outputs": [
    {
     "name": "stdout",
     "output_type": "stream",
     "text": [
      "Epoch 1/200\n",
      "45/45 [==============================] - 5s 80ms/step - loss: 4.2437 - accuracy: 0.0494 - val_loss: 5.6996 - val_accuracy: 0.0200\n",
      "Epoch 2/200\n",
      "45/45 [==============================] - 3s 64ms/step - loss: 3.3340 - accuracy: 0.1454 - val_loss: 5.1848 - val_accuracy: 0.0211\n",
      "Epoch 3/200\n",
      "45/45 [==============================] - 3s 62ms/step - loss: 2.8193 - accuracy: 0.2743 - val_loss: 4.7158 - val_accuracy: 0.0221\n",
      "Epoch 4/200\n",
      "45/45 [==============================] - 3s 62ms/step - loss: 2.3905 - accuracy: 0.3923 - val_loss: 4.4256 - val_accuracy: 0.0326\n",
      "Epoch 5/200\n",
      "45/45 [==============================] - 3s 65ms/step - loss: 2.0688 - accuracy: 0.4812 - val_loss: 4.6901 - val_accuracy: 0.0316\n",
      "Epoch 6/200\n",
      "45/45 [==============================] - 3s 63ms/step - loss: 1.7728 - accuracy: 0.5488 - val_loss: 4.5620 - val_accuracy: 0.0316\n",
      "Epoch 7/200\n",
      "45/45 [==============================] - 3s 62ms/step - loss: 1.5131 - accuracy: 0.6231 - val_loss: 4.0590 - val_accuracy: 0.0684\n",
      "Epoch 8/200\n",
      "45/45 [==============================] - 3s 62ms/step - loss: 1.3819 - accuracy: 0.6589 - val_loss: 3.9982 - val_accuracy: 0.0821\n",
      "Epoch 9/200\n",
      "45/45 [==============================] - 3s 62ms/step - loss: 1.2401 - accuracy: 0.6907 - val_loss: 3.6527 - val_accuracy: 0.1589\n",
      "Epoch 10/200\n",
      "45/45 [==============================] - 3s 63ms/step - loss: 1.0278 - accuracy: 0.7636 - val_loss: 3.3838 - val_accuracy: 0.1684\n",
      "Epoch 11/200\n",
      "45/45 [==============================] - 3s 64ms/step - loss: 0.8466 - accuracy: 0.7985 - val_loss: 3.0347 - val_accuracy: 0.2126\n",
      "Epoch 12/200\n",
      "45/45 [==============================] - 3s 63ms/step - loss: 0.6453 - accuracy: 0.8598 - val_loss: 2.3948 - val_accuracy: 0.3695\n",
      "Epoch 13/200\n",
      "45/45 [==============================] - 3s 62ms/step - loss: 0.5705 - accuracy: 0.8697 - val_loss: 2.0622 - val_accuracy: 0.4737\n",
      "Epoch 14/200\n",
      "45/45 [==============================] - 3s 62ms/step - loss: 0.4775 - accuracy: 0.8992 - val_loss: 2.0309 - val_accuracy: 0.4916\n",
      "Epoch 15/200\n",
      "45/45 [==============================] - 3s 62ms/step - loss: 0.4212 - accuracy: 0.9078 - val_loss: 1.9939 - val_accuracy: 0.5158\n",
      "Epoch 16/200\n",
      "45/45 [==============================] - 3s 62ms/step - loss: 0.3308 - accuracy: 0.9326 - val_loss: 1.2948 - val_accuracy: 0.6821\n",
      "Epoch 17/200\n",
      "45/45 [==============================] - 3s 63ms/step - loss: 0.2262 - accuracy: 0.9666 - val_loss: 1.5001 - val_accuracy: 0.7168\n",
      "Epoch 18/200\n",
      "45/45 [==============================] - 3s 63ms/step - loss: 0.2218 - accuracy: 0.9688 - val_loss: 0.9695 - val_accuracy: 0.7600\n",
      "Epoch 19/200\n",
      "45/45 [==============================] - 3s 62ms/step - loss: 0.1661 - accuracy: 0.9803 - val_loss: 0.9494 - val_accuracy: 0.7589\n",
      "Epoch 20/200\n",
      "45/45 [==============================] - 3s 61ms/step - loss: 0.1380 - accuracy: 0.9808 - val_loss: 0.8772 - val_accuracy: 0.7916\n",
      "Epoch 21/200\n",
      "45/45 [==============================] - 3s 62ms/step - loss: 0.1116 - accuracy: 0.9877 - val_loss: 0.8282 - val_accuracy: 0.8105\n",
      "Epoch 22/200\n",
      "45/45 [==============================] - 3s 65ms/step - loss: 0.1017 - accuracy: 0.9882 - val_loss: 0.8299 - val_accuracy: 0.7895\n",
      "Epoch 23/200\n",
      "45/45 [==============================] - 3s 62ms/step - loss: 0.0905 - accuracy: 0.9924 - val_loss: 0.8654 - val_accuracy: 0.7832\n",
      "Epoch 24/200\n",
      "45/45 [==============================] - 3s 62ms/step - loss: 0.0790 - accuracy: 0.9920 - val_loss: 0.8704 - val_accuracy: 0.7905\n",
      "Epoch 25/200\n",
      "45/45 [==============================] - 3s 63ms/step - loss: 0.0828 - accuracy: 0.9883 - val_loss: 0.7999 - val_accuracy: 0.8053\n",
      "Epoch 26/200\n",
      "45/45 [==============================] - 3s 62ms/step - loss: 0.0568 - accuracy: 0.9960 - val_loss: 0.7897 - val_accuracy: 0.8200\n",
      "Epoch 27/200\n",
      "45/45 [==============================] - 3s 62ms/step - loss: 0.0621 - accuracy: 0.9929 - val_loss: 0.7935 - val_accuracy: 0.8011\n",
      "Epoch 28/200\n",
      "45/45 [==============================] - 3s 62ms/step - loss: 0.0621 - accuracy: 0.9894 - val_loss: 0.7828 - val_accuracy: 0.8011\n",
      "Epoch 29/200\n",
      "45/45 [==============================] - 3s 64ms/step - loss: 0.0478 - accuracy: 0.9966 - val_loss: 0.7997 - val_accuracy: 0.7968\n",
      "Epoch 30/200\n",
      "45/45 [==============================] - 3s 62ms/step - loss: 0.0437 - accuracy: 0.9952 - val_loss: 0.7763 - val_accuracy: 0.8042\n",
      "Epoch 31/200\n",
      "45/45 [==============================] - 3s 63ms/step - loss: 0.0462 - accuracy: 0.9980 - val_loss: 0.8478 - val_accuracy: 0.8063\n",
      "Epoch 32/200\n",
      "45/45 [==============================] - 3s 62ms/step - loss: 0.0363 - accuracy: 0.9977 - val_loss: 0.7934 - val_accuracy: 0.8032\n",
      "Epoch 33/200\n",
      "45/45 [==============================] - 3s 61ms/step - loss: 0.0341 - accuracy: 0.9965 - val_loss: 0.7782 - val_accuracy: 0.8095\n",
      "Epoch 34/200\n",
      "45/45 [==============================] - 3s 65ms/step - loss: 0.0324 - accuracy: 0.9971 - val_loss: 0.7408 - val_accuracy: 0.8242\n",
      "Epoch 35/200\n",
      "45/45 [==============================] - 3s 62ms/step - loss: 0.0335 - accuracy: 0.9964 - val_loss: 0.7550 - val_accuracy: 0.8126\n",
      "Epoch 36/200\n",
      "45/45 [==============================] - 3s 62ms/step - loss: 0.0320 - accuracy: 0.9970 - val_loss: 0.8008 - val_accuracy: 0.7947\n",
      "Epoch 37/200\n",
      "45/45 [==============================] - 3s 63ms/step - loss: 0.0301 - accuracy: 0.9986 - val_loss: 0.8036 - val_accuracy: 0.8105\n",
      "Epoch 38/200\n",
      "45/45 [==============================] - 3s 64ms/step - loss: 0.0266 - accuracy: 0.9976 - val_loss: 0.8158 - val_accuracy: 0.8105\n",
      "Epoch 39/200\n",
      "45/45 [==============================] - 3s 62ms/step - loss: 0.0255 - accuracy: 0.9958 - val_loss: 0.7962 - val_accuracy: 0.8116\n",
      "\n",
      "Epoch 00039: ReduceLROnPlateau reducing learning rate to 0.00020000000949949026.\n",
      "Epoch 40/200\n",
      "45/45 [==============================] - 3s 63ms/step - loss: 0.0178 - accuracy: 0.9981 - val_loss: 0.7806 - val_accuracy: 0.8147\n",
      "Epoch 41/200\n",
      "45/45 [==============================] - 3s 63ms/step - loss: 0.0221 - accuracy: 0.9989 - val_loss: 0.7278 - val_accuracy: 0.8274\n",
      "Epoch 42/200\n",
      "45/45 [==============================] - 3s 62ms/step - loss: 0.0162 - accuracy: 1.0000 - val_loss: 0.7231 - val_accuracy: 0.8305\n",
      "Epoch 43/200\n",
      "45/45 [==============================] - 3s 62ms/step - loss: 0.0178 - accuracy: 0.9991 - val_loss: 0.7323 - val_accuracy: 0.8253\n",
      "Epoch 44/200\n",
      "45/45 [==============================] - 3s 63ms/step - loss: 0.0180 - accuracy: 0.9981 - val_loss: 0.7213 - val_accuracy: 0.8221\n",
      "Epoch 45/200\n",
      "45/45 [==============================] - 3s 64ms/step - loss: 0.0155 - accuracy: 0.9996 - val_loss: 0.7241 - val_accuracy: 0.8284\n",
      "Epoch 46/200\n",
      "45/45 [==============================] - 3s 64ms/step - loss: 0.0133 - accuracy: 1.0000 - val_loss: 0.7200 - val_accuracy: 0.8295\n",
      "Epoch 47/200\n",
      "45/45 [==============================] - 3s 62ms/step - loss: 0.0165 - accuracy: 0.9997 - val_loss: 0.7188 - val_accuracy: 0.8232\n",
      "Epoch 48/200\n",
      "45/45 [==============================] - 3s 62ms/step - loss: 0.0131 - accuracy: 0.9993 - val_loss: 0.7174 - val_accuracy: 0.8253\n",
      "Epoch 49/200\n",
      "45/45 [==============================] - 3s 62ms/step - loss: 0.0125 - accuracy: 0.9994 - val_loss: 0.7175 - val_accuracy: 0.8284\n",
      "Epoch 50/200\n",
      "45/45 [==============================] - 3s 62ms/step - loss: 0.0144 - accuracy: 0.9993 - val_loss: 0.7223 - val_accuracy: 0.8200\n",
      "Epoch 51/200\n",
      "45/45 [==============================] - 3s 65ms/step - loss: 0.0135 - accuracy: 0.9998 - val_loss: 0.7194 - val_accuracy: 0.8263\n",
      "Epoch 52/200\n",
      "45/45 [==============================] - 3s 62ms/step - loss: 0.0182 - accuracy: 0.9966 - val_loss: 0.7219 - val_accuracy: 0.8326\n",
      "Epoch 53/200\n",
      "45/45 [==============================] - 3s 63ms/step - loss: 0.0140 - accuracy: 0.9999 - val_loss: 0.7276 - val_accuracy: 0.8253\n",
      "\n",
      "Epoch 00053: ReduceLROnPlateau reducing learning rate to 4.0000001899898055e-05.\n",
      "Epoch 54/200\n",
      "45/45 [==============================] - 3s 63ms/step - loss: 0.0127 - accuracy: 0.9995 - val_loss: 0.7230 - val_accuracy: 0.8284\n",
      "Epoch 55/200\n",
      "45/45 [==============================] - 3s 62ms/step - loss: 0.0135 - accuracy: 0.9997 - val_loss: 0.7200 - val_accuracy: 0.8295\n",
      "Epoch 56/200\n",
      "45/45 [==============================] - 3s 62ms/step - loss: 0.0141 - accuracy: 0.9995 - val_loss: 0.7200 - val_accuracy: 0.8305\n",
      "Epoch 57/200\n",
      "45/45 [==============================] - 3s 65ms/step - loss: 0.0124 - accuracy: 0.9998 - val_loss: 0.7191 - val_accuracy: 0.8316\n",
      "Epoch 58/200\n",
      "45/45 [==============================] - 3s 64ms/step - loss: 0.0133 - accuracy: 0.9990 - val_loss: 0.7205 - val_accuracy: 0.8305\n",
      "\n",
      "Epoch 00058: ReduceLROnPlateau reducing learning rate to 8.000000525498762e-06.\n",
      "Epoch 00058: early stopping\n"
     ]
    }
   ],
   "source": [
    "h2 = model_mel_2.fit(x_training_mel, y_training_mel, batch_size=64, epochs=200, verbose=1, validation_data=(x_val,y_val),callbacks = callbacks_2)"
   ]
  },
  {
   "cell_type": "code",
   "execution_count": 26,
   "id": "dangerous-transaction",
   "metadata": {
    "execution": {
     "iopub.execute_input": "2021-05-03T06:54:42.095356Z",
     "iopub.status.busy": "2021-05-03T06:54:42.094308Z",
     "iopub.status.idle": "2021-05-03T06:54:42.099135Z",
     "shell.execute_reply": "2021-05-03T06:54:42.098710Z"
    },
    "papermill": {
     "duration": 2.049362,
     "end_time": "2021-05-03T06:54:42.099256",
     "exception": false,
     "start_time": "2021-05-03T06:54:40.049894",
     "status": "completed"
    },
    "tags": []
   },
   "outputs": [
    {
     "data": {
      "text/plain": [
       "dict_keys(['loss', 'accuracy', 'val_loss', 'val_accuracy', 'lr'])"
      ]
     },
     "execution_count": 26,
     "metadata": {},
     "output_type": "execute_result"
    }
   ],
   "source": [
    "h2.history.keys()"
   ]
  },
  {
   "cell_type": "code",
   "execution_count": 27,
   "id": "cultural-clearing",
   "metadata": {
    "execution": {
     "iopub.execute_input": "2021-05-03T06:54:46.444506Z",
     "iopub.status.busy": "2021-05-03T06:54:46.443566Z",
     "iopub.status.idle": "2021-05-03T06:54:46.699637Z",
     "shell.execute_reply": "2021-05-03T06:54:46.700061Z"
    },
    "papermill": {
     "duration": 2.539411,
     "end_time": "2021-05-03T06:54:46.700209",
     "exception": false,
     "start_time": "2021-05-03T06:54:44.160798",
     "status": "completed"
    },
    "tags": []
   },
   "outputs": [
    {
     "data": {
      "image/png": "[encoded data removed]",
      "text/plain": [
       "<Figure size 864x360 with 2 Axes>"
      ]
     },
     "metadata": {
      "needs_background": "light"
     },
     "output_type": "display_data"
    }
   ],
   "source": [
    "plot_metrics(h2)"
   ]
  },
  {
   "cell_type": "code",
   "execution_count": 28,
   "id": "looking-fence",
   "metadata": {
    "execution": {
     "iopub.execute_input": "2021-05-03T06:54:51.286036Z",
     "iopub.status.busy": "2021-05-03T06:54:51.285120Z",
     "iopub.status.idle": "2021-05-03T06:54:51.404335Z",
     "shell.execute_reply": "2021-05-03T06:54:51.403814Z"
    },
    "papermill": {
     "duration": 2.681993,
     "end_time": "2021-05-03T06:54:51.404538",
     "exception": false,
     "start_time": "2021-05-03T06:54:48.722545",
     "status": "completed"
    },
    "tags": []
   },
   "outputs": [],
   "source": [
    "model_mel_2.save('mel_model_2.h5')"
   ]
  },
  {
   "cell_type": "markdown",
   "id": "third-stewart",
   "metadata": {
    "papermill": {
     "duration": 2.182931,
     "end_time": "2021-05-03T06:54:55.649170",
     "exception": false,
     "start_time": "2021-05-03T06:54:53.466239",
     "status": "completed"
    },
    "tags": []
   },
   "source": [
    "## **Testing accuracy**"
   ]
  },
  {
   "cell_type": "code",
   "execution_count": 29,
   "id": "toxic-license",
   "metadata": {
    "execution": {
     "iopub.execute_input": "2021-05-03T06:54:59.826390Z",
     "iopub.status.busy": "2021-05-03T06:54:59.825653Z",
     "iopub.status.idle": "2021-05-03T06:55:00.460451Z",
     "shell.execute_reply": "2021-05-03T06:55:00.459904Z"
    },
    "papermill": {
     "duration": 2.64548,
     "end_time": "2021-05-03T06:55:00.460645",
     "exception": false,
     "start_time": "2021-05-03T06:54:57.815165",
     "status": "completed"
    },
    "tags": []
   },
   "outputs": [],
   "source": [
    "mel_test_data_cat = np.load('../input/test-data-esc-50/mel_test_data_cat.npy',allow_pickle=True)"
   ]
  },
  {
   "cell_type": "code",
   "execution_count": 30,
   "id": "exterior-mechanism",
   "metadata": {
    "execution": {
     "iopub.execute_input": "2021-05-03T06:55:04.605846Z",
     "iopub.status.busy": "2021-05-03T06:55:04.604146Z",
     "iopub.status.idle": "2021-05-03T06:55:05.769490Z",
     "shell.execute_reply": "2021-05-03T06:55:05.768756Z"
    },
    "papermill": {
     "duration": 3.212954,
     "end_time": "2021-05-03T06:55:05.769648",
     "exception": false,
     "start_time": "2021-05-03T06:55:02.556694",
     "status": "completed"
    },
    "tags": []
   },
   "outputs": [
    {
     "name": "stderr",
     "output_type": "stream",
     "text": [
      "100%|██████████| 200/200 [00:01<00:00, 172.45it/s]\n"
     ]
    }
   ],
   "source": [
    "x_test_mel = np.zeros((1,128,216))\n",
    "for i in tqdm(range(200)):\n",
    "    x_test_mel = np.append(x_test_mel,[mel_test_data_cat[i][0][:,:,-1]],axis=0)"
   ]
  },
  {
   "cell_type": "code",
   "execution_count": 31,
   "id": "regulation-exhaust",
   "metadata": {
    "execution": {
     "iopub.execute_input": "2021-05-03T06:55:10.188651Z",
     "iopub.status.busy": "2021-05-03T06:55:10.186065Z",
     "iopub.status.idle": "2021-05-03T06:55:10.189344Z",
     "shell.execute_reply": "2021-05-03T06:55:10.189880Z"
    },
    "papermill": {
     "duration": 2.176926,
     "end_time": "2021-05-03T06:55:10.190058",
     "exception": false,
     "start_time": "2021-05-03T06:55:08.013132",
     "status": "completed"
    },
    "tags": []
   },
   "outputs": [],
   "source": [
    "x_test_mel = x_test_mel[1:,:,:]"
   ]
  },
  {
   "cell_type": "code",
   "execution_count": 32,
   "id": "swedish-consumer",
   "metadata": {
    "execution": {
     "iopub.execute_input": "2021-05-03T06:55:14.259977Z",
     "iopub.status.busy": "2021-05-03T06:55:14.259086Z",
     "iopub.status.idle": "2021-05-03T06:55:14.261647Z",
     "shell.execute_reply": "2021-05-03T06:55:14.261211Z"
    },
    "papermill": {
     "duration": 1.998622,
     "end_time": "2021-05-03T06:55:14.261763",
     "exception": false,
     "start_time": "2021-05-03T06:55:12.263141",
     "status": "completed"
    },
    "tags": []
   },
   "outputs": [],
   "source": [
    "x_test_mel = x_test_mel[:,:,:,np.newaxis]"
   ]
  },
  {
   "cell_type": "code",
   "execution_count": 33,
   "id": "above-beads",
   "metadata": {
    "execution": {
     "iopub.execute_input": "2021-05-03T06:55:18.545002Z",
     "iopub.status.busy": "2021-05-03T06:55:18.543020Z",
     "iopub.status.idle": "2021-05-03T06:55:18.545650Z",
     "shell.execute_reply": "2021-05-03T06:55:18.546084Z"
    },
    "papermill": {
     "duration": 2.231344,
     "end_time": "2021-05-03T06:55:18.546234",
     "exception": false,
     "start_time": "2021-05-03T06:55:16.314890",
     "status": "completed"
    },
    "tags": []
   },
   "outputs": [],
   "source": [
    "y_test_mel = []\n",
    "for i in range(200):\n",
    "    y_test_mel.append(mel_test_data_cat[i][1])"
   ]
  },
  {
   "cell_type": "code",
   "execution_count": 34,
   "id": "living-instrumentation",
   "metadata": {
    "execution": {
     "iopub.execute_input": "2021-05-03T06:55:22.594273Z",
     "iopub.status.busy": "2021-05-03T06:55:22.593460Z",
     "iopub.status.idle": "2021-05-03T06:55:22.596564Z",
     "shell.execute_reply": "2021-05-03T06:55:22.596112Z"
    },
    "papermill": {
     "duration": 2.023505,
     "end_time": "2021-05-03T06:55:22.596686",
     "exception": false,
     "start_time": "2021-05-03T06:55:20.573181",
     "status": "completed"
    },
    "tags": []
   },
   "outputs": [],
   "source": [
    "y_test_mel = np.array(y_test_mel)"
   ]
  },
  {
   "cell_type": "code",
   "execution_count": 35,
   "id": "orange-favor",
   "metadata": {
    "execution": {
     "iopub.execute_input": "2021-05-03T06:55:27.223877Z",
     "iopub.status.busy": "2021-05-03T06:55:27.223011Z",
     "iopub.status.idle": "2021-05-03T06:55:27.226525Z",
     "shell.execute_reply": "2021-05-03T06:55:27.226990Z"
    },
    "papermill": {
     "duration": 2.06254,
     "end_time": "2021-05-03T06:55:27.227129",
     "exception": false,
     "start_time": "2021-05-03T06:55:25.164589",
     "status": "completed"
    },
    "tags": []
   },
   "outputs": [
    {
     "data": {
      "text/plain": [
       "200"
      ]
     },
     "execution_count": 35,
     "metadata": {},
     "output_type": "execute_result"
    }
   ],
   "source": [
    "len(y_test_mel)"
   ]
  },
  {
   "cell_type": "code",
   "execution_count": 36,
   "id": "french-group",
   "metadata": {
    "execution": {
     "iopub.execute_input": "2021-05-03T06:55:31.688238Z",
     "iopub.status.busy": "2021-05-03T06:55:31.687102Z",
     "iopub.status.idle": "2021-05-03T06:55:32.096518Z",
     "shell.execute_reply": "2021-05-03T06:55:32.095915Z"
    },
    "papermill": {
     "duration": 2.475941,
     "end_time": "2021-05-03T06:55:32.096683",
     "exception": false,
     "start_time": "2021-05-03T06:55:29.620742",
     "status": "completed"
    },
    "tags": []
   },
   "outputs": [
    {
     "name": "stdout",
     "output_type": "stream",
     "text": [
      "7/7 [==============================] - 0s 20ms/step - loss: 0.8282 - accuracy: 0.8650\n",
      "test loss, test acc: [0.8281658887863159, 0.8650000095367432]\n"
     ]
    }
   ],
   "source": [
    "#Model 1 test results\n",
    "results = model_mel_1.evaluate(x_test_mel, y_test_mel, batch_size=32)\n",
    "print(\"test loss, test acc:\", results)"
   ]
  },
  {
   "cell_type": "code",
   "execution_count": 37,
   "id": "balanced-clerk",
   "metadata": {
    "execution": {
     "iopub.execute_input": "2021-05-03T06:55:36.188292Z",
     "iopub.status.busy": "2021-05-03T06:55:36.187225Z",
     "iopub.status.idle": "2021-05-03T06:55:36.586625Z",
     "shell.execute_reply": "2021-05-03T06:55:36.586134Z"
    },
    "papermill": {
     "duration": 2.474479,
     "end_time": "2021-05-03T06:55:36.586765",
     "exception": false,
     "start_time": "2021-05-03T06:55:34.112286",
     "status": "completed"
    },
    "tags": []
   },
   "outputs": [
    {
     "name": "stdout",
     "output_type": "stream",
     "text": [
      "7/7 [==============================] - 0s 16ms/step - loss: 0.7571 - accuracy: 0.8300\n",
      "test loss, test acc: [0.7571437954902649, 0.8299999833106995]\n"
     ]
    }
   ],
   "source": [
    "#Model 2 test results\n",
    "results = model_mel_2.evaluate(x_test_mel, y_test_mel, batch_size=32)\n",
    "print(\"test loss, test acc:\", results)"
   ]
  }
 ],
 "metadata": {
  "kernelspec": {
   "display_name": "Python 3",
   "language": "python",
   "name": "python3"
  },
  "language_info": {
   "codemirror_mode": {
    "name": "ipython",
    "version": 3
   },
   "file_extension": ".py",
   "mimetype": "text/x-python",
   "name": "python",
   "nbconvert_exporter": "python",
   "pygments_lexer": "ipython3",
   "version": "3.7.9"
  },
  "papermill": {
   "default_parameters": {},
   "duration": 1033.915157,
   "end_time": "2021-05-03T06:55:41.982274",
   "environment_variables": {},
   "exception": null,
   "input_path": "__notebook__.ipynb",
   "output_path": "__notebook__.ipynb",
   "parameters": {},
   "start_time": "2021-05-03T06:38:28.067117",
   "version": "2.3.2"
  }
 },
 "nbformat": 4,
 "nbformat_minor": 5
}
