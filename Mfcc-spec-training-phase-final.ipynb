{
 "cells": [
  {
   "cell_type": "code",
   "execution_count": 1,
   "id": "familiar-christianity",
   "metadata": {
    "_cell_guid": "b1076dfc-b9ad-4769-8c92-a6c4dae69d19",
    "_uuid": "8f2839f25d086af736a60e9eeb907d3b93b6e0e5",
    "execution": {
     "iopub.execute_input": "2021-04-29T19:21:15.920686Z",
     "iopub.status.busy": "2021-04-29T19:21:15.919007Z",
     "iopub.status.idle": "2021-04-29T19:21:22.980509Z",
     "shell.execute_reply": "2021-04-29T19:21:22.979341Z"
    },
    "papermill": {
     "duration": 7.083605,
     "end_time": "2021-04-29T19:21:22.980675",
     "exception": false,
     "start_time": "2021-04-29T19:21:15.897070",
     "status": "completed"
    },
    "tags": []
   },
   "outputs": [],
   "source": [
    "import numpy as np\n",
    "import pandas as pd\n",
    "import os,sys\n",
    "import matplotlib.pyplot as plt\n",
    "import librosa\n",
    "import librosa.display\n",
    "from tqdm import tqdm\n",
    "import IPython.display as ipd\n",
    "from IPython.core.display import display\n",
    "import tensorflow as tf\n",
    "import tensorflow.keras.backend as K\n",
    "from tensorflow.keras.models import Sequential\n",
    "from tensorflow.keras.layers import Conv2D, MaxPooling2D\n",
    "from tensorflow.keras.layers import Dense, Dropout, Flatten, Activation, BatchNormalization, GlobalAveragePooling2D\n",
    "from tensorflow.keras.utils import to_categorical\n",
    "from keras.models import Model, Input"
   ]
  },
  {
   "cell_type": "code",
   "execution_count": 2,
   "id": "frank-anniversary",
   "metadata": {
    "execution": {
     "iopub.execute_input": "2021-04-29T19:21:23.018729Z",
     "iopub.status.busy": "2021-04-29T19:21:23.018173Z",
     "iopub.status.idle": "2021-04-29T19:21:24.837362Z",
     "shell.execute_reply": "2021-04-29T19:21:24.836383Z"
    },
    "papermill": {
     "duration": 1.839011,
     "end_time": "2021-04-29T19:21:24.837514",
     "exception": false,
     "start_time": "2021-04-29T19:21:22.998503",
     "status": "completed"
    },
    "tags": []
   },
   "outputs": [],
   "source": [
    "train_mfcc_spec_normalised = np.load('../input/esc-50-cip-project-sound/train_mfcc_spec_normalised.npy',allow_pickle=True)"
   ]
  },
  {
   "cell_type": "code",
   "execution_count": 3,
   "id": "following-intake",
   "metadata": {
    "execution": {
     "iopub.execute_input": "2021-04-29T19:21:24.878169Z",
     "iopub.status.busy": "2021-04-29T19:21:24.877508Z",
     "iopub.status.idle": "2021-04-29T19:21:24.881228Z",
     "shell.execute_reply": "2021-04-29T19:21:24.881637Z"
    },
    "papermill": {
     "duration": 0.027635,
     "end_time": "2021-04-29T19:21:24.881768",
     "exception": false,
     "start_time": "2021-04-29T19:21:24.854133",
     "status": "completed"
    },
    "tags": []
   },
   "outputs": [
    {
     "data": {
      "text/plain": [
       "(20, 216, 1)"
      ]
     },
     "execution_count": 3,
     "metadata": {},
     "output_type": "execute_result"
    }
   ],
   "source": [
    "train_mfcc_spec_normalised[0][0].shape"
   ]
  },
  {
   "cell_type": "code",
   "execution_count": 4,
   "id": "steady-party",
   "metadata": {
    "execution": {
     "iopub.execute_input": "2021-04-29T19:21:24.919309Z",
     "iopub.status.busy": "2021-04-29T19:21:24.918832Z",
     "iopub.status.idle": "2021-04-29T19:22:56.876097Z",
     "shell.execute_reply": "2021-04-29T19:22:56.875424Z"
    },
    "papermill": {
     "duration": 91.977768,
     "end_time": "2021-04-29T19:22:56.876263",
     "exception": false,
     "start_time": "2021-04-29T19:21:24.898495",
     "status": "completed"
    },
    "tags": []
   },
   "outputs": [
    {
     "name": "stderr",
     "output_type": "stream",
     "text": [
      "100%|██████████| 3799/3799 [01:31<00:00, 41.32it/s]\n"
     ]
    }
   ],
   "source": [
    "x_train_mfcc = np.zeros((1,20,216))\n",
    "for i in tqdm(range(3799)):\n",
    "    x_train_mfcc = np.append(x_train_mfcc,[train_mfcc_spec_normalised[i][0][:,:,-1]],axis=0)"
   ]
  },
  {
   "cell_type": "code",
   "execution_count": 5,
   "id": "chinese-andrews",
   "metadata": {
    "execution": {
     "iopub.execute_input": "2021-04-29T19:22:57.289412Z",
     "iopub.status.busy": "2021-04-29T19:22:57.288614Z",
     "iopub.status.idle": "2021-04-29T19:22:57.291303Z",
     "shell.execute_reply": "2021-04-29T19:22:57.290910Z"
    },
    "papermill": {
     "duration": 0.21031,
     "end_time": "2021-04-29T19:22:57.291412",
     "exception": false,
     "start_time": "2021-04-29T19:22:57.081102",
     "status": "completed"
    },
    "tags": []
   },
   "outputs": [],
   "source": [
    "x_train_mfcc = x_train_mfcc[1:,:,:]"
   ]
  },
  {
   "cell_type": "code",
   "execution_count": 6,
   "id": "solid-sheep",
   "metadata": {
    "execution": {
     "iopub.execute_input": "2021-04-29T19:22:57.704833Z",
     "iopub.status.busy": "2021-04-29T19:22:57.704034Z",
     "iopub.status.idle": "2021-04-29T19:22:57.706146Z",
     "shell.execute_reply": "2021-04-29T19:22:57.706563Z"
    },
    "papermill": {
     "duration": 0.211674,
     "end_time": "2021-04-29T19:22:57.706704",
     "exception": false,
     "start_time": "2021-04-29T19:22:57.495030",
     "status": "completed"
    },
    "tags": []
   },
   "outputs": [],
   "source": [
    "x_train_mfcc = x_train_mfcc[:,:,:,np.newaxis]"
   ]
  },
  {
   "cell_type": "code",
   "execution_count": 7,
   "id": "different-generic",
   "metadata": {
    "execution": {
     "iopub.execute_input": "2021-04-29T19:22:58.138350Z",
     "iopub.status.busy": "2021-04-29T19:22:58.136496Z",
     "iopub.status.idle": "2021-04-29T19:22:58.138955Z",
     "shell.execute_reply": "2021-04-29T19:22:58.139342Z"
    },
    "papermill": {
     "duration": 0.229278,
     "end_time": "2021-04-29T19:22:58.139497",
     "exception": false,
     "start_time": "2021-04-29T19:22:57.910219",
     "status": "completed"
    },
    "tags": []
   },
   "outputs": [],
   "source": [
    "y_train_mfcc = []\n",
    "for i in range(3799):\n",
    "    y_train_mfcc.append(train_mfcc_spec_normalised[i][1])"
   ]
  },
  {
   "cell_type": "code",
   "execution_count": 8,
   "id": "collected-chaos",
   "metadata": {
    "execution": {
     "iopub.execute_input": "2021-04-29T19:22:58.557876Z",
     "iopub.status.busy": "2021-04-29T19:22:58.557098Z",
     "iopub.status.idle": "2021-04-29T19:22:58.560074Z",
     "shell.execute_reply": "2021-04-29T19:22:58.559671Z"
    },
    "papermill": {
     "duration": 0.215941,
     "end_time": "2021-04-29T19:22:58.560206",
     "exception": false,
     "start_time": "2021-04-29T19:22:58.344265",
     "status": "completed"
    },
    "tags": []
   },
   "outputs": [],
   "source": [
    "y_train_mfcc = np.array(y_train_mfcc)"
   ]
  },
  {
   "cell_type": "code",
   "execution_count": 9,
   "id": "conventional-italy",
   "metadata": {
    "execution": {
     "iopub.execute_input": "2021-04-29T19:22:58.983574Z",
     "iopub.status.busy": "2021-04-29T19:22:58.982757Z",
     "iopub.status.idle": "2021-04-29T19:22:58.986502Z",
     "shell.execute_reply": "2021-04-29T19:22:58.986060Z"
    },
    "papermill": {
     "duration": 0.216655,
     "end_time": "2021-04-29T19:22:58.986621",
     "exception": false,
     "start_time": "2021-04-29T19:22:58.769966",
     "status": "completed"
    },
    "tags": []
   },
   "outputs": [
    {
     "data": {
      "text/plain": [
       "(3799, 1)"
      ]
     },
     "execution_count": 9,
     "metadata": {},
     "output_type": "execute_result"
    }
   ],
   "source": [
    "y_train_mfcc = y_train_mfcc.reshape(3799,1)\n",
    "y_train_mfcc.shape"
   ]
  },
  {
   "cell_type": "code",
   "execution_count": 10,
   "id": "genuine-sleeping",
   "metadata": {
    "execution": {
     "iopub.execute_input": "2021-04-29T19:22:59.598704Z",
     "iopub.status.busy": "2021-04-29T19:22:59.598084Z",
     "iopub.status.idle": "2021-04-29T19:22:59.614272Z",
     "shell.execute_reply": "2021-04-29T19:22:59.614967Z"
    },
    "papermill": {
     "duration": 0.368284,
     "end_time": "2021-04-29T19:22:59.615106",
     "exception": false,
     "start_time": "2021-04-29T19:22:59.246822",
     "status": "completed"
    },
    "tags": []
   },
   "outputs": [],
   "source": [
    "model_input = Input(shape=(20,216,1))"
   ]
  },
  {
   "cell_type": "code",
   "execution_count": 11,
   "id": "activated-footage",
   "metadata": {
    "execution": {
     "iopub.execute_input": "2021-04-29T19:23:00.274324Z",
     "iopub.status.busy": "2021-04-29T19:23:00.273626Z",
     "iopub.status.idle": "2021-04-29T19:23:00.277244Z",
     "shell.execute_reply": "2021-04-29T19:23:00.278428Z"
    },
    "papermill": {
     "duration": 0.299343,
     "end_time": "2021-04-29T19:23:00.278631",
     "exception": false,
     "start_time": "2021-04-29T19:22:59.979288",
     "status": "completed"
    },
    "tags": []
   },
   "outputs": [],
   "source": [
    "def plot_metrics(h):\n",
    "    #Plotting metrics\n",
    "    plt.figure(figsize=(12,5))\n",
    "    plt.subplot(1,2,1)\n",
    "    plt.plot(h.history['loss']);\n",
    "    plt.plot(h.history['val_loss']);\n",
    "    plt.title(\"Loss vs Epochs\");\n",
    "    plt.ylabel(\"Loss\");\n",
    "    plt.xlabel(\"Epochs\");\n",
    "    plt.legend(['train', 'val']);\n",
    "\n",
    "    # summarize history for accuracy\n",
    "    plt.subplot(1,2,2)\n",
    "    plt.plot(h.history['accuracy'])\n",
    "    plt.plot(h.history['val_accuracy'])\n",
    "    plt.title('Accuracy vs Epochs')\n",
    "    plt.ylabel('Accuracy')\n",
    "    plt.xlabel('Epochs')\n",
    "    plt.legend(['train', 'validation'], loc='upper left')\n",
    "    plt.show()"
   ]
  },
  {
   "cell_type": "markdown",
   "id": "working-russia",
   "metadata": {
    "papermill": {
     "duration": 0.204954,
     "end_time": "2021-04-29T19:23:00.709711",
     "exception": false,
     "start_time": "2021-04-29T19:23:00.504757",
     "status": "completed"
    },
    "tags": []
   },
   "source": [
    "# **Model Definition**\n"
   ]
  },
  {
   "cell_type": "code",
   "execution_count": 12,
   "id": "greenhouse-projector",
   "metadata": {
    "execution": {
     "iopub.execute_input": "2021-04-29T19:23:01.126851Z",
     "iopub.status.busy": "2021-04-29T19:23:01.126035Z",
     "iopub.status.idle": "2021-04-29T19:23:01.128722Z",
     "shell.execute_reply": "2021-04-29T19:23:01.128296Z"
    },
    "papermill": {
     "duration": 0.215722,
     "end_time": "2021-04-29T19:23:01.128837",
     "exception": false,
     "start_time": "2021-04-29T19:23:00.913115",
     "status": "completed"
    },
    "tags": []
   },
   "outputs": [],
   "source": [
    "def create_keras_model_2(model_input, num_classes):\n",
    "\n",
    "    x = Conv2D(64, kernel_size=(3, 3), activation='relu',padding='same')(model_input)\n",
    "    x = BatchNormalization()(x)\n",
    "\n",
    "    x = Conv2D(128, kernel_size=(3, 3), activation='relu',padding='same')(x)\n",
    "    x = BatchNormalization()(x)\n",
    "    \n",
    "    x = MaxPooling2D(pool_size=(4, 4))(x)\n",
    "    x = Dropout(0.25)(x)\n",
    "    \n",
    "    x = Conv2D(128, kernel_size=(3, 3), activation='relu',padding='same')(x)\n",
    "    x = BatchNormalization()(x)\n",
    "\n",
    "    x = MaxPooling2D(pool_size=(4, 4))(x)\n",
    "    x = Dropout(0.25)(x)\n",
    "\n",
    "    x = Flatten()(x)\n",
    "\n",
    "    x = Dense(512, activation='relu')(x)\n",
    "    x = BatchNormalization()(x)\n",
    "    x = Dropout(0.25)(x)\n",
    "    \n",
    "    x = Dense(num_classes, activation='softmax')(x)\n",
    "    model = Model(model_input,x,name = 'model_2')\n",
    "    return model"
   ]
  },
  {
   "cell_type": "code",
   "execution_count": 13,
   "id": "built-hybrid",
   "metadata": {
    "execution": {
     "iopub.execute_input": "2021-04-29T19:23:01.547839Z",
     "iopub.status.busy": "2021-04-29T19:23:01.547187Z",
     "iopub.status.idle": "2021-04-29T19:23:04.442604Z",
     "shell.execute_reply": "2021-04-29T19:23:04.441967Z"
    },
    "papermill": {
     "duration": 3.109276,
     "end_time": "2021-04-29T19:23:04.442817",
     "exception": false,
     "start_time": "2021-04-29T19:23:01.333541",
     "status": "completed"
    },
    "tags": []
   },
   "outputs": [
    {
     "name": "stdout",
     "output_type": "stream",
     "text": [
      "Model: \"model_2\"\n",
      "_________________________________________________________________\n",
      "Layer (type)                 Output Shape              Param #   \n",
      "=================================================================\n",
      "input_1 (InputLayer)         [(None, 20, 216, 1)]      0         \n",
      "_________________________________________________________________\n",
      "conv2d (Conv2D)              (None, 20, 216, 64)       640       \n",
      "_________________________________________________________________\n",
      "batch_normalization (BatchNo (None, 20, 216, 64)       256       \n",
      "_________________________________________________________________\n",
      "conv2d_1 (Conv2D)            (None, 20, 216, 128)      73856     \n",
      "_________________________________________________________________\n",
      "batch_normalization_1 (Batch (None, 20, 216, 128)      512       \n",
      "_________________________________________________________________\n",
      "max_pooling2d (MaxPooling2D) (None, 5, 54, 128)        0         \n",
      "_________________________________________________________________\n",
      "dropout (Dropout)            (None, 5, 54, 128)        0         \n",
      "_________________________________________________________________\n",
      "conv2d_2 (Conv2D)            (None, 5, 54, 128)        147584    \n",
      "_________________________________________________________________\n",
      "batch_normalization_2 (Batch (None, 5, 54, 128)        512       \n",
      "_________________________________________________________________\n",
      "max_pooling2d_1 (MaxPooling2 (None, 1, 13, 128)        0         \n",
      "_________________________________________________________________\n",
      "dropout_1 (Dropout)          (None, 1, 13, 128)        0         \n",
      "_________________________________________________________________\n",
      "flatten (Flatten)            (None, 1664)              0         \n",
      "_________________________________________________________________\n",
      "dense (Dense)                (None, 512)               852480    \n",
      "_________________________________________________________________\n",
      "batch_normalization_3 (Batch (None, 512)               2048      \n",
      "_________________________________________________________________\n",
      "dropout_2 (Dropout)          (None, 512)               0         \n",
      "_________________________________________________________________\n",
      "dense_1 (Dense)              (None, 50)                25650     \n",
      "=================================================================\n",
      "Total params: 1,103,538\n",
      "Trainable params: 1,101,874\n",
      "Non-trainable params: 1,664\n",
      "_________________________________________________________________\n"
     ]
    }
   ],
   "source": [
    "model_mfcc_2 = create_keras_model_2(model_input,50)\n",
    "model_mfcc_2.summary()"
   ]
  },
  {
   "cell_type": "code",
   "execution_count": 14,
   "id": "expressed-closer",
   "metadata": {
    "execution": {
     "iopub.execute_input": "2021-04-29T19:23:05.127858Z",
     "iopub.status.busy": "2021-04-29T19:23:05.126331Z",
     "iopub.status.idle": "2021-04-29T19:23:05.128569Z",
     "shell.execute_reply": "2021-04-29T19:23:05.127085Z"
    },
    "papermill": {
     "duration": 0.343802,
     "end_time": "2021-04-29T19:23:05.128727",
     "exception": false,
     "start_time": "2021-04-29T19:23:04.784925",
     "status": "completed"
    },
    "tags": []
   },
   "outputs": [],
   "source": [
    "checkpoint_path = 'mfcc_model_2.h5'\n",
    "callbacks2 = [\n",
    "    tf.keras.callbacks.EarlyStopping(monitor='val_loss', patience=30, verbose=1, mode=\"min\"),\n",
    "    tf.keras.callbacks.ReduceLROnPlateau(monitor='val_loss',\n",
    "                              mode='min',\n",
    "                              verbose=1,\n",
    "                              patience=10,\n",
    "                              min_delta=0.0001,\n",
    "                              factor=0.2\n",
    "                             ),\n",
    "    tf.keras.callbacks.ModelCheckpoint(checkpoint_path, monitor='val_accuracy', verbose=1, save_best_only=True)\n",
    "]"
   ]
  },
  {
   "cell_type": "code",
   "execution_count": 15,
   "id": "valuable-appearance",
   "metadata": {
    "execution": {
     "iopub.execute_input": "2021-04-29T19:23:05.750373Z",
     "iopub.status.busy": "2021-04-29T19:23:05.749528Z",
     "iopub.status.idle": "2021-04-29T19:23:05.755508Z",
     "shell.execute_reply": "2021-04-29T19:23:05.755903Z"
    },
    "papermill": {
     "duration": 0.283595,
     "end_time": "2021-04-29T19:23:05.756040",
     "exception": false,
     "start_time": "2021-04-29T19:23:05.472445",
     "status": "completed"
    },
    "tags": []
   },
   "outputs": [],
   "source": [
    "model_mfcc_2.compile(loss='sparse_categorical_crossentropy', optimizer=tf.keras.optimizers.Adam(), metrics=['accuracy'])"
   ]
  },
  {
   "cell_type": "code",
   "execution_count": 16,
   "id": "changing-cartoon",
   "metadata": {
    "execution": {
     "iopub.execute_input": "2021-04-29T19:23:06.213583Z",
     "iopub.status.busy": "2021-04-29T19:23:06.212924Z",
     "iopub.status.idle": "2021-04-29T19:24:59.321777Z",
     "shell.execute_reply": "2021-04-29T19:24:59.322386Z"
    },
    "papermill": {
     "duration": 113.320602,
     "end_time": "2021-04-29T19:24:59.322612",
     "exception": false,
     "start_time": "2021-04-29T19:23:06.002010",
     "status": "completed"
    },
    "tags": []
   },
   "outputs": [
    {
     "name": "stdout",
     "output_type": "stream",
     "text": [
      "Epoch 1/200\n",
      "48/48 [==============================] - 6s 46ms/step - loss: 4.1209 - accuracy: 0.0655 - val_loss: 6.2586 - val_accuracy: 0.0197\n",
      "\n",
      "Epoch 00001: val_accuracy improved from -inf to 0.01974, saving model to mfcc_model_2.h5\n",
      "Epoch 2/200\n",
      "48/48 [==============================] - 1s 29ms/step - loss: 2.9808 - accuracy: 0.1988 - val_loss: 10.4726 - val_accuracy: 0.0237\n",
      "\n",
      "Epoch 00002: val_accuracy improved from 0.01974 to 0.02368, saving model to mfcc_model_2.h5\n",
      "Epoch 3/200\n",
      "48/48 [==============================] - 1s 30ms/step - loss: 2.4864 - accuracy: 0.2959 - val_loss: 11.9572 - val_accuracy: 0.0263\n",
      "\n",
      "Epoch 00003: val_accuracy improved from 0.02368 to 0.02632, saving model to mfcc_model_2.h5\n",
      "Epoch 4/200\n",
      "48/48 [==============================] - 1s 29ms/step - loss: 2.2365 - accuracy: 0.3504 - val_loss: 11.4991 - val_accuracy: 0.0171\n",
      "\n",
      "Epoch 00004: val_accuracy did not improve from 0.02632\n",
      "Epoch 5/200\n",
      "48/48 [==============================] - 1s 29ms/step - loss: 1.9413 - accuracy: 0.4426 - val_loss: 10.9479 - val_accuracy: 0.0171\n",
      "\n",
      "Epoch 00005: val_accuracy did not improve from 0.02632\n",
      "Epoch 6/200\n",
      "48/48 [==============================] - 1s 29ms/step - loss: 1.7423 - accuracy: 0.4837 - val_loss: 8.6548 - val_accuracy: 0.0289\n",
      "\n",
      "Epoch 00006: val_accuracy improved from 0.02632 to 0.02895, saving model to mfcc_model_2.h5\n",
      "Epoch 7/200\n",
      "48/48 [==============================] - 1s 30ms/step - loss: 1.4941 - accuracy: 0.5680 - val_loss: 10.1805 - val_accuracy: 0.0289\n",
      "\n",
      "Epoch 00007: val_accuracy did not improve from 0.02895\n",
      "Epoch 8/200\n",
      "48/48 [==============================] - 1s 30ms/step - loss: 1.3191 - accuracy: 0.6097 - val_loss: 9.1642 - val_accuracy: 0.0289\n",
      "\n",
      "Epoch 00008: val_accuracy did not improve from 0.02895\n",
      "Epoch 9/200\n",
      "48/48 [==============================] - 1s 29ms/step - loss: 1.1208 - accuracy: 0.6852 - val_loss: 7.9561 - val_accuracy: 0.0329\n",
      "\n",
      "Epoch 00009: val_accuracy improved from 0.02895 to 0.03289, saving model to mfcc_model_2.h5\n",
      "Epoch 10/200\n",
      "48/48 [==============================] - 1s 29ms/step - loss: 1.0742 - accuracy: 0.6736 - val_loss: 5.9673 - val_accuracy: 0.0553\n",
      "\n",
      "Epoch 00010: val_accuracy improved from 0.03289 to 0.05526, saving model to mfcc_model_2.h5\n",
      "Epoch 11/200\n",
      "48/48 [==============================] - 1s 29ms/step - loss: 0.9306 - accuracy: 0.7298 - val_loss: 4.4642 - val_accuracy: 0.1250\n",
      "\n",
      "Epoch 00011: val_accuracy improved from 0.05526 to 0.12500, saving model to mfcc_model_2.h5\n",
      "Epoch 12/200\n",
      "48/48 [==============================] - 1s 29ms/step - loss: 0.8113 - accuracy: 0.7597 - val_loss: 4.0224 - val_accuracy: 0.1645\n",
      "\n",
      "Epoch 00012: val_accuracy improved from 0.12500 to 0.16447, saving model to mfcc_model_2.h5\n",
      "Epoch 13/200\n",
      "48/48 [==============================] - 1s 30ms/step - loss: 0.7129 - accuracy: 0.7845 - val_loss: 3.2280 - val_accuracy: 0.2553\n",
      "\n",
      "Epoch 00013: val_accuracy improved from 0.16447 to 0.25526, saving model to mfcc_model_2.h5\n",
      "Epoch 14/200\n",
      "48/48 [==============================] - 1s 29ms/step - loss: 0.5944 - accuracy: 0.8300 - val_loss: 2.0618 - val_accuracy: 0.4447\n",
      "\n",
      "Epoch 00014: val_accuracy improved from 0.25526 to 0.44474, saving model to mfcc_model_2.h5\n",
      "Epoch 15/200\n",
      "48/48 [==============================] - 1s 31ms/step - loss: 0.5345 - accuracy: 0.8482 - val_loss: 1.5711 - val_accuracy: 0.5474\n",
      "\n",
      "Epoch 00015: val_accuracy improved from 0.44474 to 0.54737, saving model to mfcc_model_2.h5\n",
      "Epoch 16/200\n",
      "48/48 [==============================] - 1s 30ms/step - loss: 0.4732 - accuracy: 0.8660 - val_loss: 1.5339 - val_accuracy: 0.5855\n",
      "\n",
      "Epoch 00016: val_accuracy improved from 0.54737 to 0.58553, saving model to mfcc_model_2.h5\n",
      "Epoch 17/200\n",
      "48/48 [==============================] - 1s 30ms/step - loss: 0.4323 - accuracy: 0.8771 - val_loss: 1.1904 - val_accuracy: 0.6816\n",
      "\n",
      "Epoch 00017: val_accuracy improved from 0.58553 to 0.68158, saving model to mfcc_model_2.h5\n",
      "Epoch 18/200\n",
      "48/48 [==============================] - 2s 34ms/step - loss: 0.3425 - accuracy: 0.9093 - val_loss: 1.4768 - val_accuracy: 0.6000\n",
      "\n",
      "Epoch 00018: val_accuracy did not improve from 0.68158\n",
      "Epoch 19/200\n",
      "48/48 [==============================] - 1s 30ms/step - loss: 0.3105 - accuracy: 0.9161 - val_loss: 1.1944 - val_accuracy: 0.6684\n",
      "\n",
      "Epoch 00019: val_accuracy did not improve from 0.68158\n",
      "Epoch 20/200\n",
      "48/48 [==============================] - 1s 29ms/step - loss: 0.3125 - accuracy: 0.9146 - val_loss: 0.9777 - val_accuracy: 0.7250\n",
      "\n",
      "Epoch 00020: val_accuracy improved from 0.68158 to 0.72500, saving model to mfcc_model_2.h5\n",
      "Epoch 21/200\n",
      "48/48 [==============================] - 1s 30ms/step - loss: 0.2631 - accuracy: 0.9306 - val_loss: 1.5160 - val_accuracy: 0.6118\n",
      "\n",
      "Epoch 00021: val_accuracy did not improve from 0.72500\n",
      "Epoch 22/200\n",
      "48/48 [==============================] - 1s 30ms/step - loss: 0.2733 - accuracy: 0.9211 - val_loss: 1.0921 - val_accuracy: 0.7092\n",
      "\n",
      "Epoch 00022: val_accuracy did not improve from 0.72500\n",
      "Epoch 23/200\n",
      "48/48 [==============================] - 1s 30ms/step - loss: 0.2062 - accuracy: 0.9457 - val_loss: 1.0250 - val_accuracy: 0.7224\n",
      "\n",
      "Epoch 00023: val_accuracy did not improve from 0.72500\n",
      "Epoch 24/200\n",
      "48/48 [==============================] - 1s 29ms/step - loss: 0.1955 - accuracy: 0.9426 - val_loss: 1.0140 - val_accuracy: 0.7171\n",
      "\n",
      "Epoch 00024: val_accuracy did not improve from 0.72500\n",
      "Epoch 25/200\n",
      "48/48 [==============================] - 1s 29ms/step - loss: 0.1725 - accuracy: 0.9588 - val_loss: 0.9903 - val_accuracy: 0.7289\n",
      "\n",
      "Epoch 00025: val_accuracy improved from 0.72500 to 0.72895, saving model to mfcc_model_2.h5\n",
      "Epoch 26/200\n",
      "48/48 [==============================] - 1s 29ms/step - loss: 0.1666 - accuracy: 0.9565 - val_loss: 0.6811 - val_accuracy: 0.8053\n",
      "\n",
      "Epoch 00026: val_accuracy improved from 0.72895 to 0.80526, saving model to mfcc_model_2.h5\n",
      "Epoch 27/200\n",
      "48/48 [==============================] - 1s 29ms/step - loss: 0.1458 - accuracy: 0.9608 - val_loss: 1.6867 - val_accuracy: 0.6289\n",
      "\n",
      "Epoch 00027: val_accuracy did not improve from 0.80526\n",
      "Epoch 28/200\n",
      "48/48 [==============================] - 1s 29ms/step - loss: 0.1357 - accuracy: 0.9645 - val_loss: 0.9096 - val_accuracy: 0.7526\n",
      "\n",
      "Epoch 00028: val_accuracy did not improve from 0.80526\n",
      "Epoch 29/200\n",
      "48/48 [==============================] - 1s 29ms/step - loss: 0.1311 - accuracy: 0.9654 - val_loss: 0.9735 - val_accuracy: 0.7605\n",
      "\n",
      "Epoch 00029: val_accuracy did not improve from 0.80526\n",
      "Epoch 30/200\n",
      "48/48 [==============================] - 1s 31ms/step - loss: 0.1194 - accuracy: 0.9688 - val_loss: 1.0217 - val_accuracy: 0.7579\n",
      "\n",
      "Epoch 00030: val_accuracy did not improve from 0.80526\n",
      "Epoch 31/200\n",
      "48/48 [==============================] - 1s 29ms/step - loss: 0.1131 - accuracy: 0.9714 - val_loss: 1.6123 - val_accuracy: 0.6237\n",
      "\n",
      "Epoch 00031: val_accuracy did not improve from 0.80526\n",
      "Epoch 32/200\n",
      "48/48 [==============================] - 1s 29ms/step - loss: 0.1083 - accuracy: 0.9696 - val_loss: 2.4288 - val_accuracy: 0.5789\n",
      "\n",
      "Epoch 00032: val_accuracy did not improve from 0.80526\n",
      "Epoch 33/200\n",
      "48/48 [==============================] - 1s 29ms/step - loss: 0.1522 - accuracy: 0.9631 - val_loss: 1.1256 - val_accuracy: 0.7039\n",
      "\n",
      "Epoch 00033: val_accuracy did not improve from 0.80526\n",
      "Epoch 34/200\n",
      "48/48 [==============================] - 1s 29ms/step - loss: 0.1231 - accuracy: 0.9632 - val_loss: 1.5667 - val_accuracy: 0.6158\n",
      "\n",
      "Epoch 00034: val_accuracy did not improve from 0.80526\n",
      "Epoch 35/200\n",
      "48/48 [==============================] - 1s 30ms/step - loss: 0.1234 - accuracy: 0.9626 - val_loss: 0.8271 - val_accuracy: 0.8053\n",
      "\n",
      "Epoch 00035: val_accuracy did not improve from 0.80526\n",
      "Epoch 36/200\n",
      "48/48 [==============================] - 1s 29ms/step - loss: 0.1010 - accuracy: 0.9722 - val_loss: 1.2516 - val_accuracy: 0.6882\n",
      "\n",
      "Epoch 00036: ReduceLROnPlateau reducing learning rate to 0.00020000000949949026.\n",
      "\n",
      "Epoch 00036: val_accuracy did not improve from 0.80526\n",
      "Epoch 37/200\n",
      "48/48 [==============================] - 1s 29ms/step - loss: 0.0691 - accuracy: 0.9825 - val_loss: 0.5799 - val_accuracy: 0.8355\n",
      "\n",
      "Epoch 00037: val_accuracy improved from 0.80526 to 0.83553, saving model to mfcc_model_2.h5\n",
      "Epoch 38/200\n",
      "48/48 [==============================] - 1s 30ms/step - loss: 0.0478 - accuracy: 0.9929 - val_loss: 0.5254 - val_accuracy: 0.8658\n",
      "\n",
      "Epoch 00038: val_accuracy improved from 0.83553 to 0.86579, saving model to mfcc_model_2.h5\n",
      "Epoch 39/200\n",
      "48/48 [==============================] - 1s 30ms/step - loss: 0.0425 - accuracy: 0.9913 - val_loss: 0.4821 - val_accuracy: 0.8711\n",
      "\n",
      "Epoch 00039: val_accuracy improved from 0.86579 to 0.87105, saving model to mfcc_model_2.h5\n",
      "Epoch 40/200\n",
      "48/48 [==============================] - 2s 31ms/step - loss: 0.0462 - accuracy: 0.9906 - val_loss: 0.5863 - val_accuracy: 0.8382\n",
      "\n",
      "Epoch 00040: val_accuracy did not improve from 0.87105\n",
      "Epoch 41/200\n",
      "48/48 [==============================] - 1s 30ms/step - loss: 0.0375 - accuracy: 0.9905 - val_loss: 0.4630 - val_accuracy: 0.8776\n",
      "\n",
      "Epoch 00041: val_accuracy improved from 0.87105 to 0.87763, saving model to mfcc_model_2.h5\n",
      "Epoch 42/200\n",
      "48/48 [==============================] - 1s 29ms/step - loss: 0.0387 - accuracy: 0.9933 - val_loss: 0.5170 - val_accuracy: 0.8500\n",
      "\n",
      "Epoch 00042: val_accuracy did not improve from 0.87763\n",
      "Epoch 43/200\n",
      "48/48 [==============================] - 1s 29ms/step - loss: 0.0314 - accuracy: 0.9943 - val_loss: 0.4806 - val_accuracy: 0.8763\n",
      "\n",
      "Epoch 00043: val_accuracy did not improve from 0.87763\n",
      "Epoch 44/200\n",
      "48/48 [==============================] - 1s 29ms/step - loss: 0.0338 - accuracy: 0.9950 - val_loss: 0.4851 - val_accuracy: 0.8658\n",
      "\n",
      "Epoch 00044: val_accuracy did not improve from 0.87763\n",
      "Epoch 45/200\n",
      "48/48 [==============================] - 1s 31ms/step - loss: 0.0301 - accuracy: 0.9975 - val_loss: 0.4308 - val_accuracy: 0.8947\n",
      "\n",
      "Epoch 00045: val_accuracy improved from 0.87763 to 0.89474, saving model to mfcc_model_2.h5\n",
      "Epoch 46/200\n",
      "48/48 [==============================] - 1s 30ms/step - loss: 0.0300 - accuracy: 0.9950 - val_loss: 0.4415 - val_accuracy: 0.8842\n",
      "\n",
      "Epoch 00046: val_accuracy did not improve from 0.89474\n",
      "Epoch 47/200\n",
      "48/48 [==============================] - 1s 29ms/step - loss: 0.0308 - accuracy: 0.9955 - val_loss: 0.5746 - val_accuracy: 0.8474\n",
      "\n",
      "Epoch 00047: val_accuracy did not improve from 0.89474\n",
      "Epoch 48/200\n",
      "48/48 [==============================] - 1s 30ms/step - loss: 0.0233 - accuracy: 0.9977 - val_loss: 0.4541 - val_accuracy: 0.8829\n",
      "\n",
      "Epoch 00048: val_accuracy did not improve from 0.89474\n",
      "Epoch 49/200\n",
      "48/48 [==============================] - 1s 29ms/step - loss: 0.0248 - accuracy: 0.9963 - val_loss: 0.4642 - val_accuracy: 0.8724\n",
      "\n",
      "Epoch 00049: val_accuracy did not improve from 0.89474\n",
      "Epoch 50/200\n",
      "48/48 [==============================] - 1s 29ms/step - loss: 0.0270 - accuracy: 0.9950 - val_loss: 0.4499 - val_accuracy: 0.8829\n",
      "\n",
      "Epoch 00050: val_accuracy did not improve from 0.89474\n",
      "Epoch 51/200\n",
      "48/48 [==============================] - 1s 29ms/step - loss: 0.0260 - accuracy: 0.9964 - val_loss: 0.4608 - val_accuracy: 0.8789\n",
      "\n",
      "Epoch 00051: val_accuracy did not improve from 0.89474\n",
      "Epoch 52/200\n",
      "48/48 [==============================] - 1s 29ms/step - loss: 0.0237 - accuracy: 0.9973 - val_loss: 0.4610 - val_accuracy: 0.8829\n",
      "\n",
      "Epoch 00052: val_accuracy did not improve from 0.89474\n",
      "Epoch 53/200\n",
      "48/48 [==============================] - 1s 30ms/step - loss: 0.0207 - accuracy: 0.9977 - val_loss: 0.4939 - val_accuracy: 0.8697\n",
      "\n",
      "Epoch 00053: val_accuracy did not improve from 0.89474\n",
      "Epoch 54/200\n",
      "48/48 [==============================] - 1s 29ms/step - loss: 0.0235 - accuracy: 0.9966 - val_loss: 0.4671 - val_accuracy: 0.8776\n",
      "\n",
      "Epoch 00054: val_accuracy did not improve from 0.89474\n",
      "Epoch 55/200\n",
      "48/48 [==============================] - 1s 29ms/step - loss: 0.0248 - accuracy: 0.9972 - val_loss: 0.6030 - val_accuracy: 0.8461\n",
      "\n",
      "Epoch 00055: ReduceLROnPlateau reducing learning rate to 4.0000001899898055e-05.\n",
      "\n",
      "Epoch 00055: val_accuracy did not improve from 0.89474\n",
      "Epoch 56/200\n",
      "48/48 [==============================] - 1s 29ms/step - loss: 0.0229 - accuracy: 0.9984 - val_loss: 0.4596 - val_accuracy: 0.8829\n",
      "\n",
      "Epoch 00056: val_accuracy did not improve from 0.89474\n",
      "Epoch 57/200\n",
      "48/48 [==============================] - 1s 29ms/step - loss: 0.0200 - accuracy: 0.9983 - val_loss: 0.4600 - val_accuracy: 0.8829\n",
      "\n",
      "Epoch 00057: val_accuracy did not improve from 0.89474\n",
      "Epoch 58/200\n",
      "48/48 [==============================] - 1s 29ms/step - loss: 0.0207 - accuracy: 0.9970 - val_loss: 0.4714 - val_accuracy: 0.8842\n",
      "\n",
      "Epoch 00058: val_accuracy did not improve from 0.89474\n",
      "Epoch 59/200\n",
      "48/48 [==============================] - 1s 29ms/step - loss: 0.0179 - accuracy: 0.9983 - val_loss: 0.4570 - val_accuracy: 0.8842\n",
      "\n",
      "Epoch 00059: val_accuracy did not improve from 0.89474\n",
      "Epoch 60/200\n",
      "48/48 [==============================] - 1s 29ms/step - loss: 0.0198 - accuracy: 0.9981 - val_loss: 0.4579 - val_accuracy: 0.8855\n",
      "\n",
      "Epoch 00060: val_accuracy did not improve from 0.89474\n",
      "Epoch 61/200\n",
      "48/48 [==============================] - 2s 32ms/step - loss: 0.0198 - accuracy: 0.9959 - val_loss: 0.4440 - val_accuracy: 0.8842\n",
      "\n",
      "Epoch 00061: val_accuracy did not improve from 0.89474\n",
      "Epoch 62/200\n",
      "48/48 [==============================] - 1s 30ms/step - loss: 0.0182 - accuracy: 0.9961 - val_loss: 0.4526 - val_accuracy: 0.8908\n",
      "\n",
      "Epoch 00062: val_accuracy did not improve from 0.89474\n",
      "Epoch 63/200\n",
      "48/48 [==============================] - 1s 31ms/step - loss: 0.0202 - accuracy: 0.9970 - val_loss: 0.4484 - val_accuracy: 0.8855\n",
      "\n",
      "Epoch 00063: val_accuracy did not improve from 0.89474\n",
      "Epoch 64/200\n",
      "48/48 [==============================] - 1s 29ms/step - loss: 0.0167 - accuracy: 0.9972 - val_loss: 0.4407 - val_accuracy: 0.8882\n",
      "\n",
      "Epoch 00064: val_accuracy did not improve from 0.89474\n",
      "Epoch 65/200\n",
      "48/48 [==============================] - 1s 29ms/step - loss: 0.0184 - accuracy: 0.9992 - val_loss: 0.4486 - val_accuracy: 0.8842\n",
      "\n",
      "Epoch 00065: ReduceLROnPlateau reducing learning rate to 8.000000525498762e-06.\n",
      "\n",
      "Epoch 00065: val_accuracy did not improve from 0.89474\n",
      "Epoch 66/200\n",
      "48/48 [==============================] - 1s 30ms/step - loss: 0.0199 - accuracy: 0.9959 - val_loss: 0.4441 - val_accuracy: 0.8868\n",
      "\n",
      "Epoch 00066: val_accuracy did not improve from 0.89474\n",
      "Epoch 67/200\n",
      "48/48 [==============================] - 1s 29ms/step - loss: 0.0179 - accuracy: 0.9980 - val_loss: 0.4439 - val_accuracy: 0.8882\n",
      "\n",
      "Epoch 00067: val_accuracy did not improve from 0.89474\n",
      "Epoch 68/200\n",
      "48/48 [==============================] - 1s 30ms/step - loss: 0.0186 - accuracy: 0.9981 - val_loss: 0.4438 - val_accuracy: 0.8882\n",
      "\n",
      "Epoch 00068: val_accuracy did not improve from 0.89474\n",
      "Epoch 69/200\n",
      "48/48 [==============================] - 1s 30ms/step - loss: 0.0188 - accuracy: 0.9973 - val_loss: 0.4431 - val_accuracy: 0.8882\n",
      "\n",
      "Epoch 00069: val_accuracy did not improve from 0.89474\n",
      "Epoch 70/200\n",
      "48/48 [==============================] - 1s 29ms/step - loss: 0.0175 - accuracy: 0.9978 - val_loss: 0.4421 - val_accuracy: 0.8895\n",
      "\n",
      "Epoch 00070: val_accuracy did not improve from 0.89474\n",
      "Epoch 71/200\n",
      "48/48 [==============================] - 1s 29ms/step - loss: 0.0173 - accuracy: 0.9983 - val_loss: 0.4422 - val_accuracy: 0.8908\n",
      "\n",
      "Epoch 00071: val_accuracy did not improve from 0.89474\n",
      "Epoch 72/200\n",
      "48/48 [==============================] - 1s 29ms/step - loss: 0.0166 - accuracy: 0.9978 - val_loss: 0.4413 - val_accuracy: 0.8908\n",
      "\n",
      "Epoch 00072: val_accuracy did not improve from 0.89474\n",
      "Epoch 73/200\n",
      "48/48 [==============================] - 1s 29ms/step - loss: 0.0195 - accuracy: 0.9960 - val_loss: 0.4431 - val_accuracy: 0.8908\n",
      "\n",
      "Epoch 00073: val_accuracy did not improve from 0.89474\n",
      "Epoch 74/200\n",
      "48/48 [==============================] - 1s 29ms/step - loss: 0.0167 - accuracy: 0.9995 - val_loss: 0.4434 - val_accuracy: 0.8934\n",
      "\n",
      "Epoch 00074: val_accuracy did not improve from 0.89474\n",
      "Epoch 75/200\n",
      "48/48 [==============================] - 1s 30ms/step - loss: 0.0198 - accuracy: 0.9962 - val_loss: 0.4384 - val_accuracy: 0.8921\n",
      "\n",
      "Epoch 00075: ReduceLROnPlateau reducing learning rate to 1.6000001778593287e-06.\n",
      "\n",
      "Epoch 00075: val_accuracy did not improve from 0.89474\n",
      "Epoch 00075: early stopping\n"
     ]
    }
   ],
   "source": [
    "h2 = model_mfcc_2.fit(x_train_mfcc, y_train_mfcc, batch_size=64, epochs=200, verbose=1, validation_split=0.2,callbacks = callbacks2)"
   ]
  },
  {
   "cell_type": "code",
   "execution_count": 17,
   "id": "computational-sweden",
   "metadata": {
    "execution": {
     "iopub.execute_input": "2021-04-29T19:25:00.966333Z",
     "iopub.status.busy": "2021-04-29T19:25:00.965482Z",
     "iopub.status.idle": "2021-04-29T19:25:00.968227Z",
     "shell.execute_reply": "2021-04-29T19:25:00.968639Z"
    },
    "papermill": {
     "duration": 0.947699,
     "end_time": "2021-04-29T19:25:00.968775",
     "exception": false,
     "start_time": "2021-04-29T19:25:00.021076",
     "status": "completed"
    },
    "tags": []
   },
   "outputs": [
    {
     "data": {
      "text/plain": [
       "dict_keys(['loss', 'accuracy', 'val_loss', 'val_accuracy', 'lr'])"
      ]
     },
     "execution_count": 17,
     "metadata": {},
     "output_type": "execute_result"
    }
   ],
   "source": [
    "h2.history.keys()"
   ]
  },
  {
   "cell_type": "code",
   "execution_count": 18,
   "id": "expressed-medium",
   "metadata": {
    "execution": {
     "iopub.execute_input": "2021-04-29T19:25:02.361130Z",
     "iopub.status.busy": "2021-04-29T19:25:02.360306Z",
     "iopub.status.idle": "2021-04-29T19:25:02.664273Z",
     "shell.execute_reply": "2021-04-29T19:25:02.664707Z"
    },
    "papermill": {
     "duration": 1.004189,
     "end_time": "2021-04-29T19:25:02.664857",
     "exception": false,
     "start_time": "2021-04-29T19:25:01.660668",
     "status": "completed"
    },
    "tags": []
   },
   "outputs": [
    {
     "data": {
      "image/png": "[encoded data removed]",
      "text/plain": [
       "<Figure size 864x360 with 2 Axes>"
      ]
     },
     "metadata": {
      "needs_background": "light"
     },
     "output_type": "display_data"
    }
   ],
   "source": [
    "plot_metrics(h2)"
   ]
  },
  {
   "cell_type": "code",
   "execution_count": 19,
   "id": "statutory-dragon",
   "metadata": {
    "execution": {
     "iopub.execute_input": "2021-04-29T19:25:04.042080Z",
     "iopub.status.busy": "2021-04-29T19:25:04.041486Z",
     "iopub.status.idle": "2021-04-29T19:25:04.045163Z",
     "shell.execute_reply": "2021-04-29T19:25:04.044754Z"
    },
    "papermill": {
     "duration": 0.697061,
     "end_time": "2021-04-29T19:25:04.045280",
     "exception": false,
     "start_time": "2021-04-29T19:25:03.348219",
     "status": "completed"
    },
    "tags": []
   },
   "outputs": [],
   "source": [
    "#model_mfcc_1.save('mfcc_model_1.h5')\n",
    "#model_mfcc_2.save('mfcc_model_2_vedanth.h5')"
   ]
  },
  {
   "cell_type": "markdown",
   "id": "aggregate-jewelry",
   "metadata": {
    "papermill": {
     "duration": 0.715698,
     "end_time": "2021-04-29T19:25:05.448261",
     "exception": false,
     "start_time": "2021-04-29T19:25:04.732563",
     "status": "completed"
    },
    "tags": []
   },
   "source": [
    "**Testing models**"
   ]
  },
  {
   "cell_type": "code",
   "execution_count": 20,
   "id": "aggregate-marker",
   "metadata": {
    "execution": {
     "iopub.execute_input": "2021-04-29T19:25:06.824147Z",
     "iopub.status.busy": "2021-04-29T19:25:06.823616Z",
     "iopub.status.idle": "2021-04-29T19:25:06.949165Z",
     "shell.execute_reply": "2021-04-29T19:25:06.948117Z"
    },
    "papermill": {
     "duration": 0.815743,
     "end_time": "2021-04-29T19:25:06.949289",
     "exception": false,
     "start_time": "2021-04-29T19:25:06.133546",
     "status": "completed"
    },
    "tags": []
   },
   "outputs": [],
   "source": [
    "mfcc_test_data_cat = np.load('../input/test-data-esc-50/mfcc_test_data_cat.npy',allow_pickle=True)"
   ]
  },
  {
   "cell_type": "code",
   "execution_count": 21,
   "id": "israeli-guyana",
   "metadata": {
    "execution": {
     "iopub.execute_input": "2021-04-29T19:25:08.354622Z",
     "iopub.status.busy": "2021-04-29T19:25:08.353218Z",
     "iopub.status.idle": "2021-04-29T19:25:08.427619Z",
     "shell.execute_reply": "2021-04-29T19:25:08.426971Z"
    },
    "papermill": {
     "duration": 0.796468,
     "end_time": "2021-04-29T19:25:08.427781",
     "exception": false,
     "start_time": "2021-04-29T19:25:07.631313",
     "status": "completed"
    },
    "tags": []
   },
   "outputs": [
    {
     "name": "stderr",
     "output_type": "stream",
     "text": [
      "100%|██████████| 200/200 [00:00<00:00, 2891.91it/s]\n"
     ]
    }
   ],
   "source": [
    "x_test_mfcc = np.zeros((1,20,216))\n",
    "for i in tqdm(range(200)):\n",
    "    x_test_mfcc = np.append(x_test_mfcc,[mfcc_test_data_cat[i][0][:,:,-1]],axis=0)"
   ]
  },
  {
   "cell_type": "code",
   "execution_count": 22,
   "id": "numeric-slave",
   "metadata": {
    "execution": {
     "iopub.execute_input": "2021-04-29T19:25:09.808492Z",
     "iopub.status.busy": "2021-04-29T19:25:09.807707Z",
     "iopub.status.idle": "2021-04-29T19:25:09.810680Z",
     "shell.execute_reply": "2021-04-29T19:25:09.810250Z"
    },
    "papermill": {
     "duration": 0.69689,
     "end_time": "2021-04-29T19:25:09.810794",
     "exception": false,
     "start_time": "2021-04-29T19:25:09.113904",
     "status": "completed"
    },
    "tags": []
   },
   "outputs": [],
   "source": [
    "x_test_mfcc = x_test_mfcc[1:,:,:]"
   ]
  },
  {
   "cell_type": "code",
   "execution_count": 23,
   "id": "technical-single",
   "metadata": {
    "execution": {
     "iopub.execute_input": "2021-04-29T19:25:11.279167Z",
     "iopub.status.busy": "2021-04-29T19:25:11.278061Z",
     "iopub.status.idle": "2021-04-29T19:25:11.283002Z",
     "shell.execute_reply": "2021-04-29T19:25:11.282357Z"
    },
    "papermill": {
     "duration": 0.778783,
     "end_time": "2021-04-29T19:25:11.283183",
     "exception": false,
     "start_time": "2021-04-29T19:25:10.504400",
     "status": "completed"
    },
    "tags": []
   },
   "outputs": [],
   "source": [
    "x_test_mfcc = x_test_mfcc[:,:,:,np.newaxis]"
   ]
  },
  {
   "cell_type": "code",
   "execution_count": 24,
   "id": "annual-cotton",
   "metadata": {
    "execution": {
     "iopub.execute_input": "2021-04-29T19:25:12.826095Z",
     "iopub.status.busy": "2021-04-29T19:25:12.824525Z",
     "iopub.status.idle": "2021-04-29T19:25:12.826995Z",
     "shell.execute_reply": "2021-04-29T19:25:12.827399Z"
    },
    "papermill": {
     "duration": 0.690487,
     "end_time": "2021-04-29T19:25:12.827545",
     "exception": false,
     "start_time": "2021-04-29T19:25:12.137058",
     "status": "completed"
    },
    "tags": []
   },
   "outputs": [],
   "source": [
    "y_test_mfcc = []\n",
    "for i in range(200):\n",
    "    y_test_mfcc.append(mfcc_test_data_cat[i][1])"
   ]
  },
  {
   "cell_type": "code",
   "execution_count": 25,
   "id": "dried-venue",
   "metadata": {
    "execution": {
     "iopub.execute_input": "2021-04-29T19:25:14.744128Z",
     "iopub.status.busy": "2021-04-29T19:25:14.742449Z",
     "iopub.status.idle": "2021-04-29T19:25:14.744861Z",
     "shell.execute_reply": "2021-04-29T19:25:14.745291Z"
    },
    "papermill": {
     "duration": 1.114851,
     "end_time": "2021-04-29T19:25:14.745417",
     "exception": false,
     "start_time": "2021-04-29T19:25:13.630566",
     "status": "completed"
    },
    "tags": []
   },
   "outputs": [],
   "source": [
    "y_test_mfcc = np.array(y_test_mfcc)"
   ]
  },
  {
   "cell_type": "code",
   "execution_count": 26,
   "id": "through-rebate",
   "metadata": {
    "execution": {
     "iopub.execute_input": "2021-04-29T19:25:16.166022Z",
     "iopub.status.busy": "2021-04-29T19:25:16.165331Z",
     "iopub.status.idle": "2021-04-29T19:25:16.168599Z",
     "shell.execute_reply": "2021-04-29T19:25:16.169619Z"
    },
    "papermill": {
     "duration": 0.718058,
     "end_time": "2021-04-29T19:25:16.169797",
     "exception": false,
     "start_time": "2021-04-29T19:25:15.451739",
     "status": "completed"
    },
    "tags": []
   },
   "outputs": [
    {
     "data": {
      "text/plain": [
       "200"
      ]
     },
     "execution_count": 26,
     "metadata": {},
     "output_type": "execute_result"
    }
   ],
   "source": [
    "len(y_test_mfcc)"
   ]
  },
  {
   "cell_type": "code",
   "execution_count": 27,
   "id": "built-modern",
   "metadata": {
    "execution": {
     "iopub.execute_input": "2021-04-29T19:25:17.634999Z",
     "iopub.status.busy": "2021-04-29T19:25:17.634111Z",
     "iopub.status.idle": "2021-04-29T19:25:17.932619Z",
     "shell.execute_reply": "2021-04-29T19:25:17.933093Z"
    },
    "papermill": {
     "duration": 1.029718,
     "end_time": "2021-04-29T19:25:17.933254",
     "exception": false,
     "start_time": "2021-04-29T19:25:16.903536",
     "status": "completed"
    },
    "tags": []
   },
   "outputs": [
    {
     "name": "stdout",
     "output_type": "stream",
     "text": [
      "7/7 [==============================] - 0s 10ms/step - loss: 0.8573 - accuracy: 0.8050\n",
      "test loss, test acc: [0.8573452830314636, 0.8050000071525574]\n"
     ]
    }
   ],
   "source": [
    "#Model Testing\n",
    "results = model_mfcc_2.evaluate(x_test_mfcc, y_test_mfcc, batch_size=32)\n",
    "print(\"test loss, test acc:\", results)"
   ]
  },
  {
   "cell_type": "code",
   "execution_count": null,
   "id": "smoking-uruguay",
   "metadata": {
    "papermill": {
     "duration": 0.704066,
     "end_time": "2021-04-29T19:25:19.367973",
     "exception": false,
     "start_time": "2021-04-29T19:25:18.663907",
     "status": "completed"
    },
    "tags": []
   },
   "outputs": [],
   "source": []
  }
 ],
 "metadata": {
  "kernelspec": {
   "display_name": "Python 3",
   "language": "python",
   "name": "python3"
  },
  "language_info": {
   "codemirror_mode": {
    "name": "ipython",
    "version": 3
   },
   "file_extension": ".py",
   "mimetype": "text/x-python",
   "name": "python",
   "nbconvert_exporter": "python",
   "pygments_lexer": "ipython3",
   "version": "3.7.9"
  },
  "papermill": {
   "default_parameters": {},
   "duration": 252.069802,
   "end_time": "2021-04-29T19:25:22.861021",
   "environment_variables": {},
   "exception": null,
   "input_path": "__notebook__.ipynb",
   "output_path": "__notebook__.ipynb",
   "parameters": {},
   "start_time": "2021-04-29T19:21:10.791219",
   "version": "2.3.2"
  }
 },
 "nbformat": 4,
 "nbformat_minor": 5
}
