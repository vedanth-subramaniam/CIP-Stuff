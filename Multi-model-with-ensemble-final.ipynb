{
 "cells": [
  {
   "cell_type": "code",
   "execution_count": 1,
   "id": "weird-glossary",
   "metadata": {
    "_cell_guid": "b1076dfc-b9ad-4769-8c92-a6c4dae69d19",
    "_uuid": "8f2839f25d086af736a60e9eeb907d3b93b6e0e5",
    "execution": {
     "iopub.execute_input": "2021-05-01T16:21:04.253458Z",
     "iopub.status.busy": "2021-05-01T16:21:04.251154Z",
     "iopub.status.idle": "2021-05-01T16:21:13.676740Z",
     "shell.execute_reply": "2021-05-01T16:21:13.675805Z"
    },
    "papermill": {
     "duration": 9.454576,
     "end_time": "2021-05-01T16:21:13.676953",
     "exception": false,
     "start_time": "2021-05-01T16:21:04.222377",
     "status": "completed"
    },
    "tags": []
   },
   "outputs": [],
   "source": [
    "#import libraries\n",
    "import numpy as np\n",
    "import pandas as pd\n",
    "import os,sys\n",
    "import matplotlib.pyplot as plt\n",
    "import librosa\n",
    "import librosa.display\n",
    "from tqdm import tqdm\n",
    "import IPython.display as ipd\n",
    "from IPython.core.display import display\n",
    "import tensorflow as tf\n",
    "import tensorflow.keras.backend as K\n",
    "from tensorflow.keras.models import Sequential\n",
    "from tensorflow.keras.layers import Conv2D, MaxPooling2D\n",
    "from tensorflow.keras.layers import Dense, Dropout, Flatten, Activation, Softmax,BatchNormalization,GlobalAveragePooling2D,Average\n",
    "from tensorflow.keras.utils import to_categorical\n",
    "from keras.models import Model, Input"
   ]
  },
  {
   "cell_type": "markdown",
   "id": "coordinated-brave",
   "metadata": {
    "papermill": {
     "duration": 0.024292,
     "end_time": "2021-05-01T16:21:13.725582",
     "exception": false,
     "start_time": "2021-05-01T16:21:13.701290",
     "status": "completed"
    },
    "tags": []
   },
   "source": [
    "**Creating an Ensemble model from Mel spectrogram**"
   ]
  },
  {
   "cell_type": "code",
   "execution_count": 2,
   "id": "pleasant-rings",
   "metadata": {
    "execution": {
     "iopub.execute_input": "2021-05-01T16:21:13.784907Z",
     "iopub.status.busy": "2021-05-01T16:21:13.784122Z",
     "iopub.status.idle": "2021-05-01T16:21:13.786811Z",
     "shell.execute_reply": "2021-05-01T16:21:13.787279Z"
    },
    "papermill": {
     "duration": 0.037306,
     "end_time": "2021-05-01T16:21:13.787490",
     "exception": false,
     "start_time": "2021-05-01T16:21:13.750184",
     "status": "completed"
    },
    "tags": []
   },
   "outputs": [],
   "source": [
    "def create_keras_model_mel_1(model_input, num_classes):\n",
    "    x = Conv2D(64, kernel_size=3, activation=\"relu\")(model_input)\n",
    "    x = MaxPooling2D(pool_size=(2, 2))(x)\n",
    "    x = Conv2D(128, kernel_size=3, activation=\"relu\")(x)\n",
    "    x = MaxPooling2D(pool_size=(2, 2))(x)\n",
    "    x = Conv2D(256, kernel_size=3, activation=\"relu\")(x)\n",
    "    x = MaxPooling2D(pool_size=(2, 2))(x)\n",
    "    x = Conv2D(256, kernel_size=3, activation=\"relu\")(x)\n",
    "    x = MaxPooling2D(pool_size=(2, 2))(x)\n",
    "    x = Flatten()(x)\n",
    "    x = Dense(256, activation = 'relu')(x)\n",
    "    x = Dropout(0.7)(x)\n",
    "    x = Dense(num_classes, activation=\"softmax\")(x)\n",
    "    model = Model(model_input, x, name='model_1')\n",
    "    \n",
    "    return model"
   ]
  },
  {
   "cell_type": "code",
   "execution_count": 3,
   "id": "guided-denver",
   "metadata": {
    "execution": {
     "iopub.execute_input": "2021-05-01T16:21:13.850407Z",
     "iopub.status.busy": "2021-05-01T16:21:13.849346Z",
     "iopub.status.idle": "2021-05-01T16:21:13.853130Z",
     "shell.execute_reply": "2021-05-01T16:21:13.852517Z"
    },
    "papermill": {
     "duration": 0.040996,
     "end_time": "2021-05-01T16:21:13.853325",
     "exception": false,
     "start_time": "2021-05-01T16:21:13.812329",
     "status": "completed"
    },
    "tags": []
   },
   "outputs": [],
   "source": [
    "def create_keras_model_mel_2(model_input, num_classes):\n",
    "\n",
    "    x = Conv2D(64, kernel_size=(3, 3), activation='relu')(model_input)\n",
    "    x = BatchNormalization()(x)\n",
    "\n",
    "    x = MaxPooling2D(pool_size=(3, 3))(x)\n",
    "    x = Conv2D(128, kernel_size=(3, 3), activation='relu')(x)\n",
    "    x = BatchNormalization()(x)\n",
    "\n",
    "    x = Conv2D(128, kernel_size=(3, 3), activation='relu')(x)\n",
    "    x = BatchNormalization()(x)\n",
    "\n",
    "    x = MaxPooling2D(pool_size=(3, 3))(x)\n",
    "\n",
    "    x = Flatten()(x)\n",
    "    x = Dense(128, activation='relu')(x)\n",
    "    x = BatchNormalization()(x)\n",
    "    x = Dropout(0.25)(x)\n",
    "    x = Dense(64, activation='relu')(x)\n",
    "    x = BatchNormalization()(x)\n",
    "    x = Dropout(0.4)(x)\n",
    "    x = Dense(num_classes, activation='softmax')(x)\n",
    "    model = Model(model_input, x, name='model_2')\n",
    "\n",
    "    return model"
   ]
  },
  {
   "cell_type": "code",
   "execution_count": 4,
   "id": "regular-norwegian",
   "metadata": {
    "execution": {
     "iopub.execute_input": "2021-05-01T16:21:13.909060Z",
     "iopub.status.busy": "2021-05-01T16:21:13.908354Z",
     "iopub.status.idle": "2021-05-01T16:21:13.928424Z",
     "shell.execute_reply": "2021-05-01T16:21:13.927606Z"
    },
    "papermill": {
     "duration": 0.04955,
     "end_time": "2021-05-01T16:21:13.928589",
     "exception": false,
     "start_time": "2021-05-01T16:21:13.879039",
     "status": "completed"
    },
    "tags": []
   },
   "outputs": [],
   "source": [
    "model_input_mel = Input(shape=(128,216,1))"
   ]
  },
  {
   "cell_type": "code",
   "execution_count": 5,
   "id": "relative-hardware",
   "metadata": {
    "execution": {
     "iopub.execute_input": "2021-05-01T16:21:13.993801Z",
     "iopub.status.busy": "2021-05-01T16:21:13.987901Z",
     "iopub.status.idle": "2021-05-01T16:21:15.121021Z",
     "shell.execute_reply": "2021-05-01T16:21:15.120078Z"
    },
    "papermill": {
     "duration": 1.167822,
     "end_time": "2021-05-01T16:21:15.121239",
     "exception": false,
     "start_time": "2021-05-01T16:21:13.953417",
     "status": "completed"
    },
    "tags": []
   },
   "outputs": [],
   "source": [
    "model_mel_1 = create_keras_model_mel_1(model_input_mel,50)\n",
    "model_mel_1.load_weights('../input/mel-spectrogram-training-architectures/mel_model_1.h5')"
   ]
  },
  {
   "cell_type": "code",
   "execution_count": 6,
   "id": "surprised-taxation",
   "metadata": {
    "execution": {
     "iopub.execute_input": "2021-05-01T16:21:15.180425Z",
     "iopub.status.busy": "2021-05-01T16:21:15.179528Z",
     "iopub.status.idle": "2021-05-01T16:21:16.058969Z",
     "shell.execute_reply": "2021-05-01T16:21:16.059464Z"
    },
    "papermill": {
     "duration": 0.914713,
     "end_time": "2021-05-01T16:21:16.059700",
     "exception": false,
     "start_time": "2021-05-01T16:21:15.144987",
     "status": "completed"
    },
    "tags": []
   },
   "outputs": [],
   "source": [
    "model_mel_2 = create_keras_model_mel_2(model_input_mel,50)\n",
    "model_mel_2.load_weights('../input/mel-spectrogram-training-architectures/mel_model_2.h5')"
   ]
  },
  {
   "cell_type": "code",
   "execution_count": 7,
   "id": "inside-messaging",
   "metadata": {
    "execution": {
     "iopub.execute_input": "2021-05-01T16:21:16.109855Z",
     "iopub.status.busy": "2021-05-01T16:21:16.109145Z",
     "iopub.status.idle": "2021-05-01T16:21:16.113814Z",
     "shell.execute_reply": "2021-05-01T16:21:16.114327Z"
    },
    "papermill": {
     "duration": 0.031631,
     "end_time": "2021-05-01T16:21:16.114525",
     "exception": false,
     "start_time": "2021-05-01T16:21:16.082894",
     "status": "completed"
    },
    "tags": []
   },
   "outputs": [],
   "source": [
    "ensemble_models = [model_mel_1,model_mel_2]"
   ]
  },
  {
   "cell_type": "code",
   "execution_count": 8,
   "id": "incorporated-salem",
   "metadata": {
    "execution": {
     "iopub.execute_input": "2021-05-01T16:21:16.168382Z",
     "iopub.status.busy": "2021-05-01T16:21:16.167756Z",
     "iopub.status.idle": "2021-05-01T16:21:16.172776Z",
     "shell.execute_reply": "2021-05-01T16:21:16.172022Z"
    },
    "papermill": {
     "duration": 0.035255,
     "end_time": "2021-05-01T16:21:16.172957",
     "exception": false,
     "start_time": "2021-05-01T16:21:16.137702",
     "status": "completed"
    },
    "tags": []
   },
   "outputs": [],
   "source": [
    "def ensemble(models,model_input):\n",
    "    \n",
    "    outputs = [model.outputs[0] for model in models]\n",
    "    y = Average()(outputs)\n",
    "    \n",
    "    model = Model(model_input, y, name='ensemble')\n",
    "    \n",
    "    return model\n"
   ]
  },
  {
   "cell_type": "code",
   "execution_count": 9,
   "id": "announced-standard",
   "metadata": {
    "execution": {
     "iopub.execute_input": "2021-05-01T16:21:16.232325Z",
     "iopub.status.busy": "2021-05-01T16:21:16.231150Z",
     "iopub.status.idle": "2021-05-01T16:21:16.246166Z",
     "shell.execute_reply": "2021-05-01T16:21:16.245331Z"
    },
    "papermill": {
     "duration": 0.048529,
     "end_time": "2021-05-01T16:21:16.246394",
     "exception": false,
     "start_time": "2021-05-01T16:21:16.197865",
     "status": "completed"
    },
    "tags": []
   },
   "outputs": [],
   "source": [
    "ensemble_model = ensemble(ensemble_models,model_input_mel)"
   ]
  },
  {
   "cell_type": "code",
   "execution_count": 10,
   "id": "banned-coalition",
   "metadata": {
    "execution": {
     "iopub.execute_input": "2021-05-01T16:21:16.305420Z",
     "iopub.status.busy": "2021-05-01T16:21:16.303836Z",
     "iopub.status.idle": "2021-05-01T16:21:16.326059Z",
     "shell.execute_reply": "2021-05-01T16:21:16.326593Z"
    },
    "papermill": {
     "duration": 0.05545,
     "end_time": "2021-05-01T16:21:16.326833",
     "exception": false,
     "start_time": "2021-05-01T16:21:16.271383",
     "status": "completed"
    },
    "tags": []
   },
   "outputs": [
    {
     "name": "stdout",
     "output_type": "stream",
     "text": [
      "Model: \"ensemble\"\n",
      "__________________________________________________________________________________________________\n",
      "Layer (type)                    Output Shape         Param #     Connected to                     \n",
      "==================================================================================================\n",
      "input_1 (InputLayer)            [(None, 128, 216, 1) 0                                            \n",
      "__________________________________________________________________________________________________\n",
      "conv2d_4 (Conv2D)               (None, 126, 214, 64) 640         input_1[0][0]                    \n",
      "__________________________________________________________________________________________________\n",
      "batch_normalization (BatchNorma (None, 126, 214, 64) 256         conv2d_4[0][0]                   \n",
      "__________________________________________________________________________________________________\n",
      "max_pooling2d_4 (MaxPooling2D)  (None, 42, 71, 64)   0           batch_normalization[0][0]        \n",
      "__________________________________________________________________________________________________\n",
      "conv2d_5 (Conv2D)               (None, 40, 69, 128)  73856       max_pooling2d_4[0][0]            \n",
      "__________________________________________________________________________________________________\n",
      "conv2d (Conv2D)                 (None, 126, 214, 64) 640         input_1[0][0]                    \n",
      "__________________________________________________________________________________________________\n",
      "batch_normalization_1 (BatchNor (None, 40, 69, 128)  512         conv2d_5[0][0]                   \n",
      "__________________________________________________________________________________________________\n",
      "max_pooling2d (MaxPooling2D)    (None, 63, 107, 64)  0           conv2d[0][0]                     \n",
      "__________________________________________________________________________________________________\n",
      "conv2d_6 (Conv2D)               (None, 38, 67, 128)  147584      batch_normalization_1[0][0]      \n",
      "__________________________________________________________________________________________________\n",
      "conv2d_1 (Conv2D)               (None, 61, 105, 128) 73856       max_pooling2d[0][0]              \n",
      "__________________________________________________________________________________________________\n",
      "batch_normalization_2 (BatchNor (None, 38, 67, 128)  512         conv2d_6[0][0]                   \n",
      "__________________________________________________________________________________________________\n",
      "max_pooling2d_1 (MaxPooling2D)  (None, 30, 52, 128)  0           conv2d_1[0][0]                   \n",
      "__________________________________________________________________________________________________\n",
      "max_pooling2d_5 (MaxPooling2D)  (None, 12, 22, 128)  0           batch_normalization_2[0][0]      \n",
      "__________________________________________________________________________________________________\n",
      "conv2d_2 (Conv2D)               (None, 28, 50, 256)  295168      max_pooling2d_1[0][0]            \n",
      "__________________________________________________________________________________________________\n",
      "flatten_1 (Flatten)             (None, 33792)        0           max_pooling2d_5[0][0]            \n",
      "__________________________________________________________________________________________________\n",
      "max_pooling2d_2 (MaxPooling2D)  (None, 14, 25, 256)  0           conv2d_2[0][0]                   \n",
      "__________________________________________________________________________________________________\n",
      "dense_2 (Dense)                 (None, 128)          4325504     flatten_1[0][0]                  \n",
      "__________________________________________________________________________________________________\n",
      "conv2d_3 (Conv2D)               (None, 12, 23, 256)  590080      max_pooling2d_2[0][0]            \n",
      "__________________________________________________________________________________________________\n",
      "batch_normalization_3 (BatchNor (None, 128)          512         dense_2[0][0]                    \n",
      "__________________________________________________________________________________________________\n",
      "max_pooling2d_3 (MaxPooling2D)  (None, 6, 11, 256)   0           conv2d_3[0][0]                   \n",
      "__________________________________________________________________________________________________\n",
      "dropout_1 (Dropout)             (None, 128)          0           batch_normalization_3[0][0]      \n",
      "__________________________________________________________________________________________________\n",
      "flatten (Flatten)               (None, 16896)        0           max_pooling2d_3[0][0]            \n",
      "__________________________________________________________________________________________________\n",
      "dense_3 (Dense)                 (None, 64)           8256        dropout_1[0][0]                  \n",
      "__________________________________________________________________________________________________\n",
      "dense (Dense)                   (None, 256)          4325632     flatten[0][0]                    \n",
      "__________________________________________________________________________________________________\n",
      "batch_normalization_4 (BatchNor (None, 64)           256         dense_3[0][0]                    \n",
      "__________________________________________________________________________________________________\n",
      "dropout (Dropout)               (None, 256)          0           dense[0][0]                      \n",
      "__________________________________________________________________________________________________\n",
      "dropout_2 (Dropout)             (None, 64)           0           batch_normalization_4[0][0]      \n",
      "__________________________________________________________________________________________________\n",
      "dense_1 (Dense)                 (None, 50)           12850       dropout[0][0]                    \n",
      "__________________________________________________________________________________________________\n",
      "dense_4 (Dense)                 (None, 50)           3250        dropout_2[0][0]                  \n",
      "__________________________________________________________________________________________________\n",
      "average (Average)               (None, 50)           0           dense_1[0][0]                    \n",
      "                                                                 dense_4[0][0]                    \n",
      "==================================================================================================\n",
      "Total params: 9,859,364\n",
      "Trainable params: 9,858,340\n",
      "Non-trainable params: 1,024\n",
      "__________________________________________________________________________________________________\n"
     ]
    }
   ],
   "source": [
    "ensemble_model.summary()"
   ]
  },
  {
   "cell_type": "markdown",
   "id": "skilled-quilt",
   "metadata": {
    "papermill": {
     "duration": 0.025061,
     "end_time": "2021-05-01T16:21:16.376886",
     "exception": false,
     "start_time": "2021-05-01T16:21:16.351825",
     "status": "completed"
    },
    "tags": []
   },
   "source": [
    "**Importing mfcc model**"
   ]
  },
  {
   "cell_type": "code",
   "execution_count": 11,
   "id": "electronic-sperm",
   "metadata": {
    "execution": {
     "iopub.execute_input": "2021-05-01T16:21:16.440496Z",
     "iopub.status.busy": "2021-05-01T16:21:16.439733Z",
     "iopub.status.idle": "2021-05-01T16:21:16.441177Z",
     "shell.execute_reply": "2021-05-01T16:21:16.441772Z"
    },
    "papermill": {
     "duration": 0.03948,
     "end_time": "2021-05-01T16:21:16.441968",
     "exception": false,
     "start_time": "2021-05-01T16:21:16.402488",
     "status": "completed"
    },
    "tags": []
   },
   "outputs": [],
   "source": [
    "def create_keras_model_mfcc(model_input, num_classes):\n",
    "\n",
    "    x = Conv2D(64, kernel_size=(3, 3), activation='relu',padding='same')(model_input)\n",
    "    x = BatchNormalization()(x)\n",
    "\n",
    "    x = Conv2D(128, kernel_size=(3, 3), activation='relu',padding='same')(x)\n",
    "    x = BatchNormalization()(x)\n",
    "    \n",
    "    x = MaxPooling2D(pool_size=(4, 4))(x)\n",
    "    x = Dropout(0.25)(x)\n",
    "    \n",
    "    x = Conv2D(128, kernel_size=(3, 3), activation='relu',padding='same')(x)\n",
    "    x = BatchNormalization()(x)\n",
    "\n",
    "    x = MaxPooling2D(pool_size=(4, 4))(x)\n",
    "    x = Dropout(0.25)(x)\n",
    "\n",
    "    x = Flatten()(x)\n",
    "\n",
    "    x = Dense(512, activation='relu')(x)\n",
    "    x = BatchNormalization()(x)\n",
    "    x = Dropout(0.25)(x)\n",
    "    \n",
    "    x = Dense(num_classes, activation='softmax')(x)\n",
    "    model = Model(model_input,x,name = 'model_2')\n",
    "    return model"
   ]
  },
  {
   "cell_type": "code",
   "execution_count": 12,
   "id": "loving-louisville",
   "metadata": {
    "execution": {
     "iopub.execute_input": "2021-05-01T16:21:16.497099Z",
     "iopub.status.busy": "2021-05-01T16:21:16.496276Z",
     "iopub.status.idle": "2021-05-01T16:21:16.501354Z",
     "shell.execute_reply": "2021-05-01T16:21:16.502037Z"
    },
    "papermill": {
     "duration": 0.034254,
     "end_time": "2021-05-01T16:21:16.502341",
     "exception": false,
     "start_time": "2021-05-01T16:21:16.468087",
     "status": "completed"
    },
    "tags": []
   },
   "outputs": [],
   "source": [
    "mfcc_model_input = Input(shape=(20,216,1))"
   ]
  },
  {
   "cell_type": "code",
   "execution_count": 13,
   "id": "cathedral-structure",
   "metadata": {
    "execution": {
     "iopub.execute_input": "2021-05-01T16:21:16.559568Z",
     "iopub.status.busy": "2021-05-01T16:21:16.558899Z",
     "iopub.status.idle": "2021-05-01T16:21:16.874860Z",
     "shell.execute_reply": "2021-05-01T16:21:16.874088Z"
    },
    "papermill": {
     "duration": 0.346415,
     "end_time": "2021-05-01T16:21:16.875031",
     "exception": false,
     "start_time": "2021-05-01T16:21:16.528616",
     "status": "completed"
    },
    "tags": []
   },
   "outputs": [],
   "source": [
    "mfcc_model = create_keras_model_mfcc(mfcc_model_input,50)\n",
    "mfcc_model.load_weights('../input/mfcc-spec-training-phase-trial/mfcc_model_2.h5')"
   ]
  },
  {
   "cell_type": "code",
   "execution_count": 14,
   "id": "dietary-brazilian",
   "metadata": {
    "execution": {
     "iopub.execute_input": "2021-05-01T16:21:16.934107Z",
     "iopub.status.busy": "2021-05-01T16:21:16.932854Z",
     "iopub.status.idle": "2021-05-01T16:21:16.948994Z",
     "shell.execute_reply": "2021-05-01T16:21:16.948354Z"
    },
    "papermill": {
     "duration": 0.048108,
     "end_time": "2021-05-01T16:21:16.949166",
     "exception": false,
     "start_time": "2021-05-01T16:21:16.901058",
     "status": "completed"
    },
    "tags": []
   },
   "outputs": [
    {
     "name": "stdout",
     "output_type": "stream",
     "text": [
      "Model: \"model_2\"\n",
      "_________________________________________________________________\n",
      "Layer (type)                 Output Shape              Param #   \n",
      "=================================================================\n",
      "input_2 (InputLayer)         [(None, 20, 216, 1)]      0         \n",
      "_________________________________________________________________\n",
      "conv2d_7 (Conv2D)            (None, 20, 216, 64)       640       \n",
      "_________________________________________________________________\n",
      "batch_normalization_5 (Batch (None, 20, 216, 64)       256       \n",
      "_________________________________________________________________\n",
      "conv2d_8 (Conv2D)            (None, 20, 216, 128)      73856     \n",
      "_________________________________________________________________\n",
      "batch_normalization_6 (Batch (None, 20, 216, 128)      512       \n",
      "_________________________________________________________________\n",
      "max_pooling2d_6 (MaxPooling2 (None, 5, 54, 128)        0         \n",
      "_________________________________________________________________\n",
      "dropout_3 (Dropout)          (None, 5, 54, 128)        0         \n",
      "_________________________________________________________________\n",
      "conv2d_9 (Conv2D)            (None, 5, 54, 128)        147584    \n",
      "_________________________________________________________________\n",
      "batch_normalization_7 (Batch (None, 5, 54, 128)        512       \n",
      "_________________________________________________________________\n",
      "max_pooling2d_7 (MaxPooling2 (None, 1, 13, 128)        0         \n",
      "_________________________________________________________________\n",
      "dropout_4 (Dropout)          (None, 1, 13, 128)        0         \n",
      "_________________________________________________________________\n",
      "flatten_2 (Flatten)          (None, 1664)              0         \n",
      "_________________________________________________________________\n",
      "dense_5 (Dense)              (None, 512)               852480    \n",
      "_________________________________________________________________\n",
      "batch_normalization_8 (Batch (None, 512)               2048      \n",
      "_________________________________________________________________\n",
      "dropout_5 (Dropout)          (None, 512)               0         \n",
      "_________________________________________________________________\n",
      "dense_6 (Dense)              (None, 50)                25650     \n",
      "=================================================================\n",
      "Total params: 1,103,538\n",
      "Trainable params: 1,101,874\n",
      "Non-trainable params: 1,664\n",
      "_________________________________________________________________\n"
     ]
    }
   ],
   "source": [
    "mfcc_model.summary()"
   ]
  },
  {
   "cell_type": "markdown",
   "id": "dense-console",
   "metadata": {
    "papermill": {
     "duration": 0.024938,
     "end_time": "2021-05-01T16:21:16.999614",
     "exception": false,
     "start_time": "2021-05-01T16:21:16.974676",
     "status": "completed"
    },
    "tags": []
   },
   "source": [
    "**Creating a multiple data model**"
   ]
  },
  {
   "cell_type": "code",
   "execution_count": 15,
   "id": "empty-agenda",
   "metadata": {
    "execution": {
     "iopub.execute_input": "2021-05-01T16:21:17.058151Z",
     "iopub.status.busy": "2021-05-01T16:21:17.057431Z",
     "iopub.status.idle": "2021-05-01T16:21:17.062257Z",
     "shell.execute_reply": "2021-05-01T16:21:17.061595Z"
    },
    "papermill": {
     "duration": 0.037292,
     "end_time": "2021-05-01T16:21:17.062404",
     "exception": false,
     "start_time": "2021-05-01T16:21:17.025112",
     "status": "completed"
    },
    "tags": []
   },
   "outputs": [],
   "source": [
    "def multi_model(models,model_input_1,model_input_2):    \n",
    "    outputs = [model.outputs[0] for model in models]\n",
    "    y = Average()(outputs)\n",
    "    model = Model(inputs=[model_input_1,model_input_2],outputs = y, name='multi_model')   \n",
    "    return model"
   ]
  },
  {
   "cell_type": "code",
   "execution_count": 16,
   "id": "attached-profit",
   "metadata": {
    "execution": {
     "iopub.execute_input": "2021-05-01T16:21:17.122958Z",
     "iopub.status.busy": "2021-05-01T16:21:17.120125Z",
     "iopub.status.idle": "2021-05-01T16:21:17.138690Z",
     "shell.execute_reply": "2021-05-01T16:21:17.137940Z"
    },
    "papermill": {
     "duration": 0.051052,
     "end_time": "2021-05-01T16:21:17.138872",
     "exception": false,
     "start_time": "2021-05-01T16:21:17.087820",
     "status": "completed"
    },
    "tags": []
   },
   "outputs": [],
   "source": [
    "model = multi_model([ensemble_model,mfcc_model],model_input_mel,mfcc_model_input)"
   ]
  },
  {
   "cell_type": "code",
   "execution_count": 17,
   "id": "proved-entrance",
   "metadata": {
    "execution": {
     "iopub.execute_input": "2021-05-01T16:21:17.201760Z",
     "iopub.status.busy": "2021-05-01T16:21:17.199222Z",
     "iopub.status.idle": "2021-05-01T16:21:17.227771Z",
     "shell.execute_reply": "2021-05-01T16:21:17.228523Z"
    },
    "papermill": {
     "duration": 0.063936,
     "end_time": "2021-05-01T16:21:17.228765",
     "exception": false,
     "start_time": "2021-05-01T16:21:17.164829",
     "status": "completed"
    },
    "tags": []
   },
   "outputs": [
    {
     "name": "stdout",
     "output_type": "stream",
     "text": [
      "Model: \"multi_model\"\n",
      "__________________________________________________________________________________________________\n",
      "Layer (type)                    Output Shape         Param #     Connected to                     \n",
      "==================================================================================================\n",
      "input_1 (InputLayer)            [(None, 128, 216, 1) 0                                            \n",
      "__________________________________________________________________________________________________\n",
      "conv2d_4 (Conv2D)               (None, 126, 214, 64) 640         input_1[0][0]                    \n",
      "__________________________________________________________________________________________________\n",
      "batch_normalization (BatchNorma (None, 126, 214, 64) 256         conv2d_4[0][0]                   \n",
      "__________________________________________________________________________________________________\n",
      "input_2 (InputLayer)            [(None, 20, 216, 1)] 0                                            \n",
      "__________________________________________________________________________________________________\n",
      "max_pooling2d_4 (MaxPooling2D)  (None, 42, 71, 64)   0           batch_normalization[0][0]        \n",
      "__________________________________________________________________________________________________\n",
      "conv2d_7 (Conv2D)               (None, 20, 216, 64)  640         input_2[0][0]                    \n",
      "__________________________________________________________________________________________________\n",
      "conv2d_5 (Conv2D)               (None, 40, 69, 128)  73856       max_pooling2d_4[0][0]            \n",
      "__________________________________________________________________________________________________\n",
      "batch_normalization_5 (BatchNor (None, 20, 216, 64)  256         conv2d_7[0][0]                   \n",
      "__________________________________________________________________________________________________\n",
      "conv2d (Conv2D)                 (None, 126, 214, 64) 640         input_1[0][0]                    \n",
      "__________________________________________________________________________________________________\n",
      "batch_normalization_1 (BatchNor (None, 40, 69, 128)  512         conv2d_5[0][0]                   \n",
      "__________________________________________________________________________________________________\n",
      "conv2d_8 (Conv2D)               (None, 20, 216, 128) 73856       batch_normalization_5[0][0]      \n",
      "__________________________________________________________________________________________________\n",
      "max_pooling2d (MaxPooling2D)    (None, 63, 107, 64)  0           conv2d[0][0]                     \n",
      "__________________________________________________________________________________________________\n",
      "conv2d_6 (Conv2D)               (None, 38, 67, 128)  147584      batch_normalization_1[0][0]      \n",
      "__________________________________________________________________________________________________\n",
      "batch_normalization_6 (BatchNor (None, 20, 216, 128) 512         conv2d_8[0][0]                   \n",
      "__________________________________________________________________________________________________\n",
      "conv2d_1 (Conv2D)               (None, 61, 105, 128) 73856       max_pooling2d[0][0]              \n",
      "__________________________________________________________________________________________________\n",
      "batch_normalization_2 (BatchNor (None, 38, 67, 128)  512         conv2d_6[0][0]                   \n",
      "__________________________________________________________________________________________________\n",
      "max_pooling2d_6 (MaxPooling2D)  (None, 5, 54, 128)   0           batch_normalization_6[0][0]      \n",
      "__________________________________________________________________________________________________\n",
      "max_pooling2d_1 (MaxPooling2D)  (None, 30, 52, 128)  0           conv2d_1[0][0]                   \n",
      "__________________________________________________________________________________________________\n",
      "max_pooling2d_5 (MaxPooling2D)  (None, 12, 22, 128)  0           batch_normalization_2[0][0]      \n",
      "__________________________________________________________________________________________________\n",
      "dropout_3 (Dropout)             (None, 5, 54, 128)   0           max_pooling2d_6[0][0]            \n",
      "__________________________________________________________________________________________________\n",
      "conv2d_2 (Conv2D)               (None, 28, 50, 256)  295168      max_pooling2d_1[0][0]            \n",
      "__________________________________________________________________________________________________\n",
      "flatten_1 (Flatten)             (None, 33792)        0           max_pooling2d_5[0][0]            \n",
      "__________________________________________________________________________________________________\n",
      "conv2d_9 (Conv2D)               (None, 5, 54, 128)   147584      dropout_3[0][0]                  \n",
      "__________________________________________________________________________________________________\n",
      "max_pooling2d_2 (MaxPooling2D)  (None, 14, 25, 256)  0           conv2d_2[0][0]                   \n",
      "__________________________________________________________________________________________________\n",
      "dense_2 (Dense)                 (None, 128)          4325504     flatten_1[0][0]                  \n",
      "__________________________________________________________________________________________________\n",
      "batch_normalization_7 (BatchNor (None, 5, 54, 128)   512         conv2d_9[0][0]                   \n",
      "__________________________________________________________________________________________________\n",
      "conv2d_3 (Conv2D)               (None, 12, 23, 256)  590080      max_pooling2d_2[0][0]            \n",
      "__________________________________________________________________________________________________\n",
      "batch_normalization_3 (BatchNor (None, 128)          512         dense_2[0][0]                    \n",
      "__________________________________________________________________________________________________\n",
      "max_pooling2d_7 (MaxPooling2D)  (None, 1, 13, 128)   0           batch_normalization_7[0][0]      \n",
      "__________________________________________________________________________________________________\n",
      "max_pooling2d_3 (MaxPooling2D)  (None, 6, 11, 256)   0           conv2d_3[0][0]                   \n",
      "__________________________________________________________________________________________________\n",
      "dropout_1 (Dropout)             (None, 128)          0           batch_normalization_3[0][0]      \n",
      "__________________________________________________________________________________________________\n",
      "dropout_4 (Dropout)             (None, 1, 13, 128)   0           max_pooling2d_7[0][0]            \n",
      "__________________________________________________________________________________________________\n",
      "flatten (Flatten)               (None, 16896)        0           max_pooling2d_3[0][0]            \n",
      "__________________________________________________________________________________________________\n",
      "dense_3 (Dense)                 (None, 64)           8256        dropout_1[0][0]                  \n",
      "__________________________________________________________________________________________________\n",
      "flatten_2 (Flatten)             (None, 1664)         0           dropout_4[0][0]                  \n",
      "__________________________________________________________________________________________________\n",
      "dense (Dense)                   (None, 256)          4325632     flatten[0][0]                    \n",
      "__________________________________________________________________________________________________\n",
      "batch_normalization_4 (BatchNor (None, 64)           256         dense_3[0][0]                    \n",
      "__________________________________________________________________________________________________\n",
      "dense_5 (Dense)                 (None, 512)          852480      flatten_2[0][0]                  \n",
      "__________________________________________________________________________________________________\n",
      "dropout (Dropout)               (None, 256)          0           dense[0][0]                      \n",
      "__________________________________________________________________________________________________\n",
      "dropout_2 (Dropout)             (None, 64)           0           batch_normalization_4[0][0]      \n",
      "__________________________________________________________________________________________________\n",
      "batch_normalization_8 (BatchNor (None, 512)          2048        dense_5[0][0]                    \n",
      "__________________________________________________________________________________________________\n",
      "dense_1 (Dense)                 (None, 50)           12850       dropout[0][0]                    \n",
      "__________________________________________________________________________________________________\n",
      "dense_4 (Dense)                 (None, 50)           3250        dropout_2[0][0]                  \n",
      "__________________________________________________________________________________________________\n",
      "dropout_5 (Dropout)             (None, 512)          0           batch_normalization_8[0][0]      \n",
      "__________________________________________________________________________________________________\n",
      "average (Average)               (None, 50)           0           dense_1[0][0]                    \n",
      "                                                                 dense_4[0][0]                    \n",
      "__________________________________________________________________________________________________\n",
      "dense_6 (Dense)                 (None, 50)           25650       dropout_5[0][0]                  \n",
      "__________________________________________________________________________________________________\n",
      "average_1 (Average)             (None, 50)           0           average[0][0]                    \n",
      "                                                                 dense_6[0][0]                    \n",
      "==================================================================================================\n",
      "Total params: 10,962,902\n",
      "Trainable params: 10,960,214\n",
      "Non-trainable params: 2,688\n",
      "__________________________________________________________________________________________________\n"
     ]
    }
   ],
   "source": [
    "model.summary()"
   ]
  },
  {
   "cell_type": "code",
   "execution_count": 18,
   "id": "minor-universe",
   "metadata": {
    "execution": {
     "iopub.execute_input": "2021-05-01T16:21:17.293949Z",
     "iopub.status.busy": "2021-05-01T16:21:17.292761Z",
     "iopub.status.idle": "2021-05-01T16:21:17.604029Z",
     "shell.execute_reply": "2021-05-01T16:21:17.604721Z"
    },
    "papermill": {
     "duration": 0.345962,
     "end_time": "2021-05-01T16:21:17.604973",
     "exception": false,
     "start_time": "2021-05-01T16:21:17.259011",
     "status": "completed"
    },
    "tags": []
   },
   "outputs": [],
   "source": [
    "mel_test_data_cat = np.load('../input/test-data-esc-50/mel_test_data_cat.npy',allow_pickle=True)"
   ]
  },
  {
   "cell_type": "code",
   "execution_count": 19,
   "id": "handmade-vertex",
   "metadata": {
    "execution": {
     "iopub.execute_input": "2021-05-01T16:21:17.667208Z",
     "iopub.status.busy": "2021-05-01T16:21:17.666106Z",
     "iopub.status.idle": "2021-05-01T16:21:19.086126Z",
     "shell.execute_reply": "2021-05-01T16:21:19.085470Z"
    },
    "papermill": {
     "duration": 1.453705,
     "end_time": "2021-05-01T16:21:19.086283",
     "exception": false,
     "start_time": "2021-05-01T16:21:17.632578",
     "status": "completed"
    },
    "tags": []
   },
   "outputs": [
    {
     "name": "stderr",
     "output_type": "stream",
     "text": [
      "100%|██████████| 200/200 [00:01<00:00, 141.80it/s]\n"
     ]
    }
   ],
   "source": [
    "x_test_mel = np.zeros((1,128,216))\n",
    "for i in tqdm(range(200)):\n",
    "    x_test_mel = np.append(x_test_mel,[mel_test_data_cat[i][0][:,:,-1]],axis=0)"
   ]
  },
  {
   "cell_type": "code",
   "execution_count": 20,
   "id": "extraordinary-barrier",
   "metadata": {
    "execution": {
     "iopub.execute_input": "2021-05-01T16:21:19.155325Z",
     "iopub.status.busy": "2021-05-01T16:21:19.154447Z",
     "iopub.status.idle": "2021-05-01T16:21:19.158099Z",
     "shell.execute_reply": "2021-05-01T16:21:19.157525Z"
    },
    "papermill": {
     "duration": 0.038213,
     "end_time": "2021-05-01T16:21:19.158266",
     "exception": false,
     "start_time": "2021-05-01T16:21:19.120053",
     "status": "completed"
    },
    "tags": []
   },
   "outputs": [],
   "source": [
    "x_test_mel = x_test_mel[1:,:,:]\n",
    "x_test_mel = x_test_mel[:,:,:,np.newaxis]"
   ]
  },
  {
   "cell_type": "code",
   "execution_count": 21,
   "id": "damaged-sharp",
   "metadata": {
    "execution": {
     "iopub.execute_input": "2021-05-01T16:21:19.227351Z",
     "iopub.status.busy": "2021-05-01T16:21:19.226535Z",
     "iopub.status.idle": "2021-05-01T16:21:19.230477Z",
     "shell.execute_reply": "2021-05-01T16:21:19.229721Z"
    },
    "papermill": {
     "duration": 0.041875,
     "end_time": "2021-05-01T16:21:19.230670",
     "exception": false,
     "start_time": "2021-05-01T16:21:19.188795",
     "status": "completed"
    },
    "tags": []
   },
   "outputs": [],
   "source": [
    "y_test_mel = []\n",
    "for i in range(200):\n",
    "    y_test_mel.append(mel_test_data_cat[i][1])\n",
    "y_test_mel = np.array(y_test_mel)"
   ]
  },
  {
   "cell_type": "code",
   "execution_count": 22,
   "id": "noble-allen",
   "metadata": {
    "execution": {
     "iopub.execute_input": "2021-05-01T16:21:19.298021Z",
     "iopub.status.busy": "2021-05-01T16:21:19.297164Z",
     "iopub.status.idle": "2021-05-01T16:21:19.381015Z",
     "shell.execute_reply": "2021-05-01T16:21:19.380338Z"
    },
    "papermill": {
     "duration": 0.119212,
     "end_time": "2021-05-01T16:21:19.381304",
     "exception": false,
     "start_time": "2021-05-01T16:21:19.262092",
     "status": "completed"
    },
    "tags": []
   },
   "outputs": [],
   "source": [
    "mfcc_test_data_cat = np.load('../input/test-data-esc-50/mfcc_test_data_cat.npy',allow_pickle=True)"
   ]
  },
  {
   "cell_type": "code",
   "execution_count": 23,
   "id": "sunset-stability",
   "metadata": {
    "execution": {
     "iopub.execute_input": "2021-05-01T16:21:19.455615Z",
     "iopub.status.busy": "2021-05-01T16:21:19.454924Z",
     "iopub.status.idle": "2021-05-01T16:21:19.607504Z",
     "shell.execute_reply": "2021-05-01T16:21:19.606992Z"
    },
    "papermill": {
     "duration": 0.192902,
     "end_time": "2021-05-01T16:21:19.607672",
     "exception": false,
     "start_time": "2021-05-01T16:21:19.414770",
     "status": "completed"
    },
    "tags": []
   },
   "outputs": [
    {
     "name": "stderr",
     "output_type": "stream",
     "text": [
      "100%|██████████| 200/200 [00:00<00:00, 1375.03it/s]\n"
     ]
    }
   ],
   "source": [
    "x_test_mfcc = np.zeros((1,20,216))\n",
    "for i in tqdm(range(200)):\n",
    "    x_test_mfcc = np.append(x_test_mfcc,[mfcc_test_data_cat[i][0][:,:,-1]],axis=0)"
   ]
  },
  {
   "cell_type": "code",
   "execution_count": 24,
   "id": "lonely-repeat",
   "metadata": {
    "execution": {
     "iopub.execute_input": "2021-05-01T16:21:19.675064Z",
     "iopub.status.busy": "2021-05-01T16:21:19.674042Z",
     "iopub.status.idle": "2021-05-01T16:21:19.678276Z",
     "shell.execute_reply": "2021-05-01T16:21:19.677578Z"
    },
    "papermill": {
     "duration": 0.040711,
     "end_time": "2021-05-01T16:21:19.678418",
     "exception": false,
     "start_time": "2021-05-01T16:21:19.637707",
     "status": "completed"
    },
    "tags": []
   },
   "outputs": [],
   "source": [
    "x_test_mfcc = x_test_mfcc[1:,:,:]\n",
    "x_test_mfcc = x_test_mfcc[:,:,:,np.newaxis]"
   ]
  },
  {
   "cell_type": "code",
   "execution_count": 25,
   "id": "demonstrated-pakistan",
   "metadata": {
    "execution": {
     "iopub.execute_input": "2021-05-01T16:21:19.747151Z",
     "iopub.status.busy": "2021-05-01T16:21:19.746178Z",
     "iopub.status.idle": "2021-05-01T16:21:19.749434Z",
     "shell.execute_reply": "2021-05-01T16:21:19.749916Z"
    },
    "papermill": {
     "duration": 0.041003,
     "end_time": "2021-05-01T16:21:19.750117",
     "exception": false,
     "start_time": "2021-05-01T16:21:19.709114",
     "status": "completed"
    },
    "tags": []
   },
   "outputs": [],
   "source": [
    "y_test_mfcc = []\n",
    "for i in range(200):\n",
    "    y_test_mfcc.append(mfcc_test_data_cat[i][1])\n",
    "y_test_mfcc = np.array(y_test_mfcc)"
   ]
  },
  {
   "cell_type": "code",
   "execution_count": 26,
   "id": "dynamic-mouth",
   "metadata": {
    "execution": {
     "iopub.execute_input": "2021-05-01T16:21:19.825182Z",
     "iopub.status.busy": "2021-05-01T16:21:19.824409Z",
     "iopub.status.idle": "2021-05-01T16:21:30.580064Z",
     "shell.execute_reply": "2021-05-01T16:21:30.580592Z"
    },
    "papermill": {
     "duration": 10.798069,
     "end_time": "2021-05-01T16:21:30.580838",
     "exception": false,
     "start_time": "2021-05-01T16:21:19.782769",
     "status": "completed"
    },
    "tags": []
   },
   "outputs": [],
   "source": [
    "arr = model.predict([x_test_mel,x_test_mfcc])"
   ]
  },
  {
   "cell_type": "code",
   "execution_count": 27,
   "id": "bright-meter",
   "metadata": {
    "execution": {
     "iopub.execute_input": "2021-05-01T16:21:30.647039Z",
     "iopub.status.busy": "2021-05-01T16:21:30.646253Z",
     "iopub.status.idle": "2021-05-01T16:21:30.654684Z",
     "shell.execute_reply": "2021-05-01T16:21:30.655227Z"
    },
    "papermill": {
     "duration": 0.043836,
     "end_time": "2021-05-01T16:21:30.655407",
     "exception": false,
     "start_time": "2021-05-01T16:21:30.611571",
     "status": "completed"
    },
    "tags": []
   },
   "outputs": [],
   "source": [
    "y_pred = []\n",
    "for i in range(200):\n",
    "    y_pred.append(np.where(arr[i] == np.amax(arr[i]))[0])"
   ]
  },
  {
   "cell_type": "code",
   "execution_count": 28,
   "id": "quarterly-interference",
   "metadata": {
    "execution": {
     "iopub.execute_input": "2021-05-01T16:21:30.722385Z",
     "iopub.status.busy": "2021-05-01T16:21:30.721728Z",
     "iopub.status.idle": "2021-05-01T16:21:30.732433Z",
     "shell.execute_reply": "2021-05-01T16:21:30.731908Z"
    },
    "papermill": {
     "duration": 0.045413,
     "end_time": "2021-05-01T16:21:30.732581",
     "exception": false,
     "start_time": "2021-05-01T16:21:30.687168",
     "status": "completed"
    },
    "tags": []
   },
   "outputs": [
    {
     "data": {
      "text/plain": [
       "array([ 0,  1,  2,  3,  4,  5,  6,  7,  8,  9, 10, 11, 12, 13, 14, 15, 16,\n",
       "       17, 18, 19, 20, 21, 22, 23, 24, 25, 26, 27, 28, 29, 30, 31, 32, 33,\n",
       "       34, 35, 36, 37, 38, 39, 40, 41, 42, 43, 44, 45, 46, 47, 48, 49])"
      ]
     },
     "execution_count": 28,
     "metadata": {},
     "output_type": "execute_result"
    }
   ],
   "source": [
    "np.unique(y_pred)"
   ]
  },
  {
   "cell_type": "code",
   "execution_count": 29,
   "id": "appreciated-guidance",
   "metadata": {
    "execution": {
     "iopub.execute_input": "2021-05-01T16:21:30.799532Z",
     "iopub.status.busy": "2021-05-01T16:21:30.798906Z",
     "iopub.status.idle": "2021-05-01T16:21:30.806030Z",
     "shell.execute_reply": "2021-05-01T16:21:30.805491Z"
    },
    "papermill": {
     "duration": 0.041903,
     "end_time": "2021-05-01T16:21:30.806177",
     "exception": false,
     "start_time": "2021-05-01T16:21:30.764274",
     "status": "completed"
    },
    "tags": []
   },
   "outputs": [],
   "source": [
    "y_pred = np.array(y_pred).flatten()"
   ]
  },
  {
   "cell_type": "code",
   "execution_count": 30,
   "id": "efficient-eligibility",
   "metadata": {
    "execution": {
     "iopub.execute_input": "2021-05-01T16:21:30.875369Z",
     "iopub.status.busy": "2021-05-01T16:21:30.874672Z",
     "iopub.status.idle": "2021-05-01T16:21:30.879563Z",
     "shell.execute_reply": "2021-05-01T16:21:30.880144Z"
    },
    "papermill": {
     "duration": 0.042248,
     "end_time": "2021-05-01T16:21:30.880326",
     "exception": false,
     "start_time": "2021-05-01T16:21:30.838078",
     "status": "completed"
    },
    "tags": []
   },
   "outputs": [
    {
     "name": "stdout",
     "output_type": "stream",
     "text": [
      "0.92\n"
     ]
    }
   ],
   "source": [
    "from sklearn.metrics import accuracy_score\n",
    "print(accuracy_score(y_pred,y_test_mel))"
   ]
  },
  {
   "cell_type": "code",
   "execution_count": 31,
   "id": "smoking-baseline",
   "metadata": {
    "execution": {
     "iopub.execute_input": "2021-05-01T16:21:30.948137Z",
     "iopub.status.busy": "2021-05-01T16:21:30.946908Z",
     "iopub.status.idle": "2021-05-01T16:21:31.073485Z",
     "shell.execute_reply": "2021-05-01T16:21:31.072767Z"
    },
    "papermill": {
     "duration": 0.161568,
     "end_time": "2021-05-01T16:21:31.073676",
     "exception": false,
     "start_time": "2021-05-01T16:21:30.912108",
     "status": "completed"
    },
    "tags": []
   },
   "outputs": [],
   "source": [
    "model.save('multi_model.h5')"
   ]
  }
 ],
 "metadata": {
  "kernelspec": {
   "display_name": "Python 3",
   "language": "python",
   "name": "python3"
  },
  "language_info": {
   "codemirror_mode": {
    "name": "ipython",
    "version": 3
   },
   "file_extension": ".py",
   "mimetype": "text/x-python",
   "name": "python",
   "nbconvert_exporter": "python",
   "pygments_lexer": "ipython3",
   "version": "3.7.10"
  },
  "papermill": {
   "default_parameters": {},
   "duration": 38.078268,
   "end_time": "2021-05-01T16:21:32.831338",
   "environment_variables": {},
   "exception": null,
   "input_path": "__notebook__.ipynb",
   "output_path": "__notebook__.ipynb",
   "parameters": {},
   "start_time": "2021-05-01T16:20:54.753070",
   "version": "2.3.3"
  }
 },
 "nbformat": 4,
 "nbformat_minor": 5
}
