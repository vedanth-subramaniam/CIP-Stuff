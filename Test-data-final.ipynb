{
 "cells": [
  {
   "cell_type": "code",
   "execution_count": 1,
   "id": "utility-pencil",
   "metadata": {
    "_cell_guid": "b1076dfc-b9ad-4769-8c92-a6c4dae69d19",
    "_uuid": "8f2839f25d086af736a60e9eeb907d3b93b6e0e5",
    "execution": {
     "iopub.execute_input": "2021-04-14T02:27:55.719776Z",
     "iopub.status.busy": "2021-04-14T02:27:55.718519Z",
     "iopub.status.idle": "2021-04-14T02:27:59.106301Z",
     "shell.execute_reply": "2021-04-14T02:27:59.105549Z"
    },
    "papermill": {
     "duration": 3.41817,
     "end_time": "2021-04-14T02:27:59.106540",
     "exception": false,
     "start_time": "2021-04-14T02:27:55.688370",
     "status": "completed"
    },
    "tags": []
   },
   "outputs": [],
   "source": [
    "import numpy as np\n",
    "import pandas as pd\n",
    "import os,sys\n",
    "import matplotlib.pyplot as plt\n",
    "import librosa\n",
    "import librosa.display\n",
    "from tqdm import tqdm\n",
    "from sklearn.model_selection import train_test_split"
   ]
  },
  {
   "cell_type": "code",
   "execution_count": 2,
   "id": "objective-paradise",
   "metadata": {
    "execution": {
     "iopub.execute_input": "2021-04-14T02:27:59.162624Z",
     "iopub.status.busy": "2021-04-14T02:27:59.161394Z",
     "iopub.status.idle": "2021-04-14T02:27:59.192167Z",
     "shell.execute_reply": "2021-04-14T02:27:59.191508Z"
    },
    "papermill": {
     "duration": 0.060673,
     "end_time": "2021-04-14T02:27:59.192333",
     "exception": false,
     "start_time": "2021-04-14T02:27:59.131660",
     "status": "completed"
    },
    "tags": []
   },
   "outputs": [],
   "source": [
    "#Loading the ground truth csv file\n",
    "df = pd.read_csv('../input/esc50/ESC-50-master/meta/esc50.csv')"
   ]
  },
  {
   "cell_type": "code",
   "execution_count": 3,
   "id": "electoral-bracket",
   "metadata": {
    "execution": {
     "iopub.execute_input": "2021-04-14T02:27:59.246779Z",
     "iopub.status.busy": "2021-04-14T02:27:59.245782Z",
     "iopub.status.idle": "2021-04-14T02:28:09.973776Z",
     "shell.execute_reply": "2021-04-14T02:28:09.972151Z"
    },
    "papermill": {
     "duration": 10.757731,
     "end_time": "2021-04-14T02:28:09.973980",
     "exception": false,
     "start_time": "2021-04-14T02:27:59.216249",
     "status": "completed"
    },
    "tags": []
   },
   "outputs": [],
   "source": [
    "#Loading the saved numpy array\n",
    "original_audio_data_numpy = np.load('../input/esc-50-cip-project-sound/original_audio_samples.npy',allow_pickle=True)"
   ]
  },
  {
   "cell_type": "code",
   "execution_count": 4,
   "id": "bored-instrument",
   "metadata": {
    "execution": {
     "iopub.execute_input": "2021-04-14T02:28:10.031200Z",
     "iopub.status.busy": "2021-04-14T02:28:10.030297Z",
     "iopub.status.idle": "2021-04-14T02:28:10.086264Z",
     "shell.execute_reply": "2021-04-14T02:28:10.085556Z"
    },
    "papermill": {
     "duration": 0.086372,
     "end_time": "2021-04-14T02:28:10.086637",
     "exception": false,
     "start_time": "2021-04-14T02:28:10.000265",
     "status": "completed"
    },
    "tags": []
   },
   "outputs": [
    {
     "data": {
      "text/html": [
       "<div>\n",
       "<style scoped>\n",
       "    .dataframe tbody tr th:only-of-type {\n",
       "        vertical-align: middle;\n",
       "    }\n",
       "\n",
       "    .dataframe tbody tr th {\n",
       "        vertical-align: top;\n",
       "    }\n",
       "\n",
       "    .dataframe thead th {\n",
       "        text-align: right;\n",
       "    }\n",
       "</style>\n",
       "<table border=\"1\" class=\"dataframe\">\n",
       "  <thead>\n",
       "    <tr style=\"text-align: right;\">\n",
       "      <th></th>\n",
       "      <th>data</th>\n",
       "      <th>sampling_rate</th>\n",
       "      <th>category</th>\n",
       "    </tr>\n",
       "  </thead>\n",
       "  <tbody>\n",
       "    <tr>\n",
       "      <th>0</th>\n",
       "      <td>[-0.0018663798, 0.004723502, -0.00090402894, 0...</td>\n",
       "      <td>22050</td>\n",
       "      <td>15</td>\n",
       "    </tr>\n",
       "    <tr>\n",
       "      <th>1</th>\n",
       "      <td>[-0.019782359, -0.026251452, -0.02057997, -0.0...</td>\n",
       "      <td>22050</td>\n",
       "      <td>19</td>\n",
       "    </tr>\n",
       "    <tr>\n",
       "      <th>2</th>\n",
       "      <td>[-0.03421642, 0.02844932, 0.04358507, -0.29408...</td>\n",
       "      <td>22050</td>\n",
       "      <td>36</td>\n",
       "    </tr>\n",
       "    <tr>\n",
       "      <th>3</th>\n",
       "      <td>[0.0013461491, 0.0019932226, 0.0017267463, 0.0...</td>\n",
       "      <td>22050</td>\n",
       "      <td>22</td>\n",
       "    </tr>\n",
       "    <tr>\n",
       "      <th>4</th>\n",
       "      <td>[-0.13718751, -0.1813196, -0.11306347, -0.0987...</td>\n",
       "      <td>22050</td>\n",
       "      <td>40</td>\n",
       "    </tr>\n",
       "    <tr>\n",
       "      <th>...</th>\n",
       "      <td>...</td>\n",
       "      <td>...</td>\n",
       "      <td>...</td>\n",
       "    </tr>\n",
       "    <tr>\n",
       "      <th>1995</th>\n",
       "      <td>[0.00080164516, 0.00087302254, 0.0004070742, 0...</td>\n",
       "      <td>22050</td>\n",
       "      <td>48</td>\n",
       "    </tr>\n",
       "    <tr>\n",
       "      <th>1996</th>\n",
       "      <td>[-0.050393637, -0.07131728, -0.058072377, -0.0...</td>\n",
       "      <td>22050</td>\n",
       "      <td>47</td>\n",
       "    </tr>\n",
       "    <tr>\n",
       "      <th>1997</th>\n",
       "      <td>[6.0981706e-06, -2.7409707e-05, 1.337673e-05, ...</td>\n",
       "      <td>22050</td>\n",
       "      <td>15</td>\n",
       "    </tr>\n",
       "    <tr>\n",
       "      <th>1998</th>\n",
       "      <td>[0.009146113, 0.003665812, -0.011603184, -0.01...</td>\n",
       "      <td>22050</td>\n",
       "      <td>14</td>\n",
       "    </tr>\n",
       "    <tr>\n",
       "      <th>1999</th>\n",
       "      <td>[0.009735436, -0.069446094, -0.1465539, -0.198...</td>\n",
       "      <td>22050</td>\n",
       "      <td>22</td>\n",
       "    </tr>\n",
       "  </tbody>\n",
       "</table>\n",
       "<p>2000 rows × 3 columns</p>\n",
       "</div>"
      ],
      "text/plain": [
       "                                                   data sampling_rate category\n",
       "0     [-0.0018663798, 0.004723502, -0.00090402894, 0...         22050       15\n",
       "1     [-0.019782359, -0.026251452, -0.02057997, -0.0...         22050       19\n",
       "2     [-0.03421642, 0.02844932, 0.04358507, -0.29408...         22050       36\n",
       "3     [0.0013461491, 0.0019932226, 0.0017267463, 0.0...         22050       22\n",
       "4     [-0.13718751, -0.1813196, -0.11306347, -0.0987...         22050       40\n",
       "...                                                 ...           ...      ...\n",
       "1995  [0.00080164516, 0.00087302254, 0.0004070742, 0...         22050       48\n",
       "1996  [-0.050393637, -0.07131728, -0.058072377, -0.0...         22050       47\n",
       "1997  [6.0981706e-06, -2.7409707e-05, 1.337673e-05, ...         22050       15\n",
       "1998  [0.009146113, 0.003665812, -0.011603184, -0.01...         22050       14\n",
       "1999  [0.009735436, -0.069446094, -0.1465539, -0.198...         22050       22\n",
       "\n",
       "[2000 rows x 3 columns]"
      ]
     },
     "execution_count": 4,
     "metadata": {},
     "output_type": "execute_result"
    }
   ],
   "source": [
    "df_org_np = pd.DataFrame(original_audio_data_numpy, columns = ['data','sampling_rate','category'])\n",
    "df_org_np"
   ]
  },
  {
   "cell_type": "code",
   "execution_count": 5,
   "id": "proper-practitioner",
   "metadata": {
    "execution": {
     "iopub.execute_input": "2021-04-14T02:28:10.149427Z",
     "iopub.status.busy": "2021-04-14T02:28:10.148283Z",
     "iopub.status.idle": "2021-04-14T02:28:10.158801Z",
     "shell.execute_reply": "2021-04-14T02:28:10.159309Z"
    },
    "papermill": {
     "duration": 0.046403,
     "end_time": "2021-04-14T02:28:10.159552",
     "exception": false,
     "start_time": "2021-04-14T02:28:10.113149",
     "status": "completed"
    },
    "tags": []
   },
   "outputs": [],
   "source": [
    "train_data, test_data = train_test_split(df_org_np,test_size=0.1,stratify=df_org_np['category'],random_state=42)"
   ]
  },
  {
   "cell_type": "code",
   "execution_count": 6,
   "id": "fifty-building",
   "metadata": {
    "execution": {
     "iopub.execute_input": "2021-04-14T02:28:10.217202Z",
     "iopub.status.busy": "2021-04-14T02:28:10.216098Z",
     "iopub.status.idle": "2021-04-14T02:28:10.220692Z",
     "shell.execute_reply": "2021-04-14T02:28:10.219896Z"
    },
    "papermill": {
     "duration": 0.036127,
     "end_time": "2021-04-14T02:28:10.220885",
     "exception": false,
     "start_time": "2021-04-14T02:28:10.184758",
     "status": "completed"
    },
    "tags": []
   },
   "outputs": [],
   "source": [
    "original_test_audio_samples = np.array(test_data['data'])\n",
    "original_test_category = np.array(test_data['category'])"
   ]
  },
  {
   "cell_type": "code",
   "execution_count": 7,
   "id": "mechanical-africa",
   "metadata": {
    "execution": {
     "iopub.execute_input": "2021-04-14T02:28:10.278620Z",
     "iopub.status.busy": "2021-04-14T02:28:10.277446Z",
     "iopub.status.idle": "2021-04-14T02:28:10.281248Z",
     "shell.execute_reply": "2021-04-14T02:28:10.282011Z"
    },
    "papermill": {
     "duration": 0.035956,
     "end_time": "2021-04-14T02:28:10.282272",
     "exception": false,
     "start_time": "2021-04-14T02:28:10.246316",
     "status": "completed"
    },
    "tags": []
   },
   "outputs": [],
   "source": [
    "test_data = np.array(test_data)"
   ]
  },
  {
   "cell_type": "code",
   "execution_count": 8,
   "id": "appropriate-marine",
   "metadata": {
    "execution": {
     "iopub.execute_input": "2021-04-14T02:28:10.341968Z",
     "iopub.status.busy": "2021-04-14T02:28:10.340495Z",
     "iopub.status.idle": "2021-04-14T02:28:10.566611Z",
     "shell.execute_reply": "2021-04-14T02:28:10.565781Z"
    },
    "papermill": {
     "duration": 0.2591,
     "end_time": "2021-04-14T02:28:10.566794",
     "exception": false,
     "start_time": "2021-04-14T02:28:10.307694",
     "status": "completed"
    },
    "tags": []
   },
   "outputs": [],
   "source": [
    "np.save('test_data',test_data)"
   ]
  },
  {
   "cell_type": "markdown",
   "id": "collective-median",
   "metadata": {
    "papermill": {
     "duration": 0.024945,
     "end_time": "2021-04-14T02:28:10.617196",
     "exception": false,
     "start_time": "2021-04-14T02:28:10.592251",
     "status": "completed"
    },
    "tags": []
   },
   "source": [
    "Fourier Test Data with scaling"
   ]
  },
  {
   "cell_type": "code",
   "execution_count": 9,
   "id": "southern-explanation",
   "metadata": {
    "execution": {
     "iopub.execute_input": "2021-04-14T02:28:10.675636Z",
     "iopub.status.busy": "2021-04-14T02:28:10.674894Z",
     "iopub.status.idle": "2021-04-14T02:28:12.950318Z",
     "shell.execute_reply": "2021-04-14T02:28:12.949517Z"
    },
    "papermill": {
     "duration": 2.306732,
     "end_time": "2021-04-14T02:28:12.950540",
     "exception": false,
     "start_time": "2021-04-14T02:28:10.643808",
     "status": "completed"
    },
    "tags": []
   },
   "outputs": [],
   "source": [
    "fourier_test_audio = []\n",
    "for audio in original_test_audio_samples:\n",
    "    fourier_test_audio.append(librosa.amplitude_to_db(abs(librosa.stft(audio))))"
   ]
  },
  {
   "cell_type": "code",
   "execution_count": 10,
   "id": "medical-kitchen",
   "metadata": {
    "execution": {
     "iopub.execute_input": "2021-04-14T02:28:13.007883Z",
     "iopub.status.busy": "2021-04-14T02:28:13.007059Z",
     "iopub.status.idle": "2021-04-14T02:28:13.261852Z",
     "shell.execute_reply": "2021-04-14T02:28:13.262391Z"
    },
    "papermill": {
     "duration": 0.286021,
     "end_time": "2021-04-14T02:28:13.262662",
     "exception": false,
     "start_time": "2021-04-14T02:28:12.976641",
     "status": "completed"
    },
    "tags": []
   },
   "outputs": [],
   "source": [
    "fourier_test_audio = np.asarray(fourier_test_audio)"
   ]
  },
  {
   "cell_type": "code",
   "execution_count": 11,
   "id": "worst-attachment",
   "metadata": {
    "execution": {
     "iopub.execute_input": "2021-04-14T02:28:13.319024Z",
     "iopub.status.busy": "2021-04-14T02:28:13.318215Z",
     "iopub.status.idle": "2021-04-14T02:28:13.322657Z",
     "shell.execute_reply": "2021-04-14T02:28:13.323261Z"
    },
    "papermill": {
     "duration": 0.034855,
     "end_time": "2021-04-14T02:28:13.323496",
     "exception": false,
     "start_time": "2021-04-14T02:28:13.288641",
     "status": "completed"
    },
    "tags": []
   },
   "outputs": [],
   "source": [
    "fourier_test_audio = fourier_test_audio[:,:,:,np.newaxis]"
   ]
  },
  {
   "cell_type": "code",
   "execution_count": 12,
   "id": "mediterranean-kruger",
   "metadata": {
    "execution": {
     "iopub.execute_input": "2021-04-14T02:28:13.382721Z",
     "iopub.status.busy": "2021-04-14T02:28:13.381791Z",
     "iopub.status.idle": "2021-04-14T02:28:13.388000Z",
     "shell.execute_reply": "2021-04-14T02:28:13.387374Z"
    },
    "papermill": {
     "duration": 0.038855,
     "end_time": "2021-04-14T02:28:13.388181",
     "exception": false,
     "start_time": "2021-04-14T02:28:13.349326",
     "status": "completed"
    },
    "tags": []
   },
   "outputs": [
    {
     "data": {
      "text/plain": [
       "(200, 1025, 216, 1)"
      ]
     },
     "execution_count": 12,
     "metadata": {},
     "output_type": "execute_result"
    }
   ],
   "source": [
    "fourier_test_audio.shape"
   ]
  },
  {
   "cell_type": "code",
   "execution_count": 13,
   "id": "reliable-input",
   "metadata": {
    "execution": {
     "iopub.execute_input": "2021-04-14T02:28:13.446959Z",
     "iopub.status.busy": "2021-04-14T02:28:13.445914Z",
     "iopub.status.idle": "2021-04-14T02:28:13.449848Z",
     "shell.execute_reply": "2021-04-14T02:28:13.449139Z"
    },
    "papermill": {
     "duration": 0.035529,
     "end_time": "2021-04-14T02:28:13.450019",
     "exception": false,
     "start_time": "2021-04-14T02:28:13.414490",
     "status": "completed"
    },
    "tags": []
   },
   "outputs": [],
   "source": [
    "from sklearn.preprocessing import MinMaxScaler\n",
    "scaler = MinMaxScaler()"
   ]
  },
  {
   "cell_type": "code",
   "execution_count": 14,
   "id": "narrative-determination",
   "metadata": {
    "execution": {
     "iopub.execute_input": "2021-04-14T02:28:13.507046Z",
     "iopub.status.busy": "2021-04-14T02:28:13.506265Z",
     "iopub.status.idle": "2021-04-14T02:28:13.839444Z",
     "shell.execute_reply": "2021-04-14T02:28:13.840003Z"
    },
    "papermill": {
     "duration": 0.363688,
     "end_time": "2021-04-14T02:28:13.840243",
     "exception": false,
     "start_time": "2021-04-14T02:28:13.476555",
     "status": "completed"
    },
    "tags": []
   },
   "outputs": [],
   "source": [
    "for i in range(200):\n",
    "  fourier_test_audio[i,:,:,0] = scaler.fit_transform(fourier_test_audio[i,:,:,0])"
   ]
  },
  {
   "cell_type": "code",
   "execution_count": 15,
   "id": "sitting-driver",
   "metadata": {
    "execution": {
     "iopub.execute_input": "2021-04-14T02:28:13.898956Z",
     "iopub.status.busy": "2021-04-14T02:28:13.898144Z",
     "iopub.status.idle": "2021-04-14T02:28:13.904100Z",
     "shell.execute_reply": "2021-04-14T02:28:13.904642Z"
    },
    "papermill": {
     "duration": 0.037093,
     "end_time": "2021-04-14T02:28:13.904861",
     "exception": false,
     "start_time": "2021-04-14T02:28:13.867768",
     "status": "completed"
    },
    "tags": []
   },
   "outputs": [],
   "source": [
    "fourier_test_data_cat = []\n",
    "for i in range(200):\n",
    "    fourier_test_data_cat.append((fourier_test_audio[i],original_test_category[i]))"
   ]
  },
  {
   "cell_type": "code",
   "execution_count": 16,
   "id": "certain-ontario",
   "metadata": {
    "execution": {
     "iopub.execute_input": "2021-04-14T02:28:13.964847Z",
     "iopub.status.busy": "2021-04-14T02:28:13.964066Z",
     "iopub.status.idle": "2021-04-14T02:28:13.971216Z",
     "shell.execute_reply": "2021-04-14T02:28:13.970465Z"
    },
    "papermill": {
     "duration": 0.039609,
     "end_time": "2021-04-14T02:28:13.971387",
     "exception": false,
     "start_time": "2021-04-14T02:28:13.931778",
     "status": "completed"
    },
    "tags": []
   },
   "outputs": [
    {
     "name": "stderr",
     "output_type": "stream",
     "text": [
      "/opt/conda/lib/python3.7/site-packages/numpy/core/_asarray.py:83: VisibleDeprecationWarning: Creating an ndarray from ragged nested sequences (which is a list-or-tuple of lists-or-tuples-or ndarrays with different lengths or shapes) is deprecated. If you meant to do this, you must specify 'dtype=object' when creating the ndarray\n",
      "  return array(a, dtype, copy=False, order=order)\n"
     ]
    }
   ],
   "source": [
    "fourier_test_data_cat = np.asarray(fourier_test_data_cat)"
   ]
  },
  {
   "cell_type": "code",
   "execution_count": 17,
   "id": "sized-cover",
   "metadata": {
    "execution": {
     "iopub.execute_input": "2021-04-14T02:28:14.033854Z",
     "iopub.status.busy": "2021-04-14T02:28:14.032201Z",
     "iopub.status.idle": "2021-04-14T02:28:14.425204Z",
     "shell.execute_reply": "2021-04-14T02:28:14.424426Z"
    },
    "papermill": {
     "duration": 0.426828,
     "end_time": "2021-04-14T02:28:14.425375",
     "exception": false,
     "start_time": "2021-04-14T02:28:13.998547",
     "status": "completed"
    },
    "tags": []
   },
   "outputs": [],
   "source": [
    "np.save('fourier_test_data_cat',fourier_test_data_cat)"
   ]
  },
  {
   "cell_type": "markdown",
   "id": "flexible-roberts",
   "metadata": {
    "papermill": {
     "duration": 0.026772,
     "end_time": "2021-04-14T02:28:14.479651",
     "exception": false,
     "start_time": "2021-04-14T02:28:14.452879",
     "status": "completed"
    },
    "tags": []
   },
   "source": [
    "Mel Spectrogram with scaling"
   ]
  },
  {
   "cell_type": "code",
   "execution_count": 18,
   "id": "reliable-devil",
   "metadata": {
    "execution": {
     "iopub.execute_input": "2021-04-14T02:28:14.544146Z",
     "iopub.status.busy": "2021-04-14T02:28:14.542686Z",
     "iopub.status.idle": "2021-04-14T02:28:18.896562Z",
     "shell.execute_reply": "2021-04-14T02:28:18.897587Z"
    },
    "papermill": {
     "duration": 4.389715,
     "end_time": "2021-04-14T02:28:18.897927",
     "exception": false,
     "start_time": "2021-04-14T02:28:14.508212",
     "status": "completed"
    },
    "tags": []
   },
   "outputs": [],
   "source": [
    "mel_test_audio = []\n",
    "for audio in original_test_audio_samples:\n",
    "    mel_test_audio.append(librosa.amplitude_to_db(librosa.feature.melspectrogram(audio, 22050)))"
   ]
  },
  {
   "cell_type": "code",
   "execution_count": 19,
   "id": "fitted-pencil",
   "metadata": {
    "execution": {
     "iopub.execute_input": "2021-04-14T02:28:19.006746Z",
     "iopub.status.busy": "2021-04-14T02:28:19.004997Z",
     "iopub.status.idle": "2021-04-14T02:28:19.027511Z",
     "shell.execute_reply": "2021-04-14T02:28:19.028103Z"
    },
    "papermill": {
     "duration": 0.080616,
     "end_time": "2021-04-14T02:28:19.028317",
     "exception": false,
     "start_time": "2021-04-14T02:28:18.947701",
     "status": "completed"
    },
    "tags": []
   },
   "outputs": [],
   "source": [
    "mel_test_audio = np.asarray(mel_test_audio)"
   ]
  },
  {
   "cell_type": "code",
   "execution_count": 20,
   "id": "purple-stand",
   "metadata": {
    "execution": {
     "iopub.execute_input": "2021-04-14T02:28:19.090593Z",
     "iopub.status.busy": "2021-04-14T02:28:19.089374Z",
     "iopub.status.idle": "2021-04-14T02:28:19.094772Z",
     "shell.execute_reply": "2021-04-14T02:28:19.095452Z"
    },
    "papermill": {
     "duration": 0.038729,
     "end_time": "2021-04-14T02:28:19.095676",
     "exception": false,
     "start_time": "2021-04-14T02:28:19.056947",
     "status": "completed"
    },
    "tags": []
   },
   "outputs": [],
   "source": [
    "mel_test_audio = mel_test_audio[:,:,:,np.newaxis]"
   ]
  },
  {
   "cell_type": "code",
   "execution_count": 21,
   "id": "annual-housing",
   "metadata": {
    "execution": {
     "iopub.execute_input": "2021-04-14T02:28:19.156562Z",
     "iopub.status.busy": "2021-04-14T02:28:19.155424Z",
     "iopub.status.idle": "2021-04-14T02:28:19.162982Z",
     "shell.execute_reply": "2021-04-14T02:28:19.163497Z"
    },
    "papermill": {
     "duration": 0.040561,
     "end_time": "2021-04-14T02:28:19.163718",
     "exception": false,
     "start_time": "2021-04-14T02:28:19.123157",
     "status": "completed"
    },
    "tags": []
   },
   "outputs": [
    {
     "data": {
      "text/plain": [
       "(200, 128, 216, 1)"
      ]
     },
     "execution_count": 21,
     "metadata": {},
     "output_type": "execute_result"
    }
   ],
   "source": [
    "mel_test_audio.shape"
   ]
  },
  {
   "cell_type": "code",
   "execution_count": 22,
   "id": "exposed-fiction",
   "metadata": {
    "execution": {
     "iopub.execute_input": "2021-04-14T02:28:19.229741Z",
     "iopub.status.busy": "2021-04-14T02:28:19.228428Z",
     "iopub.status.idle": "2021-04-14T02:28:19.303874Z",
     "shell.execute_reply": "2021-04-14T02:28:19.303253Z"
    },
    "papermill": {
     "duration": 0.11205,
     "end_time": "2021-04-14T02:28:19.304049",
     "exception": false,
     "start_time": "2021-04-14T02:28:19.191999",
     "status": "completed"
    },
    "tags": []
   },
   "outputs": [],
   "source": [
    "for i in range(200):\n",
    "  mel_test_audio[i,:,:,0] = scaler.fit_transform(mel_test_audio[i,:,:,0])"
   ]
  },
  {
   "cell_type": "code",
   "execution_count": 23,
   "id": "supported-beginning",
   "metadata": {
    "execution": {
     "iopub.execute_input": "2021-04-14T02:28:19.367904Z",
     "iopub.status.busy": "2021-04-14T02:28:19.367148Z",
     "iopub.status.idle": "2021-04-14T02:28:19.369686Z",
     "shell.execute_reply": "2021-04-14T02:28:19.370199Z"
    },
    "papermill": {
     "duration": 0.037924,
     "end_time": "2021-04-14T02:28:19.370398",
     "exception": false,
     "start_time": "2021-04-14T02:28:19.332474",
     "status": "completed"
    },
    "tags": []
   },
   "outputs": [],
   "source": [
    "mel_test_data_cat = []\n",
    "for i in range(200):\n",
    "    mel_test_data_cat.append((mel_test_audio[i],original_test_category[i]))"
   ]
  },
  {
   "cell_type": "code",
   "execution_count": 24,
   "id": "christian-mining",
   "metadata": {
    "execution": {
     "iopub.execute_input": "2021-04-14T02:28:19.432861Z",
     "iopub.status.busy": "2021-04-14T02:28:19.432034Z",
     "iopub.status.idle": "2021-04-14T02:28:19.437649Z",
     "shell.execute_reply": "2021-04-14T02:28:19.438456Z"
    },
    "papermill": {
     "duration": 0.039671,
     "end_time": "2021-04-14T02:28:19.438733",
     "exception": false,
     "start_time": "2021-04-14T02:28:19.399062",
     "status": "completed"
    },
    "tags": []
   },
   "outputs": [
    {
     "name": "stderr",
     "output_type": "stream",
     "text": [
      "/opt/conda/lib/python3.7/site-packages/numpy/core/_asarray.py:83: VisibleDeprecationWarning: Creating an ndarray from ragged nested sequences (which is a list-or-tuple of lists-or-tuples-or ndarrays with different lengths or shapes) is deprecated. If you meant to do this, you must specify 'dtype=object' when creating the ndarray\n",
      "  return array(a, dtype, copy=False, order=order)\n"
     ]
    }
   ],
   "source": [
    "mel_test_data_cat = np.asarray(mel_test_data_cat)"
   ]
  },
  {
   "cell_type": "code",
   "execution_count": 25,
   "id": "passing-george",
   "metadata": {
    "execution": {
     "iopub.execute_input": "2021-04-14T02:28:19.502533Z",
     "iopub.status.busy": "2021-04-14T02:28:19.501756Z",
     "iopub.status.idle": "2021-04-14T02:28:19.535966Z",
     "shell.execute_reply": "2021-04-14T02:28:19.536596Z"
    },
    "papermill": {
     "duration": 0.068614,
     "end_time": "2021-04-14T02:28:19.536817",
     "exception": false,
     "start_time": "2021-04-14T02:28:19.468203",
     "status": "completed"
    },
    "tags": []
   },
   "outputs": [],
   "source": [
    "np.save('mel_test_data_cat',mel_test_data_cat)"
   ]
  },
  {
   "cell_type": "markdown",
   "id": "eight-tulsa",
   "metadata": {
    "papermill": {
     "duration": 0.029242,
     "end_time": "2021-04-14T02:28:19.595165",
     "exception": false,
     "start_time": "2021-04-14T02:28:19.565923",
     "status": "completed"
    },
    "tags": []
   },
   "source": [
    "MFCC Spectrogram with scaling"
   ]
  },
  {
   "cell_type": "code",
   "execution_count": 26,
   "id": "immediate-valuable",
   "metadata": {
    "execution": {
     "iopub.execute_input": "2021-04-14T02:28:19.658803Z",
     "iopub.status.busy": "2021-04-14T02:28:19.658068Z",
     "iopub.status.idle": "2021-04-14T02:28:24.287528Z",
     "shell.execute_reply": "2021-04-14T02:28:24.288480Z"
    },
    "papermill": {
     "duration": 4.664671,
     "end_time": "2021-04-14T02:28:24.288829",
     "exception": false,
     "start_time": "2021-04-14T02:28:19.624158",
     "status": "completed"
    },
    "tags": []
   },
   "outputs": [],
   "source": [
    "mfcc_test_audio = []\n",
    "for audio in original_test_audio_samples:\n",
    "    mfcc_test_audio.append(librosa.feature.mfcc(audio, 22050))"
   ]
  },
  {
   "cell_type": "code",
   "execution_count": 27,
   "id": "excited-visibility",
   "metadata": {
    "execution": {
     "iopub.execute_input": "2021-04-14T02:28:24.406703Z",
     "iopub.status.busy": "2021-04-14T02:28:24.405170Z",
     "iopub.status.idle": "2021-04-14T02:28:24.413927Z",
     "shell.execute_reply": "2021-04-14T02:28:24.413218Z"
    },
    "papermill": {
     "duration": 0.070904,
     "end_time": "2021-04-14T02:28:24.414115",
     "exception": false,
     "start_time": "2021-04-14T02:28:24.343211",
     "status": "completed"
    },
    "tags": []
   },
   "outputs": [],
   "source": [
    "mfcc_test_audio = np.asarray(mfcc_test_audio)"
   ]
  },
  {
   "cell_type": "code",
   "execution_count": 28,
   "id": "adjustable-kinase",
   "metadata": {
    "execution": {
     "iopub.execute_input": "2021-04-14T02:28:24.479228Z",
     "iopub.status.busy": "2021-04-14T02:28:24.478138Z",
     "iopub.status.idle": "2021-04-14T02:28:24.482068Z",
     "shell.execute_reply": "2021-04-14T02:28:24.481176Z"
    },
    "papermill": {
     "duration": 0.038942,
     "end_time": "2021-04-14T02:28:24.482253",
     "exception": false,
     "start_time": "2021-04-14T02:28:24.443311",
     "status": "completed"
    },
    "tags": []
   },
   "outputs": [],
   "source": [
    "mfcc_test_audio = mfcc_test_audio[:,:,:,np.newaxis]"
   ]
  },
  {
   "cell_type": "code",
   "execution_count": 29,
   "id": "rental-studio",
   "metadata": {
    "execution": {
     "iopub.execute_input": "2021-04-14T02:28:24.547213Z",
     "iopub.status.busy": "2021-04-14T02:28:24.546380Z",
     "iopub.status.idle": "2021-04-14T02:28:24.550635Z",
     "shell.execute_reply": "2021-04-14T02:28:24.551085Z"
    },
    "papermill": {
     "duration": 0.039514,
     "end_time": "2021-04-14T02:28:24.551287",
     "exception": false,
     "start_time": "2021-04-14T02:28:24.511773",
     "status": "completed"
    },
    "tags": []
   },
   "outputs": [
    {
     "data": {
      "text/plain": [
       "(200, 20, 216, 1)"
      ]
     },
     "execution_count": 29,
     "metadata": {},
     "output_type": "execute_result"
    }
   ],
   "source": [
    "mfcc_test_audio.shape"
   ]
  },
  {
   "cell_type": "code",
   "execution_count": 30,
   "id": "geological-embassy",
   "metadata": {
    "execution": {
     "iopub.execute_input": "2021-04-14T02:28:24.618851Z",
     "iopub.status.busy": "2021-04-14T02:28:24.618024Z",
     "iopub.status.idle": "2021-04-14T02:28:24.657606Z",
     "shell.execute_reply": "2021-04-14T02:28:24.658189Z"
    },
    "papermill": {
     "duration": 0.077032,
     "end_time": "2021-04-14T02:28:24.658461",
     "exception": false,
     "start_time": "2021-04-14T02:28:24.581429",
     "status": "completed"
    },
    "tags": []
   },
   "outputs": [],
   "source": [
    "for i in range(200):\n",
    "  mfcc_test_audio[i,:,:,0] = scaler.fit_transform(mfcc_test_audio[i,:,:,0])"
   ]
  },
  {
   "cell_type": "code",
   "execution_count": 31,
   "id": "nervous-mainland",
   "metadata": {
    "execution": {
     "iopub.execute_input": "2021-04-14T02:28:24.726425Z",
     "iopub.status.busy": "2021-04-14T02:28:24.725680Z",
     "iopub.status.idle": "2021-04-14T02:28:24.729308Z",
     "shell.execute_reply": "2021-04-14T02:28:24.728781Z"
    },
    "papermill": {
     "duration": 0.040015,
     "end_time": "2021-04-14T02:28:24.729493",
     "exception": false,
     "start_time": "2021-04-14T02:28:24.689478",
     "status": "completed"
    },
    "tags": []
   },
   "outputs": [],
   "source": [
    "mfcc_test_data_cat = []\n",
    "for i in range(200):\n",
    "    mfcc_test_data_cat.append((mfcc_test_audio[i],original_test_category[i]))"
   ]
  },
  {
   "cell_type": "code",
   "execution_count": 32,
   "id": "derived-rental",
   "metadata": {
    "execution": {
     "iopub.execute_input": "2021-04-14T02:28:24.795294Z",
     "iopub.status.busy": "2021-04-14T02:28:24.794535Z",
     "iopub.status.idle": "2021-04-14T02:28:24.801237Z",
     "shell.execute_reply": "2021-04-14T02:28:24.800613Z"
    },
    "papermill": {
     "duration": 0.040538,
     "end_time": "2021-04-14T02:28:24.801439",
     "exception": false,
     "start_time": "2021-04-14T02:28:24.760901",
     "status": "completed"
    },
    "tags": []
   },
   "outputs": [
    {
     "name": "stderr",
     "output_type": "stream",
     "text": [
      "/opt/conda/lib/python3.7/site-packages/numpy/core/_asarray.py:83: VisibleDeprecationWarning: Creating an ndarray from ragged nested sequences (which is a list-or-tuple of lists-or-tuples-or ndarrays with different lengths or shapes) is deprecated. If you meant to do this, you must specify 'dtype=object' when creating the ndarray\n",
      "  return array(a, dtype, copy=False, order=order)\n"
     ]
    }
   ],
   "source": [
    "mfcc_test_data_cat = np.asarray(mfcc_test_data_cat)"
   ]
  },
  {
   "cell_type": "code",
   "execution_count": 33,
   "id": "graduate-castle",
   "metadata": {
    "execution": {
     "iopub.execute_input": "2021-04-14T02:28:24.876490Z",
     "iopub.status.busy": "2021-04-14T02:28:24.868502Z",
     "iopub.status.idle": "2021-04-14T02:28:24.884873Z",
     "shell.execute_reply": "2021-04-14T02:28:24.883962Z"
    },
    "papermill": {
     "duration": 0.052683,
     "end_time": "2021-04-14T02:28:24.885055",
     "exception": false,
     "start_time": "2021-04-14T02:28:24.832372",
     "status": "completed"
    },
    "tags": []
   },
   "outputs": [],
   "source": [
    "np.save('mfcc_test_data_cat',mfcc_test_data_cat)"
   ]
  }
 ],
 "metadata": {
  "kernelspec": {
   "display_name": "Python 3",
   "language": "python",
   "name": "python3"
  },
  "language_info": {
   "codemirror_mode": {
    "name": "ipython",
    "version": 3
   },
   "file_extension": ".py",
   "mimetype": "text/x-python",
   "name": "python",
   "nbconvert_exporter": "python",
   "pygments_lexer": "ipython3",
   "version": "3.7.9"
  },
  "papermill": {
   "default_parameters": {},
   "duration": 38.504897,
   "end_time": "2021-04-14T02:28:26.031216",
   "environment_variables": {},
   "exception": null,
   "input_path": "__notebook__.ipynb",
   "output_path": "__notebook__.ipynb",
   "parameters": {},
   "start_time": "2021-04-14T02:27:47.526319",
   "version": "2.3.2"
  }
 },
 "nbformat": 4,
 "nbformat_minor": 5
}
